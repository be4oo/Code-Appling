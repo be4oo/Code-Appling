{
 "cells": [
  {
   "cell_type": "markdown",
   "metadata": {},
   "source": [
    "# (1)\n",
    "Write a function to count the frequency of each character in a string and return a dictionary ordered in descending order by frequency.\n",
    "\n",
    "> `hint`: search for `how to sort a dictionary by value in python`"
   ]
  },
  {
   "cell_type": "code",
   "execution_count": 6,
   "metadata": {},
   "outputs": [
    {
     "name": "stdout",
     "output_type": "stream",
     "text": [
      "{'l': 4, ' ': 4, 'o': 3, 'h': 2, 'e': 2, 'r': 2, '.': 2, 'n': 2, 'w': 1, 'd': 1, 'I': 1, 'a': 1, 'P': 1, 'y': 1, 't': 1}\n"
     ]
    }
   ],
   "source": [
    "def char_frequency(s):\n",
    "    frequency = {}\n",
    "    for char in s:\n",
    "        if char in frequency:\n",
    "            frequency[char] += 1\n",
    "        else:\n",
    "            frequency[char] = 1\n",
    "    \n",
    "    # Sort the dictionary by frequency in descending order\n",
    "    sorted_frequency = dict(sorted(frequency.items(), key=lambda item: item[1], reverse=True))\n",
    "    \n",
    "    return sorted_frequency\n",
    "\n",
    "# Example usage\n",
    "print(char_frequency(\"hello world. I learn Python.\"))  \n",
    "\n"
   ]
  },
  {
   "cell_type": "code",
   "execution_count": 15,
   "metadata": {},
   "outputs": [
    {
     "data": {
      "text/plain": [
       "Counter({'l': 4,\n",
       "         ' ': 4,\n",
       "         'o': 3,\n",
       "         'h': 2,\n",
       "         'e': 2,\n",
       "         'r': 2,\n",
       "         '.': 2,\n",
       "         'n': 2,\n",
       "         'w': 1,\n",
       "         'd': 1,\n",
       "         'I': 1,\n",
       "         'a': 1,\n",
       "         'P': 1,\n",
       "         'y': 1,\n",
       "         't': 1})"
      ]
     },
     "execution_count": 15,
     "metadata": {},
     "output_type": "execute_result"
    }
   ],
   "source": [
    "# import counter\n",
    "from collections import Counter, OrderedDict\n",
    "\n",
    "Counter(\"hello world. I learn Python.\")"
   ]
  },
  {
   "cell_type": "code",
   "execution_count": 24,
   "metadata": {},
   "outputs": [
    {
     "data": {
      "text/plain": [
       "{'l': 4,\n",
       " ' ': 4,\n",
       " 'o': 3,\n",
       " 'h': 2,\n",
       " 'e': 2,\n",
       " 'r': 2,\n",
       " '.': 2,\n",
       " 'n': 2,\n",
       " 'w': 1,\n",
       " 'd': 1,\n",
       " 'I': 1,\n",
       " 'a': 1,\n",
       " 'P': 1,\n",
       " 'y': 1,\n",
       " 't': 1}"
      ]
     },
     "execution_count": 24,
     "metadata": {},
     "output_type": "execute_result"
    }
   ],
   "source": [
    "dict(sorted(Counter(\"hello world. I learn Python.\").items(), key=lambda item: item[1], reverse=True))\n",
    "    "
   ]
  },
  {
   "cell_type": "markdown",
   "metadata": {},
   "source": [
    "# (2)\n",
    "Write a function to return the prime numbers in a given range."
   ]
  },
  {
   "cell_type": "code",
   "execution_count": 7,
   "metadata": {},
   "outputs": [
    {
     "name": "stdout",
     "output_type": "stream",
     "text": [
      "[11, 13, 17, 19, 23, 29, 31, 37, 41, 43, 47]\n"
     ]
    }
   ],
   "source": [
    "def is_prime(num):\n",
    "    if num < 2:\n",
    "        return False\n",
    "    for i in range(2, int(num**0.5) + 1):\n",
    "        if num % i == 0:\n",
    "            return False\n",
    "    return True\n",
    "\n",
    "def primes_in_range(start, end):\n",
    "    return list(filter(is_prime, range(start, end + 1)))\n",
    "\n",
    "# Example usage\n",
    "print(primes_in_range(10, 50))  # Output: [11, 13, 17, 19, 23, 29, 31, 37, 41, 43, 47]\n"
   ]
  },
  {
   "cell_type": "markdown",
   "metadata": {},
   "source": [
    "# (3) \n",
    "Write a function that reads a file, counts the number of lines, words, and characters in the file, and prints the result.\n"
   ]
  },
  {
   "cell_type": "code",
   "execution_count": 1,
   "metadata": {},
   "outputs": [],
   "source": [
    "def file_stats(filename):\n",
    "    with open(filename, 'r') as file:\n",
    "        lines = file.readlines()\n",
    "        num_lines = len(lines)\n",
    "        num_words = sum(len(line.split()) for line in lines)\n",
    "        num_chars = sum(len(line) for line in lines)\n",
    "    \n",
    "    print(f\"Lines: {num_lines}, Words: {num_words}, Characters: {num_chars}\")\n",
    "\n",
    "# Example usage\n",
    "# file_stats('sample.txt')\n"
   ]
  },
  {
   "cell_type": "markdown",
   "metadata": {},
   "source": [
    "# (4) \n",
    "Create a class `BankAccount` with methods to `deposit`, `withdraw`, and `check the balance`. Ensure that the account does not go negative.\n",
    "\n"
   ]
  },
  {
   "cell_type": "code",
   "execution_count": 2,
   "metadata": {},
   "outputs": [
    {
     "name": "stdout",
     "output_type": "stream",
     "text": [
      "150\n",
      "120\n",
      "120\n"
     ]
    }
   ],
   "source": [
    "class BankAccount:\n",
    "    def __init__(self, initial_balance=0):\n",
    "        self.balance = initial_balance\n",
    "    \n",
    "    def deposit(self, amount):\n",
    "        self.balance += amount\n",
    "        return self.balance\n",
    "    \n",
    "    def withdraw(self, amount):\n",
    "        if amount > self.balance:\n",
    "            return \"Insufficient funds\"\n",
    "        self.balance -= amount\n",
    "        return self.balance\n",
    "    \n",
    "    def get_balance(self):\n",
    "        return self.balance\n",
    "\n",
    "# Example usage\n",
    "account = BankAccount(100)\n",
    "print(account.deposit(50))  # Output: 150\n",
    "print(account.withdraw(30))  # Output: 120\n",
    "print(account.get_balance())  # Output: 120\n"
   ]
  },
  {
   "cell_type": "code",
   "execution_count": null,
   "metadata": {},
   "outputs": [],
   "source": []
  }
 ],
 "metadata": {
  "kernelspec": {
   "display_name": "base",
   "language": "python",
   "name": "python3"
  },
  "language_info": {
   "codemirror_mode": {
    "name": "ipython",
    "version": 3
   },
   "file_extension": ".py",
   "mimetype": "text/x-python",
   "name": "python",
   "nbconvert_exporter": "python",
   "pygments_lexer": "ipython3",
   "version": "3.11.7"
  }
 },
 "nbformat": 4,
 "nbformat_minor": 2
}
