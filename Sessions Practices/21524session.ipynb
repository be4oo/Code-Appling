{
 "cells": [
  {
   "cell_type": "code",
   "execution_count": 1,
   "metadata": {},
   "outputs": [
    {
     "name": "stdout",
     "output_type": "stream",
     "text": [
      "The area of the rectangle is: 30.0\n",
      "Old area: 30.0\n",
      "New area: 32.5\n"
     ]
    }
   ],
   "source": [
    "# Take the length of rectangle from the user\n",
    "length = float(input(\"Enter the length of the rectangle: \"))\n",
    "\n",
    "# Take the width of rectangle from the user\n",
    "width = float(input(\"Enter the width of the rectangle: \"))\n",
    "\n",
    "# Calculate the area\n",
    "area = length * width\n",
    "\n",
    "# Display the area\n",
    "print(\"The area of the rectangle is:\", area)\n",
    "\n",
    "# Increase the width of rectangle by 0.5\n",
    "new_width = width + 0.5\n",
    "\n",
    "# Recalculate the area in new variable\n",
    "new_area = length * new_width\n",
    "\n",
    "# Display the old area and new area\n",
    "print(\"Old area:\", area)\n",
    "print(\"New area:\", new_area)"
   ]
  },
  {
   "cell_type": "code",
   "execution_count": null,
   "metadata": {},
   "outputs": [],
   "source": []
  }
 ],
 "metadata": {
  "kernelspec": {
   "display_name": "Python 3",
   "language": "python",
   "name": "python3"
  },
  "language_info": {
   "codemirror_mode": {
    "name": "ipython",
    "version": 3
   },
   "file_extension": ".py",
   "mimetype": "text/x-python",
   "name": "python",
   "nbconvert_exporter": "python",
   "pygments_lexer": "ipython3",
   "version": "3.11.7"
  }
 },
 "nbformat": 4,
 "nbformat_minor": 2
}
