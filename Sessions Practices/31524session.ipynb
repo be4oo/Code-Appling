{
 "cells": [
  {
   "cell_type": "markdown",
   "metadata": {},
   "source": [
    "give me the cheatsheet that cover everything about creatring functions on python"
   ]
  },
  {
   "cell_type": "code",
   "execution_count": 8,
   "metadata": {},
   "outputs": [
    {
     "name": "stdout",
     "output_type": "stream",
     "text": [
      "False\n"
     ]
    }
   ],
   "source": [
    "def testNum(num):\n",
    "    if (num % 2) == 0:\n",
    "        print(\"True\")\n",
    "    else:\n",
    "        print(\"False\")\n",
    "\n",
    "testNum(5)"
   ]
  },
  {
   "cell_type": "markdown",
   "metadata": {},
   "source": [
    "\n",
    "Ali bought some fruits and candies (Weights in grams)\n",
    "* fruits = {'Banana': 1500, 'Orange': 1000, 'Apple': 1500}\n",
    "* candies = {'Caramels': 400, 'Chocolate': 500, 'Lollipops':750}\n",
    "1. Display fruits weight, candies weight and total weight in Kg\n",
    "2. print \"Good Boy\" if fruits weight > candies weight\n",
    "3. print \"Sugar Boy\" if fruits weight <= candies weight\n",
    "4. print \"Call a car\" if total weight > 4 Kg\n",
    "5. print \"Walk!\" if total weight <= 4 Kg\n"
   ]
  },
  {
   "cell_type": "code",
   "execution_count": 27,
   "metadata": {},
   "outputs": [
    {
     "name": "stdout",
     "output_type": "stream",
     "text": [
      "The total weight of fruits is 4.0 and the total weight of candies is 1.65 and the total weight of them are 5.65\n",
      "Good Boy\n",
      "Call a car\n"
     ]
    }
   ],
   "source": [
    "fruits = {'Banana': 1500, 'Orange': 1000, 'Apple': 1500}\n",
    "candies = {'Caramels': 400, 'Chocolate': 500, 'Lollipops':750}\n",
    "\n",
    "\n",
    "fruit_values = sum(fruits.values())/1000\n",
    "candy_values = sum(candies.values())/1000\n",
    "\n",
    "totalWeight = fruit_values+candy_values\n",
    "\n",
    "print(\"The total weight of fruits is \" + str(fruit_values) + \" and the total weight of candies is \" + str(candy_values) + \" and the total weight of them are \" + str(totalWeight))\n",
    "\n",
    "if fruit_values > candy_values:\n",
    "    print(\"Good Boy\")\n",
    "\n",
    "if fruit_values <= candy_values:\n",
    "    print(\"Suger Boy\")\n",
    "\n",
    "if totalWeight > 4:\n",
    "    print(\"Call a car\")\n",
    "else:\n",
    "    print(\"Walk!\")\n",
    "\n",
    "\n"
   ]
  },
  {
   "cell_type": "code",
   "execution_count": 39,
   "metadata": {},
   "outputs": [
    {
     "name": "stdout",
     "output_type": "stream",
     "text": [
      "zERO-gRAD.COM PRESENTS \"pYTHONIST\"\n"
     ]
    }
   ],
   "source": [
    "def swap_case(s):\n",
    "    ss = list(s)\n",
    "    for i in range(len(ss)-1):\n",
    "        if ss[i].islower():\n",
    "            ss[i] = ss[i].upper()\n",
    "        elif ss[i].isupper():\n",
    "            ss[i] = ss[i].lower()\n",
    "\n",
    "    return \"\".join(ss)\n",
    "\n",
    "print(swap_case('Zero-Grad.com presents \"Pythonist\"'))"
   ]
  },
  {
   "cell_type": "code",
   "execution_count": 43,
   "metadata": {},
   "outputs": [
    {
     "name": "stdout",
     "output_type": "stream",
     "text": [
      "zERO-gRAD.COM PRESENTS \"pYTHONIST\"\n"
     ]
    }
   ],
   "source": [
    "def swap_case(s):\n",
    "    ss = ''\n",
    "    for i in s:\n",
    "        if i.isupper():\n",
    "            ss += i.lower()\n",
    "        else:\n",
    "            ss += i.upper()\n",
    "\n",
    "    return ss\n",
    "\n",
    "print(swap_case('Zero-Grad.com presents \"Pythonist\"'))"
   ]
  },
  {
   "cell_type": "code",
   "execution_count": 28,
   "metadata": {},
   "outputs": [
    {
     "name": "stdout",
     "output_type": "stream",
     "text": [
      "zERO-gRAD.COM PRESENTS \"pYTHONIST\"\n"
     ]
    }
   ],
   "source": [
    "def swap_case(s):\n",
    "    return s.swapcase()\n",
    "\n",
    "print(swap_case('Zero-Grad.com presents \"Pythonist\"'))"
   ]
  },
  {
   "cell_type": "code",
   "execution_count": 55,
   "metadata": {},
   "outputs": [
    {
     "name": "stdout",
     "output_type": "stream",
     "text": [
      "True\n"
     ]
    }
   ],
   "source": [
    "# check if the number is prime or not\n",
    "\n",
    "def is_prime(n):\n",
    "    for i in range(2, n):\n",
    "        if n % i == 0:\n",
    "            return False\n",
    "    return True\n",
    "\n",
    "print(is_prime())\n"
   ]
  },
  {
   "cell_type": "markdown",
   "metadata": {},
   "source": [
    "Create a function to validate Passowrd\n",
    "1. Must be at least 6 characters and max. 12 letters\n",
    "2. Must include small letters\n",
    "3. Must include capital letters\n",
    "4. Must include numbers\n",
    "5. Must include symbols from(@,#,$)"
   ]
  },
  {
   "cell_type": "code",
   "execution_count": 75,
   "metadata": {},
   "outputs": [
    {
     "name": "stdout",
     "output_type": "stream",
     "text": [
      "Password is valid\n"
     ]
    }
   ],
   "source": [
    "def valiPassowrd(pw):\n",
    "    # Flags\n",
    "    minletters = maxletters = Sletter = cletter = num = symbol = False\n",
    "\n",
    "    # Must be at least 6 characters and max. 12 letters\n",
    "    if len(pw) < 6:\n",
    "        minletters = True\n",
    "    elif len(pw) > 12:\n",
    "        maxletters = True\n",
    "    \n",
    "    for i in pw:\n",
    "        # Must include small letters\n",
    "        if i.islower():\n",
    "            Sletter = True\n",
    "        # Must include capital letters\n",
    "        if i.isupper():\n",
    "            cletter = True\n",
    "        # Must include numbers\n",
    "        if i.isdigit():\n",
    "            num = True\n",
    "        # Must include symbols\n",
    "        if not i.isalnum():\n",
    "            symbol = True\n",
    "    \n",
    "\n",
    "    if  minletters:\n",
    "        print(\"Password must be at least 6 characters\")\n",
    "    if  maxletters:\n",
    "        print(\"Password must be at most 12 characters\")\n",
    "    if not Sletter:\n",
    "        print(\"Password must include small letters\")\n",
    "    if not cletter:\n",
    "        print(\"Password must include capital letters\")\n",
    "    if not num:\n",
    "        print(\"Password must include numbers\")\n",
    "    if not symbol:\n",
    "        print(\"Password must include symbols\")\n",
    "    if not minletters and not maxletters and Sletter and cletter and num and symbol:\n",
    "        print(\"Password is valid\")\n",
    "      \n",
    "\n",
    "\n",
    "\n",
    "valiPassowrd('0A5a&5003')"
   ]
  },
  {
   "cell_type": "code",
   "execution_count": null,
   "metadata": {},
   "outputs": [],
   "source": []
  }
 ],
 "metadata": {
  "kernelspec": {
   "display_name": "Python 3",
   "language": "python",
   "name": "python3"
  },
  "language_info": {
   "codemirror_mode": {
    "name": "ipython",
    "version": 3
   },
   "file_extension": ".py",
   "mimetype": "text/x-python",
   "name": "python",
   "nbconvert_exporter": "python",
   "pygments_lexer": "ipython3",
   "version": "3.11.7"
  }
 },
 "nbformat": 4,
 "nbformat_minor": 2
}
