{
 "cells": [
  {
   "cell_type": "markdown",
   "metadata": {
    "id": "WMMbeE_NPQ__"
   },
   "source": [
    "# Welcome to the practice task\n",
    "\n",
    "**Crafting Effective Prompts**\n",
    "\n",
    "In this exercise, you will practice crafting creative and effective prompts for AI models with the aim of python code generation.\n",
    "\n",
    "*Don't forget to upload your .env file in the file section.*"
   ]
  },
  {
   "cell_type": "markdown",
   "metadata": {
    "id": "sdcRDfgUPrGz"
   },
   "source": [
    "Importing the modules"
   ]
  },
  {
   "cell_type": "code",
   "execution_count": 1,
   "metadata": {
    "id": "gQTjjMa6PsQu"
   },
   "outputs": [],
   "source": [
    "import pandas as pd\n",
    "import numpy as np\n",
    "import os\n",
    "import openai\n",
    "from dotenv import load_dotenv\n",
    "import json\n",
    "import re\n",
    "import google.generativeai as genai\n",
    "\n"
   ]
  },
  {
   "cell_type": "markdown",
   "metadata": {
    "id": "DaoJrHOPPiMu"
   },
   "source": [
    "### Configure the OpenAI API"
   ]
  },
  {
   "cell_type": "code",
   "execution_count": 2,
   "metadata": {
    "colab": {
     "base_uri": "https://localhost:8080/",
     "height": 39
    },
    "id": "Yzi9dz7DPmp7",
    "outputId": "1aa5a0bc-17d9-4f27-dfbb-5510d96f6ba6"
   },
   "outputs": [],
   "source": [
    "GOOGLE_API_KEY = os.getenv('GOOGLE_API_KEY')\n",
    "# print(GOOGLE_API_KEY)  # Just to verify it works; remove or hide this line for security."
   ]
  },
  {
   "cell_type": "code",
   "execution_count": 3,
   "metadata": {},
   "outputs": [],
   "source": [
    "model = genai.GenerativeModel('gemini-pro')"
   ]
  },
  {
   "cell_type": "markdown",
   "metadata": {
    "id": "j245rLqYQ6O8"
   },
   "source": [
    "### Prompting for code generation"
   ]
  },
  {
   "cell_type": "markdown",
   "metadata": {
    "id": "HyMC9bitff5P"
   },
   "source": [
    "Here is a helper function for you."
   ]
  },
  {
   "cell_type": "code",
   "execution_count": 4,
   "metadata": {
    "id": "xJhzzU1cfly8"
   },
   "outputs": [],
   "source": [
    "def extract_code(response_content):\n",
    "    # Define a regular expression pattern to match text between triple backticks (```)\n",
    "    pattern = r'```(.*?)```'\n",
    "\n",
    "    # Use re.findall to find all non-overlapping matches of the pattern in the input string\n",
    "    matches = re.findall(pattern, response_content, re.DOTALL)\n",
    "\n",
    "    # Remove the python keyword from in the code and Return the first match found\n",
    "    return matches[0].replace(\"python\", \"\")"
   ]
  },
  {
   "cell_type": "markdown",
   "metadata": {
    "id": "2NeSFlPzfpH7"
   },
   "source": [
    "Start with a simple `user-only` prompt:\n",
    "* User: \"Return a Python function that calculates the factorial of a given value 'n'.\"\n",
    "\n",
    "Write a python code and craft your prompt and send it to the AI model and receive a response. Exract the code from the response content and print it."
   ]
  },
  {
   "cell_type": "code",
   "execution_count": 9,
   "metadata": {
    "colab": {
     "base_uri": "https://localhost:8080/"
    },
    "id": "AnPA7fJQPzoT",
    "outputId": "f789aac0-9d9c-4fcc-9424-5ef7229ef050"
   },
   "outputs": [
    {
     "name": "stdout",
     "output_type": "stream",
     "text": [
      "```python\n",
      "def factorial(n):\n",
      "    \"\"\"Calculates the factorial of a given value 'n'.\"\"\"\n",
      "    if n < 0:\n",
      "        raise ValueError(\"Factorial is undefined for negative numbers\")\n",
      "    if n == 0 or n == 1:\n",
      "        return 1\n",
      "    else:\n",
      "        return n * factorial(n - 1)\n",
      "```\n"
     ]
    }
   ],
   "source": [
    "# write your code here\n",
    "model = genai.GenerativeModel('gemini-pro')\n",
    "response = model.generate_content(\"Return a Python function that calculates the factorial of a given value 'n'.\")\n",
    "\n",
    "content = response.text\n",
    "print(content)\n",
    "\n"
   ]
  },
  {
   "cell_type": "code",
   "execution_count": 11,
   "metadata": {},
   "outputs": [
    {
     "name": "stdout",
     "output_type": "stream",
     "text": [
      "\n",
      "def factorial(n):\n",
      "    \"\"\"Calculates the factorial of a given value 'n'.\"\"\"\n",
      "    if n < 0:\n",
      "        raise ValueError(\"Factorial is undefined for negative numbers\")\n",
      "    if n == 0 or n == 1:\n",
      "        return 1\n",
      "    else:\n",
      "        return n * factorial(n - 1)\n",
      "\n"
     ]
    }
   ],
   "source": [
    "code = extract_code(content)\n",
    "\n",
    "print(code)"
   ]
  },
  {
   "cell_type": "markdown",
   "metadata": {
    "id": "cQCHVSzKRFMr"
   },
   "source": [
    "Add a system role to provide context or instructions that guide the AI's response:\n",
    "\n",
    "* User: \"Return a Python function that calculates the factorial of a given value 'n'.\"\n",
    "* System: \"You are a python code generator that only returns functions in object oriented style.\"\n",
    "\n",
    "Write a python code to craft your prompt and send it to the AI model and receive a response"
   ]
  },
  {
   "cell_type": "code",
   "execution_count": 12,
   "metadata": {
    "colab": {
     "base_uri": "https://localhost:8080/"
    },
    "id": "5b_QNbXFRN71",
    "outputId": "533aeb84-19f8-4e44-929f-05e39557ae17"
   },
   "outputs": [
    {
     "name": "stdout",
     "output_type": "stream",
     "text": [
      "```python\n",
      "class FactorialCalculator:\n",
      "    def calculate_factorial(self, n):\n",
      "        \"\"\"Calculates the factorial of a given value 'n'.\n",
      "\n",
      "        Args:\n",
      "            n: The value to calculate the factorial of.\n",
      "\n",
      "        Returns:\n",
      "            The factorial of 'n'.\n",
      "        \"\"\"\n",
      "\n",
      "        if n == 0:\n",
      "            return 1\n",
      "        else:\n",
      "            return n * self.calculate_factorial(n - 1)\n",
      "```\n"
     ]
    }
   ],
   "source": [
    "# write your code here\n",
    "\n",
    "# Define the system and user messages\n",
    "system_message = \"You are a python code generator that only returns functions in object oriented style.\"\n",
    "user_message = \"Return a Python function that calculates the factorial of a given value 'n'.\"\n",
    "\n",
    "# Create the chat\n",
    "chat = model.start_chat(history=[\n",
    "    {'role': 'user', 'parts': [system_message]},\n",
    "    {'role': 'model', 'parts': [\"Understood. I'll provide vegetarian versions of dishes and keep it concise.\"]}\n",
    "])\n",
    "\n",
    "# Generate the response\n",
    "response = chat.send_message(user_message)\n",
    "\n",
    "# Print the response\n",
    "content = response.text\n",
    "print(content)"
   ]
  },
  {
   "cell_type": "code",
   "execution_count": 13,
   "metadata": {},
   "outputs": [
    {
     "name": "stdout",
     "output_type": "stream",
     "text": [
      "\n",
      "class FactorialCalculator:\n",
      "    def calculate_factorial(self, n):\n",
      "        \"\"\"Calculates the factorial of a given value 'n'.\n",
      "\n",
      "        Args:\n",
      "            n: The value to calculate the factorial of.\n",
      "\n",
      "        Returns:\n",
      "            The factorial of 'n'.\n",
      "        \"\"\"\n",
      "\n",
      "        if n == 0:\n",
      "            return 1\n",
      "        else:\n",
      "            return n * self.calculate_factorial(n - 1)\n",
      "\n"
     ]
    }
   ],
   "source": [
    "code = extract_code(content)\n",
    "\n",
    "print(code)"
   ]
  },
  {
   "cell_type": "markdown",
   "metadata": {
    "id": "ghooAXYDWPZI"
   },
   "source": [
    " -----\n",
    "🤔 Think about the differences in the AI responses between the `user-only` and `user-system` prompts."
   ]
  }
 ],
 "metadata": {
  "colab": {
   "provenance": []
  },
  "kernelspec": {
   "display_name": "Python 3 (ipykernel)",
   "language": "python",
   "name": "python3"
  },
  "language_info": {
   "codemirror_mode": {
    "name": "ipython",
    "version": 3
   },
   "file_extension": ".py",
   "mimetype": "text/x-python",
   "name": "python",
   "nbconvert_exporter": "python",
   "pygments_lexer": "ipython3",
   "version": "3.11.7"
  }
 },
 "nbformat": 4,
 "nbformat_minor": 4
}
