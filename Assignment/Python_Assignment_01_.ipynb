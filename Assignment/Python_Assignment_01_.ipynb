{
 "cells": [
  {
   "cell_type": "markdown",
   "metadata": {},
   "source": [
    "# Assignment01_1"
   ]
  },
  {
   "cell_type": "markdown",
   "metadata": {},
   "source": [
    "## Data Description\n",
    "\n",
    "You can get the data from Kaggle: https://www.kaggle.com/competitions/titanic\n",
    "\n",
    "| Feature | Definition | Key |\n",
    "|---|---|---|\n",
    "| PassengerId | Unique ID of the passenger | |\n",
    "| Survived | Survival | 0 = No, 1 = Yes |\n",
    "| Pclass | Ticket class | 1 = 1st, 2 = 2nd, 3 = 3rd |\n",
    "| Name | Name of the passenger | |\n",
    "| Sex | Sex | |\n",
    "| Age | Age in years | |\n",
    "| SibSp | # of siblings / spouses aboard the Titanic | |\n",
    "| Parch | # of parents/children aboard the Titanic | |\n",
    "| Ticket | Ticket number | |\n",
    "| Fare | Passenger fare | |\n",
    "| Cabin | Cabin number | |\n",
    "| Embarked | Port of Embarkation | C = Cherbourg, Q = Queenstown, S = Southampton |\n"
   ]
  },
  {
   "cell_type": "markdown",
   "metadata": {},
   "source": [
    "# Assignment01_2"
   ]
  },
  {
   "cell_type": "markdown",
   "metadata": {},
   "source": [
    "### Data Dictionary\n",
    "\n",
    "- **`pclass:`** A proxy for socio-economic status (SES)\n",
    "    - 1st = Upper\n",
    "    - 2nd = Middle\n",
    "    - 3rd = Lower\n",
    "\n",
    "- **`age:`** Age is fractional if less than 1. If the age is estimated, it is in the form of xx.5\n",
    "\n",
    "- **`sibsp:`** The dataset defines family relations in this way...\n",
    "    - Sibling = brother, sister, stepbrother, stepsister\n",
    "    - Spouse = husband, wife (mistresses and fiancés were ignored)\n",
    "\n",
    "- **`parch:`** The dataset defines family relations in this way...\n",
    "    - Parent = mother, father\n",
    "    - Child = daughter, son, stepdaughter, stepson\n",
    "    - Some children travelled only with a nanny, therefore parch=0 for them.\n"
   ]
  },
  {
   "cell_type": "markdown",
   "metadata": {},
   "source": [
    "# Assignment01_3"
   ]
  },
  {
   "cell_type": "markdown",
   "metadata": {},
   "source": [
    "### Take from the user: First Name"
   ]
  },
  {
   "cell_type": "code",
   "execution_count": 17,
   "metadata": {},
   "outputs": [
    {
     "name": "stdout",
     "output_type": "stream",
     "text": [
      "Please Enter Your First Name: Beshoy\n"
     ]
    }
   ],
   "source": [
    "FirstName = input('please Enter Your First Name:')\n",
    "print('Please Enter Your First Name: ' + FirstName)"
   ]
  },
  {
   "cell_type": "markdown",
   "metadata": {},
   "source": [
    "### Take from the user: Last Name"
   ]
  },
  {
   "cell_type": "code",
   "execution_count": 22,
   "metadata": {},
   "outputs": [
    {
     "name": "stdout",
     "output_type": "stream",
     "text": [
      "Please Enter Your Last Name: Wesa\n"
     ]
    }
   ],
   "source": [
    "LastName = input()\n",
    "print('Please Enter Your Last Name: ' + LastName)"
   ]
  },
  {
   "cell_type": "markdown",
   "metadata": {},
   "source": [
    "### Take from the user: Last 4 digits of Mobile Number"
   ]
  },
  {
   "cell_type": "code",
   "execution_count": 23,
   "metadata": {},
   "outputs": [
    {
     "name": "stdout",
     "output_type": "stream",
     "text": [
      "Please enter the last a digits from your nobile number: 1234\n"
     ]
    }
   ],
   "source": [
    "Last4DofMobileNumber = input()\n",
    "print('Please enter the last a digits from your nobile number: ' + Last4DofMobileNumber)"
   ]
  },
  {
   "cell_type": "markdown",
   "metadata": {},
   "source": [
    "### Display: Full Name"
   ]
  },
  {
   "cell_type": "code",
   "execution_count": 5,
   "metadata": {},
   "outputs": [
    {
     "name": "stdout",
     "output_type": "stream",
     "text": [
      "Beshoy Ageeb\n"
     ]
    }
   ],
   "source": [
    "print(FirstName + ' ' + LastName)"
   ]
  },
  {
   "cell_type": "markdown",
   "metadata": {},
   "source": [
    "### Display: User Password"
   ]
  },
  {
   "cell_type": "code",
   "execution_count": 6,
   "metadata": {},
   "outputs": [
    {
     "name": "stdout",
     "output_type": "stream",
     "text": [
      "st-1234\n"
     ]
    }
   ],
   "source": [
    "print('st' + '-' + Last4DofMobileNumber)"
   ]
  }
 ],
 "metadata": {
  "kernelspec": {
   "display_name": "Python 3",
   "language": "python",
   "name": "python3"
  },
  "language_info": {
   "codemirror_mode": {
    "name": "ipython",
    "version": 3
   },
   "file_extension": ".py",
   "mimetype": "text/x-python",
   "name": "python",
   "nbconvert_exporter": "python",
   "pygments_lexer": "ipython3",
   "version": "3.12.2"
  }
 },
 "nbformat": 4,
 "nbformat_minor": 2
}
