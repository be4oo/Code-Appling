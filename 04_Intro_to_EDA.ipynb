{
  "cells": [
    {
      "cell_type": "markdown",
      "metadata": {
        "id": "view-in-github",
        "colab_type": "text"
      },
      "source": [
        "<a href=\"https://colab.research.google.com/github/be4oo/IBM_Data_Science_Code_Appling/blob/main/04_Intro_to_EDA.ipynb\" target=\"_parent\"><img src=\"https://colab.research.google.com/assets/colab-badge.svg\" alt=\"Open In Colab\"/></a>"
      ]
    },
    {
      "cell_type": "markdown",
      "metadata": {
        "id": "w3jc9s9U9F__"
      },
      "source": [
        "# Import Libraries"
      ]
    },
    {
      "cell_type": "code",
      "execution_count": 2,
      "metadata": {
        "id": "TpjmW7S2CmvG"
      },
      "outputs": [],
      "source": [
        "import numpy as np\n",
        "import pandas as pd\n",
        "import matplotlib.pyplot as plt\n",
        "import seaborn as sns\n",
        "sns.set()"
      ]
    },
    {
      "cell_type": "markdown",
      "metadata": {
        "id": "4Ija5ONSDbhM"
      },
      "source": [
        "# Pandas"
      ]
    },
    {
      "cell_type": "markdown",
      "metadata": {
        "id": "oqDWGbmyOppz"
      },
      "source": [
        "![](https://www.datasciencemadesimple.com/wp-content/uploads/2020/05/create-series-in-python-pandas-0.png)\n",
        "\n",
        "Image credit: [datasciencemadesimple](https://www.datasciencemadesimple.com/create-series-in-python-pandas/)"
      ]
    },
    {
      "cell_type": "code",
      "execution_count": 3,
      "metadata": {
        "colab": {
          "base_uri": "https://localhost:8080/"
        },
        "id": "r9NU6fmKFwBu",
        "outputId": "4d1101f4-c956-4207-b514-43831ead8f9b"
      },
      "outputs": [
        {
          "output_type": "execute_result",
          "data": {
            "text/plain": [
              "a    1.0\n",
              "b    2.5\n",
              "c    3.0\n",
              "dtype: float64"
            ]
          },
          "metadata": {},
          "execution_count": 3
        }
      ],
      "source": [
        "arr = np.array([1,2.5,3])\n",
        "cols = list('abc')  # ['a', 'b', 'c']\n",
        "s = pd.Series(arr, index=cols)\n",
        "s"
      ]
    },
    {
      "cell_type": "code",
      "execution_count": null,
      "metadata": {
        "colab": {
          "base_uri": "https://localhost:8080/"
        },
        "id": "OnjmeT8LGn7a",
        "outputId": "ad5490bb-0351-4ee2-ba61-3638be5a924c"
      },
      "outputs": [
        {
          "data": {
            "text/plain": [
              "a    1\n",
              "b    2\n",
              "c    3\n",
              "dtype: int64"
            ]
          },
          "execution_count": 4,
          "metadata": {},
          "output_type": "execute_result"
        }
      ],
      "source": [
        "dic = {'a':1, 'b':2, 'c':3}\n",
        "pd.Series(dic)"
      ]
    },
    {
      "cell_type": "code",
      "execution_count": null,
      "metadata": {
        "id": "TmKjiP6CnLNN",
        "outputId": "c6b7ffc1-65c6-441e-f14d-18833c021a9f"
      },
      "outputs": [
        {
          "data": {
            "text/html": [
              "<div>\n",
              "<style scoped>\n",
              "    .dataframe tbody tr th:only-of-type {\n",
              "        vertical-align: middle;\n",
              "    }\n",
              "\n",
              "    .dataframe tbody tr th {\n",
              "        vertical-align: top;\n",
              "    }\n",
              "\n",
              "    .dataframe thead th {\n",
              "        text-align: right;\n",
              "    }\n",
              "</style>\n",
              "<table border=\"1\" class=\"dataframe\">\n",
              "  <thead>\n",
              "    <tr style=\"text-align: right;\">\n",
              "      <th></th>\n",
              "      <th>a</th>\n",
              "      <th>b</th>\n",
              "      <th>c</th>\n",
              "    </tr>\n",
              "  </thead>\n",
              "  <tbody>\n",
              "    <tr>\n",
              "      <th>0</th>\n",
              "      <td>1</td>\n",
              "      <td>2</td>\n",
              "      <td>3</td>\n",
              "    </tr>\n",
              "    <tr>\n",
              "      <th>1</th>\n",
              "      <td>4</td>\n",
              "      <td>5</td>\n",
              "      <td>6</td>\n",
              "    </tr>\n",
              "  </tbody>\n",
              "</table>\n",
              "</div>"
            ],
            "text/plain": [
              "   a  b  c\n",
              "0  1  2  3\n",
              "1  4  5  6"
            ]
          },
          "execution_count": 5,
          "metadata": {},
          "output_type": "execute_result"
        }
      ],
      "source": [
        "arr= np.array([[1,2,3],\n",
        "               [4,5,6]])\n",
        "pd.DataFrame(arr, columns=list('abc'))"
      ]
    },
    {
      "cell_type": "code",
      "execution_count": null,
      "metadata": {
        "colab": {
          "base_uri": "https://localhost:8080/",
          "height": 112
        },
        "id": "mv6BF_e1HEUq",
        "outputId": "e1008d0a-d0df-45cd-a183-dbc8400b5dfe"
      },
      "outputs": [
        {
          "data": {
            "text/html": [
              "<div>\n",
              "<style scoped>\n",
              "    .dataframe tbody tr th:only-of-type {\n",
              "        vertical-align: middle;\n",
              "    }\n",
              "\n",
              "    .dataframe tbody tr th {\n",
              "        vertical-align: top;\n",
              "    }\n",
              "\n",
              "    .dataframe thead th {\n",
              "        text-align: right;\n",
              "    }\n",
              "</style>\n",
              "<table border=\"1\" class=\"dataframe\">\n",
              "  <thead>\n",
              "    <tr style=\"text-align: right;\">\n",
              "      <th></th>\n",
              "      <th>a</th>\n",
              "      <th>b</th>\n",
              "      <th>c</th>\n",
              "    </tr>\n",
              "  </thead>\n",
              "  <tbody>\n",
              "    <tr>\n",
              "      <th>100</th>\n",
              "      <td>1</td>\n",
              "      <td>2</td>\n",
              "      <td>3</td>\n",
              "    </tr>\n",
              "    <tr>\n",
              "      <th>101</th>\n",
              "      <td>4</td>\n",
              "      <td>5</td>\n",
              "      <td>6</td>\n",
              "    </tr>\n",
              "  </tbody>\n",
              "</table>\n",
              "</div>"
            ],
            "text/plain": [
              "     a  b  c\n",
              "100  1  2  3\n",
              "101  4  5  6"
            ]
          },
          "execution_count": 6,
          "metadata": {},
          "output_type": "execute_result"
        }
      ],
      "source": [
        "arr= np.array([[1,2,3],\n",
        "               [4,5,6]])\n",
        "pd.DataFrame(arr, columns=list('abc'), index=[100,101])"
      ]
    },
    {
      "cell_type": "code",
      "execution_count": null,
      "metadata": {
        "colab": {
          "base_uri": "https://localhost:8080/",
          "height": 81
        },
        "id": "uVzYEzj0MrYZ",
        "outputId": "746e60a2-2468-4d22-94bb-336624b218b5"
      },
      "outputs": [
        {
          "data": {
            "text/html": [
              "<div>\n",
              "<style scoped>\n",
              "    .dataframe tbody tr th:only-of-type {\n",
              "        vertical-align: middle;\n",
              "    }\n",
              "\n",
              "    .dataframe tbody tr th {\n",
              "        vertical-align: top;\n",
              "    }\n",
              "\n",
              "    .dataframe thead th {\n",
              "        text-align: right;\n",
              "    }\n",
              "</style>\n",
              "<table border=\"1\" class=\"dataframe\">\n",
              "  <thead>\n",
              "    <tr style=\"text-align: right;\">\n",
              "      <th></th>\n",
              "      <th>a</th>\n",
              "      <th>b</th>\n",
              "      <th>c</th>\n",
              "    </tr>\n",
              "  </thead>\n",
              "  <tbody>\n",
              "    <tr>\n",
              "      <th>0</th>\n",
              "      <td>1</td>\n",
              "      <td>2</td>\n",
              "      <td>3</td>\n",
              "    </tr>\n",
              "  </tbody>\n",
              "</table>\n",
              "</div>"
            ],
            "text/plain": [
              "   a  b  c\n",
              "0  1  2  3"
            ]
          },
          "execution_count": 7,
          "metadata": {},
          "output_type": "execute_result"
        }
      ],
      "source": [
        "dic = {'a':1, 'b':2, 'c':3}\n",
        "pd.DataFrame(dic, index=range(0,1))"
      ]
    },
    {
      "cell_type": "code",
      "execution_count": null,
      "metadata": {
        "id": "L3EGtazmnLNN",
        "outputId": "daa5d93f-c270-4b1e-9eef-f1768dbce53e"
      },
      "outputs": [
        {
          "data": {
            "text/plain": [
              "array([['1.1', '21', '39343', 'Egypt'],\n",
              "       ['1.3', '21.5', '46205', 'Libya'],\n",
              "       ['1.5', '21.7', '37731', 'UAE'],\n",
              "       ['2', '22', '43525', 'Egypt'],\n",
              "       ['2.2', '22.2', '39891', 'UAE'],\n",
              "       ['2.9', '23', '56642', 'UAE'],\n",
              "       ['3', '23', '60150', 'Egypt']], dtype='<U32')"
            ]
          },
          "execution_count": 8,
          "metadata": {},
          "output_type": "execute_result"
        }
      ],
      "source": [
        "data = np.array([[1.1,21,39343,'Egypt'],\n",
        "          [1.3,21.5,46205,'Libya'],\n",
        "          [1.5,21.7,37731,'UAE'],\n",
        "          [2,22,43525,'Egypt'],\n",
        "          [2.2,22.2,39891,'UAE'],\n",
        "          [2.9,23,56642,'UAE'],\n",
        "          [3,23,60150,'Egypt']])\n",
        "data"
      ]
    },
    {
      "cell_type": "code",
      "execution_count": null,
      "metadata": {
        "id": "keBVS03ynLNO",
        "outputId": "aac500f3-fca5-4664-be74-13e66370879f"
      },
      "outputs": [
        {
          "data": {
            "text/html": [
              "<div>\n",
              "<style scoped>\n",
              "    .dataframe tbody tr th:only-of-type {\n",
              "        vertical-align: middle;\n",
              "    }\n",
              "\n",
              "    .dataframe tbody tr th {\n",
              "        vertical-align: top;\n",
              "    }\n",
              "\n",
              "    .dataframe thead th {\n",
              "        text-align: right;\n",
              "    }\n",
              "</style>\n",
              "<table border=\"1\" class=\"dataframe\">\n",
              "  <thead>\n",
              "    <tr style=\"text-align: right;\">\n",
              "      <th></th>\n",
              "      <th>YearsExperience</th>\n",
              "      <th>Age</th>\n",
              "      <th>Salary</th>\n",
              "      <th>Country</th>\n",
              "    </tr>\n",
              "  </thead>\n",
              "  <tbody>\n",
              "    <tr>\n",
              "      <th>0</th>\n",
              "      <td>1.1</td>\n",
              "      <td>21</td>\n",
              "      <td>39343</td>\n",
              "      <td>Egypt</td>\n",
              "    </tr>\n",
              "    <tr>\n",
              "      <th>1</th>\n",
              "      <td>1.3</td>\n",
              "      <td>21.5</td>\n",
              "      <td>46205</td>\n",
              "      <td>Libya</td>\n",
              "    </tr>\n",
              "    <tr>\n",
              "      <th>2</th>\n",
              "      <td>1.5</td>\n",
              "      <td>21.7</td>\n",
              "      <td>37731</td>\n",
              "      <td>UAE</td>\n",
              "    </tr>\n",
              "    <tr>\n",
              "      <th>3</th>\n",
              "      <td>2</td>\n",
              "      <td>22</td>\n",
              "      <td>43525</td>\n",
              "      <td>Egypt</td>\n",
              "    </tr>\n",
              "    <tr>\n",
              "      <th>4</th>\n",
              "      <td>2.2</td>\n",
              "      <td>22.2</td>\n",
              "      <td>39891</td>\n",
              "      <td>UAE</td>\n",
              "    </tr>\n",
              "    <tr>\n",
              "      <th>5</th>\n",
              "      <td>2.9</td>\n",
              "      <td>23</td>\n",
              "      <td>56642</td>\n",
              "      <td>UAE</td>\n",
              "    </tr>\n",
              "    <tr>\n",
              "      <th>6</th>\n",
              "      <td>3</td>\n",
              "      <td>23</td>\n",
              "      <td>60150</td>\n",
              "      <td>Egypt</td>\n",
              "    </tr>\n",
              "  </tbody>\n",
              "</table>\n",
              "</div>"
            ],
            "text/plain": [
              "  YearsExperience   Age Salary Country\n",
              "0             1.1    21  39343   Egypt\n",
              "1             1.3  21.5  46205   Libya\n",
              "2             1.5  21.7  37731     UAE\n",
              "3               2    22  43525   Egypt\n",
              "4             2.2  22.2  39891     UAE\n",
              "5             2.9    23  56642     UAE\n",
              "6               3    23  60150   Egypt"
            ]
          },
          "execution_count": 9,
          "metadata": {},
          "output_type": "execute_result"
        }
      ],
      "source": [
        "df = pd.DataFrame(data, columns=['YearsExperience', 'Age', 'Salary', 'Country'])\n",
        "df"
      ]
    },
    {
      "cell_type": "code",
      "execution_count": null,
      "metadata": {
        "id": "HKuMnvlQnLNO",
        "outputId": "abeec292-8f28-415b-f4b5-aa54a37eaaf6"
      },
      "outputs": [
        {
          "data": {
            "text/html": [
              "<div>\n",
              "<style scoped>\n",
              "    .dataframe tbody tr th:only-of-type {\n",
              "        vertical-align: middle;\n",
              "    }\n",
              "\n",
              "    .dataframe tbody tr th {\n",
              "        vertical-align: top;\n",
              "    }\n",
              "\n",
              "    .dataframe thead th {\n",
              "        text-align: right;\n",
              "    }\n",
              "</style>\n",
              "<table border=\"1\" class=\"dataframe\">\n",
              "  <thead>\n",
              "    <tr style=\"text-align: right;\">\n",
              "      <th></th>\n",
              "      <th>YearsExperience</th>\n",
              "      <th>Age</th>\n",
              "      <th>Salary</th>\n",
              "      <th>Country</th>\n",
              "    </tr>\n",
              "  </thead>\n",
              "  <tbody>\n",
              "    <tr>\n",
              "      <th>0</th>\n",
              "      <td>1.1</td>\n",
              "      <td>21.0</td>\n",
              "      <td>39343</td>\n",
              "      <td>Egypt</td>\n",
              "    </tr>\n",
              "    <tr>\n",
              "      <th>1</th>\n",
              "      <td>1.3</td>\n",
              "      <td>21.5</td>\n",
              "      <td>46205</td>\n",
              "      <td>Libya</td>\n",
              "    </tr>\n",
              "    <tr>\n",
              "      <th>2</th>\n",
              "      <td>1.5</td>\n",
              "      <td>21.7</td>\n",
              "      <td>37731</td>\n",
              "      <td>UAE</td>\n",
              "    </tr>\n",
              "    <tr>\n",
              "      <th>3</th>\n",
              "      <td>2.0</td>\n",
              "      <td>22.0</td>\n",
              "      <td>43525</td>\n",
              "      <td>Egypt</td>\n",
              "    </tr>\n",
              "    <tr>\n",
              "      <th>4</th>\n",
              "      <td>2.2</td>\n",
              "      <td>22.2</td>\n",
              "      <td>39891</td>\n",
              "      <td>UAE</td>\n",
              "    </tr>\n",
              "    <tr>\n",
              "      <th>5</th>\n",
              "      <td>2.9</td>\n",
              "      <td>23.0</td>\n",
              "      <td>56642</td>\n",
              "      <td>UAE</td>\n",
              "    </tr>\n",
              "    <tr>\n",
              "      <th>6</th>\n",
              "      <td>3.0</td>\n",
              "      <td>23.0</td>\n",
              "      <td>60150</td>\n",
              "      <td>Egypt</td>\n",
              "    </tr>\n",
              "  </tbody>\n",
              "</table>\n",
              "</div>"
            ],
            "text/plain": [
              "   YearsExperience   Age  Salary Country\n",
              "0              1.1  21.0   39343   Egypt\n",
              "1              1.3  21.5   46205   Libya\n",
              "2              1.5  21.7   37731     UAE\n",
              "3              2.0  22.0   43525   Egypt\n",
              "4              2.2  22.2   39891     UAE\n",
              "5              2.9  23.0   56642     UAE\n",
              "6              3.0  23.0   60150   Egypt"
            ]
          },
          "execution_count": 10,
          "metadata": {},
          "output_type": "execute_result"
        }
      ],
      "source": [
        "dic = {'YearsExperience': [1.1, 1.3, 1.5, 2, 2.2, 2.9, 3],\n",
        "       'Age': [21, 21.5, 21.7, 22, 22.2, 23, 23],\n",
        "       'Salary': [39343, 46205, 37731, 43525, 39891, 56642, 60150],\n",
        "       'Country': ['Egypt', 'Libya', 'UAE', 'Egypt', 'UAE', 'UAE', 'Egypt']}\n",
        "\n",
        "pd.DataFrame(dic)"
      ]
    },
    {
      "cell_type": "markdown",
      "metadata": {
        "id": "PQaTLwmZ22pe"
      },
      "source": [
        "# Data Reading and Exploring"
      ]
    },
    {
      "cell_type": "code",
      "execution_count": null,
      "metadata": {
        "colab": {
          "base_uri": "https://localhost:8080/",
          "height": 206
        },
        "id": "HG5GQKqK8lKR",
        "outputId": "d1975801-61c2-4ee3-ecee-2c466c8eeb44"
      },
      "outputs": [
        {
          "data": {
            "text/html": [
              "<div>\n",
              "<style scoped>\n",
              "    .dataframe tbody tr th:only-of-type {\n",
              "        vertical-align: middle;\n",
              "    }\n",
              "\n",
              "    .dataframe tbody tr th {\n",
              "        vertical-align: top;\n",
              "    }\n",
              "\n",
              "    .dataframe thead th {\n",
              "        text-align: right;\n",
              "    }\n",
              "</style>\n",
              "<table border=\"1\" class=\"dataframe\">\n",
              "  <thead>\n",
              "    <tr style=\"text-align: right;\">\n",
              "      <th></th>\n",
              "      <th>YearsExperience</th>\n",
              "      <th>Age</th>\n",
              "      <th>Salary</th>\n",
              "      <th>Country</th>\n",
              "    </tr>\n",
              "  </thead>\n",
              "  <tbody>\n",
              "    <tr>\n",
              "      <th>0</th>\n",
              "      <td>1.1</td>\n",
              "      <td>21.0</td>\n",
              "      <td>39343</td>\n",
              "      <td>Egypt</td>\n",
              "    </tr>\n",
              "    <tr>\n",
              "      <th>1</th>\n",
              "      <td>1.3</td>\n",
              "      <td>21.5</td>\n",
              "      <td>46205</td>\n",
              "      <td>Libya</td>\n",
              "    </tr>\n",
              "    <tr>\n",
              "      <th>2</th>\n",
              "      <td>1.5</td>\n",
              "      <td>21.7</td>\n",
              "      <td>37731</td>\n",
              "      <td>UAE</td>\n",
              "    </tr>\n",
              "    <tr>\n",
              "      <th>3</th>\n",
              "      <td>2.0</td>\n",
              "      <td>22.0</td>\n",
              "      <td>43525</td>\n",
              "      <td>Egypt</td>\n",
              "    </tr>\n",
              "    <tr>\n",
              "      <th>4</th>\n",
              "      <td>2.2</td>\n",
              "      <td>22.2</td>\n",
              "      <td>39891</td>\n",
              "      <td>UAE</td>\n",
              "    </tr>\n",
              "    <tr>\n",
              "      <th>5</th>\n",
              "      <td>2.9</td>\n",
              "      <td>23.0</td>\n",
              "      <td>56642</td>\n",
              "      <td>UAE</td>\n",
              "    </tr>\n",
              "    <tr>\n",
              "      <th>6</th>\n",
              "      <td>3.0</td>\n",
              "      <td>23.0</td>\n",
              "      <td>60150</td>\n",
              "      <td>Egypt</td>\n",
              "    </tr>\n",
              "    <tr>\n",
              "      <th>7</th>\n",
              "      <td>3.2</td>\n",
              "      <td>23.3</td>\n",
              "      <td>54445</td>\n",
              "      <td>NaN</td>\n",
              "    </tr>\n",
              "    <tr>\n",
              "      <th>8</th>\n",
              "      <td>3.2</td>\n",
              "      <td>23.3</td>\n",
              "      <td>64445</td>\n",
              "      <td>Libya</td>\n",
              "    </tr>\n",
              "    <tr>\n",
              "      <th>9</th>\n",
              "      <td>3.7</td>\n",
              "      <td>23.6</td>\n",
              "      <td>57189</td>\n",
              "      <td>UAE</td>\n",
              "    </tr>\n",
              "    <tr>\n",
              "      <th>10</th>\n",
              "      <td>3.9</td>\n",
              "      <td>23.9</td>\n",
              "      <td>63218</td>\n",
              "      <td>Egypt</td>\n",
              "    </tr>\n",
              "    <tr>\n",
              "      <th>11</th>\n",
              "      <td>4.0</td>\n",
              "      <td>24.0</td>\n",
              "      <td>55794</td>\n",
              "      <td>KSA</td>\n",
              "    </tr>\n",
              "    <tr>\n",
              "      <th>12</th>\n",
              "      <td>4.0</td>\n",
              "      <td>24.0</td>\n",
              "      <td>56957</td>\n",
              "      <td>KSA</td>\n",
              "    </tr>\n",
              "    <tr>\n",
              "      <th>13</th>\n",
              "      <td>4.1</td>\n",
              "      <td>24.0</td>\n",
              "      <td>57081</td>\n",
              "      <td>UAE</td>\n",
              "    </tr>\n",
              "    <tr>\n",
              "      <th>14</th>\n",
              "      <td>4.5</td>\n",
              "      <td>25.0</td>\n",
              "      <td>61111</td>\n",
              "      <td>Egypt</td>\n",
              "    </tr>\n",
              "    <tr>\n",
              "      <th>15</th>\n",
              "      <td>4.9</td>\n",
              "      <td>25.0</td>\n",
              "      <td>67938</td>\n",
              "      <td>KSA</td>\n",
              "    </tr>\n",
              "    <tr>\n",
              "      <th>16</th>\n",
              "      <td>5.1</td>\n",
              "      <td>26.0</td>\n",
              "      <td>66029</td>\n",
              "      <td>UAE</td>\n",
              "    </tr>\n",
              "    <tr>\n",
              "      <th>17</th>\n",
              "      <td>5.3</td>\n",
              "      <td>27.0</td>\n",
              "      <td>83088</td>\n",
              "      <td>KSA</td>\n",
              "    </tr>\n",
              "    <tr>\n",
              "      <th>18</th>\n",
              "      <td>5.9</td>\n",
              "      <td>28.0</td>\n",
              "      <td>81363</td>\n",
              "      <td>Egypt</td>\n",
              "    </tr>\n",
              "    <tr>\n",
              "      <th>19</th>\n",
              "      <td>6.0</td>\n",
              "      <td>29.0</td>\n",
              "      <td>93940</td>\n",
              "      <td>KSA</td>\n",
              "    </tr>\n",
              "    <tr>\n",
              "      <th>20</th>\n",
              "      <td>6.8</td>\n",
              "      <td>30.0</td>\n",
              "      <td>91738</td>\n",
              "      <td>UAE</td>\n",
              "    </tr>\n",
              "    <tr>\n",
              "      <th>21</th>\n",
              "      <td>7.1</td>\n",
              "      <td>30.0</td>\n",
              "      <td>98273</td>\n",
              "      <td>KSA</td>\n",
              "    </tr>\n",
              "    <tr>\n",
              "      <th>22</th>\n",
              "      <td>7.9</td>\n",
              "      <td>31.0</td>\n",
              "      <td>101302</td>\n",
              "      <td>Egypt</td>\n",
              "    </tr>\n",
              "    <tr>\n",
              "      <th>23</th>\n",
              "      <td>8.2</td>\n",
              "      <td>32.0</td>\n",
              "      <td>113812</td>\n",
              "      <td>UAE</td>\n",
              "    </tr>\n",
              "    <tr>\n",
              "      <th>24</th>\n",
              "      <td>8.7</td>\n",
              "      <td>33.0</td>\n",
              "      <td>109431</td>\n",
              "      <td>KSA</td>\n",
              "    </tr>\n",
              "    <tr>\n",
              "      <th>25</th>\n",
              "      <td>9.0</td>\n",
              "      <td>34.0</td>\n",
              "      <td>105582</td>\n",
              "      <td>Libya</td>\n",
              "    </tr>\n",
              "    <tr>\n",
              "      <th>26</th>\n",
              "      <td>9.5</td>\n",
              "      <td>35.0</td>\n",
              "      <td>116969</td>\n",
              "      <td>UAE</td>\n",
              "    </tr>\n",
              "    <tr>\n",
              "      <th>27</th>\n",
              "      <td>9.6</td>\n",
              "      <td>36.0</td>\n",
              "      <td>112635</td>\n",
              "      <td>Egypt</td>\n",
              "    </tr>\n",
              "    <tr>\n",
              "      <th>28</th>\n",
              "      <td>10.3</td>\n",
              "      <td>37.0</td>\n",
              "      <td>122391</td>\n",
              "      <td>KSA</td>\n",
              "    </tr>\n",
              "    <tr>\n",
              "      <th>29</th>\n",
              "      <td>10.5</td>\n",
              "      <td>38.0</td>\n",
              "      <td>121872</td>\n",
              "      <td>KSA</td>\n",
              "    </tr>\n",
              "  </tbody>\n",
              "</table>\n",
              "</div>"
            ],
            "text/plain": [
              "    YearsExperience   Age  Salary Country\n",
              "0               1.1  21.0   39343   Egypt\n",
              "1               1.3  21.5   46205   Libya\n",
              "2               1.5  21.7   37731     UAE\n",
              "3               2.0  22.0   43525   Egypt\n",
              "4               2.2  22.2   39891     UAE\n",
              "5               2.9  23.0   56642     UAE\n",
              "6               3.0  23.0   60150   Egypt\n",
              "7               3.2  23.3   54445     NaN\n",
              "8               3.2  23.3   64445   Libya\n",
              "9               3.7  23.6   57189     UAE\n",
              "10              3.9  23.9   63218   Egypt\n",
              "11              4.0  24.0   55794     KSA\n",
              "12              4.0  24.0   56957     KSA\n",
              "13              4.1  24.0   57081     UAE\n",
              "14              4.5  25.0   61111   Egypt\n",
              "15              4.9  25.0   67938     KSA\n",
              "16              5.1  26.0   66029     UAE\n",
              "17              5.3  27.0   83088     KSA\n",
              "18              5.9  28.0   81363   Egypt\n",
              "19              6.0  29.0   93940     KSA\n",
              "20              6.8  30.0   91738     UAE\n",
              "21              7.1  30.0   98273     KSA\n",
              "22              7.9  31.0  101302   Egypt\n",
              "23              8.2  32.0  113812     UAE\n",
              "24              8.7  33.0  109431     KSA\n",
              "25              9.0  34.0  105582   Libya\n",
              "26              9.5  35.0  116969     UAE\n",
              "27              9.6  36.0  112635   Egypt\n",
              "28             10.3  37.0  122391     KSA\n",
              "29             10.5  38.0  121872     KSA"
            ]
          },
          "execution_count": 11,
          "metadata": {},
          "output_type": "execute_result"
        }
      ],
      "source": [
        "import pandas as pd\n",
        "\n",
        "df = pd.read_csv('salary_data.csv')\n",
        "df"
      ]
    },
    {
      "cell_type": "code",
      "execution_count": null,
      "metadata": {
        "id": "EulIikDUnLNP",
        "outputId": "4ea5d9db-d988-4874-cf3b-a49dec180c51"
      },
      "outputs": [
        {
          "data": {
            "text/plain": [
              "pandas.core.frame.DataFrame"
            ]
          },
          "execution_count": 12,
          "metadata": {},
          "output_type": "execute_result"
        }
      ],
      "source": [
        "type(df)"
      ]
    },
    {
      "cell_type": "markdown",
      "metadata": {
        "id": "E9dZ9aNJ8hma"
      },
      "source": [
        "*  **Pandas can read many files formats:\n",
        "csv, json, excel...and others**"
      ]
    },
    {
      "cell_type": "code",
      "execution_count": null,
      "metadata": {
        "id": "kCB6ZXgPnLNQ",
        "outputId": "0230083d-75b6-4fcf-d13c-2b8d816a8f96"
      },
      "outputs": [
        {
          "data": {
            "text/html": [
              "<div>\n",
              "<style scoped>\n",
              "    .dataframe tbody tr th:only-of-type {\n",
              "        vertical-align: middle;\n",
              "    }\n",
              "\n",
              "    .dataframe tbody tr th {\n",
              "        vertical-align: top;\n",
              "    }\n",
              "\n",
              "    .dataframe thead th {\n",
              "        text-align: right;\n",
              "    }\n",
              "</style>\n",
              "<table border=\"1\" class=\"dataframe\">\n",
              "  <thead>\n",
              "    <tr style=\"text-align: right;\">\n",
              "      <th></th>\n",
              "      <th>YearsExperience</th>\n",
              "      <th>Age</th>\n",
              "      <th>Salary</th>\n",
              "      <th>Country</th>\n",
              "    </tr>\n",
              "  </thead>\n",
              "  <tbody>\n",
              "    <tr>\n",
              "      <th>0</th>\n",
              "      <td>1.1</td>\n",
              "      <td>21.0</td>\n",
              "      <td>39343</td>\n",
              "      <td>Egypt</td>\n",
              "    </tr>\n",
              "    <tr>\n",
              "      <th>1</th>\n",
              "      <td>1.3</td>\n",
              "      <td>21.5</td>\n",
              "      <td>46205</td>\n",
              "      <td>Libya</td>\n",
              "    </tr>\n",
              "    <tr>\n",
              "      <th>2</th>\n",
              "      <td>1.5</td>\n",
              "      <td>21.7</td>\n",
              "      <td>37731</td>\n",
              "      <td>UAE</td>\n",
              "    </tr>\n",
              "    <tr>\n",
              "      <th>3</th>\n",
              "      <td>2.0</td>\n",
              "      <td>22.0</td>\n",
              "      <td>43525</td>\n",
              "      <td>Egypt</td>\n",
              "    </tr>\n",
              "    <tr>\n",
              "      <th>4</th>\n",
              "      <td>2.2</td>\n",
              "      <td>22.2</td>\n",
              "      <td>39891</td>\n",
              "      <td>UAE</td>\n",
              "    </tr>\n",
              "  </tbody>\n",
              "</table>\n",
              "</div>"
            ],
            "text/plain": [
              "   YearsExperience   Age  Salary Country\n",
              "0              1.1  21.0   39343   Egypt\n",
              "1              1.3  21.5   46205   Libya\n",
              "2              1.5  21.7   37731     UAE\n",
              "3              2.0  22.0   43525   Egypt\n",
              "4              2.2  22.2   39891     UAE"
            ]
          },
          "execution_count": 13,
          "metadata": {},
          "output_type": "execute_result"
        }
      ],
      "source": [
        "df.head()"
      ]
    },
    {
      "cell_type": "code",
      "execution_count": null,
      "metadata": {
        "id": "TVuTItg7nLNQ",
        "outputId": "85db5dd2-5fcd-4f53-d9ef-69b30bf6a596"
      },
      "outputs": [
        {
          "data": {
            "text/html": [
              "<div>\n",
              "<style scoped>\n",
              "    .dataframe tbody tr th:only-of-type {\n",
              "        vertical-align: middle;\n",
              "    }\n",
              "\n",
              "    .dataframe tbody tr th {\n",
              "        vertical-align: top;\n",
              "    }\n",
              "\n",
              "    .dataframe thead th {\n",
              "        text-align: right;\n",
              "    }\n",
              "</style>\n",
              "<table border=\"1\" class=\"dataframe\">\n",
              "  <thead>\n",
              "    <tr style=\"text-align: right;\">\n",
              "      <th></th>\n",
              "      <th>YearsExperience</th>\n",
              "      <th>Age</th>\n",
              "      <th>Salary</th>\n",
              "      <th>Country</th>\n",
              "    </tr>\n",
              "  </thead>\n",
              "  <tbody>\n",
              "    <tr>\n",
              "      <th>0</th>\n",
              "      <td>1.1</td>\n",
              "      <td>21.0</td>\n",
              "      <td>39343</td>\n",
              "      <td>Egypt</td>\n",
              "    </tr>\n",
              "    <tr>\n",
              "      <th>1</th>\n",
              "      <td>1.3</td>\n",
              "      <td>21.5</td>\n",
              "      <td>46205</td>\n",
              "      <td>Libya</td>\n",
              "    </tr>\n",
              "    <tr>\n",
              "      <th>2</th>\n",
              "      <td>1.5</td>\n",
              "      <td>21.7</td>\n",
              "      <td>37731</td>\n",
              "      <td>UAE</td>\n",
              "    </tr>\n",
              "  </tbody>\n",
              "</table>\n",
              "</div>"
            ],
            "text/plain": [
              "   YearsExperience   Age  Salary Country\n",
              "0              1.1  21.0   39343   Egypt\n",
              "1              1.3  21.5   46205   Libya\n",
              "2              1.5  21.7   37731     UAE"
            ]
          },
          "execution_count": 14,
          "metadata": {},
          "output_type": "execute_result"
        }
      ],
      "source": [
        "df.head(3)"
      ]
    },
    {
      "cell_type": "code",
      "execution_count": null,
      "metadata": {
        "colab": {
          "base_uri": "https://localhost:8080/",
          "height": 143
        },
        "id": "Om-5FPxFKbj0",
        "outputId": "46f47438-9f23-4b06-928e-b29e90a76ff8"
      },
      "outputs": [
        {
          "data": {
            "text/html": [
              "<div>\n",
              "<style scoped>\n",
              "    .dataframe tbody tr th:only-of-type {\n",
              "        vertical-align: middle;\n",
              "    }\n",
              "\n",
              "    .dataframe tbody tr th {\n",
              "        vertical-align: top;\n",
              "    }\n",
              "\n",
              "    .dataframe thead th {\n",
              "        text-align: right;\n",
              "    }\n",
              "</style>\n",
              "<table border=\"1\" class=\"dataframe\">\n",
              "  <thead>\n",
              "    <tr style=\"text-align: right;\">\n",
              "      <th></th>\n",
              "      <th>YearsExperience</th>\n",
              "      <th>Age</th>\n",
              "      <th>Salary</th>\n",
              "      <th>Country</th>\n",
              "    </tr>\n",
              "  </thead>\n",
              "  <tbody>\n",
              "    <tr>\n",
              "      <th>27</th>\n",
              "      <td>9.6</td>\n",
              "      <td>36.0</td>\n",
              "      <td>112635</td>\n",
              "      <td>Egypt</td>\n",
              "    </tr>\n",
              "    <tr>\n",
              "      <th>28</th>\n",
              "      <td>10.3</td>\n",
              "      <td>37.0</td>\n",
              "      <td>122391</td>\n",
              "      <td>KSA</td>\n",
              "    </tr>\n",
              "    <tr>\n",
              "      <th>29</th>\n",
              "      <td>10.5</td>\n",
              "      <td>38.0</td>\n",
              "      <td>121872</td>\n",
              "      <td>KSA</td>\n",
              "    </tr>\n",
              "  </tbody>\n",
              "</table>\n",
              "</div>"
            ],
            "text/plain": [
              "    YearsExperience   Age  Salary Country\n",
              "27              9.6  36.0  112635   Egypt\n",
              "28             10.3  37.0  122391     KSA\n",
              "29             10.5  38.0  121872     KSA"
            ]
          },
          "execution_count": 15,
          "metadata": {},
          "output_type": "execute_result"
        }
      ],
      "source": [
        "df.tail(3)"
      ]
    },
    {
      "cell_type": "code",
      "execution_count": null,
      "metadata": {
        "colab": {
          "base_uri": "https://localhost:8080/",
          "height": 143
        },
        "id": "TSl1PWvFz_V0",
        "outputId": "d3772c98-7faf-444a-88c8-9cf86dd3c7fb"
      },
      "outputs": [
        {
          "data": {
            "text/html": [
              "<div>\n",
              "<style scoped>\n",
              "    .dataframe tbody tr th:only-of-type {\n",
              "        vertical-align: middle;\n",
              "    }\n",
              "\n",
              "    .dataframe tbody tr th {\n",
              "        vertical-align: top;\n",
              "    }\n",
              "\n",
              "    .dataframe thead th {\n",
              "        text-align: right;\n",
              "    }\n",
              "</style>\n",
              "<table border=\"1\" class=\"dataframe\">\n",
              "  <thead>\n",
              "    <tr style=\"text-align: right;\">\n",
              "      <th></th>\n",
              "      <th>YearsExperience</th>\n",
              "      <th>Age</th>\n",
              "      <th>Salary</th>\n",
              "      <th>Country</th>\n",
              "    </tr>\n",
              "  </thead>\n",
              "  <tbody>\n",
              "    <tr>\n",
              "      <th>0</th>\n",
              "      <td>1.1</td>\n",
              "      <td>21.0</td>\n",
              "      <td>39343</td>\n",
              "      <td>Egypt</td>\n",
              "    </tr>\n",
              "    <tr>\n",
              "      <th>4</th>\n",
              "      <td>2.2</td>\n",
              "      <td>22.2</td>\n",
              "      <td>39891</td>\n",
              "      <td>UAE</td>\n",
              "    </tr>\n",
              "    <tr>\n",
              "      <th>10</th>\n",
              "      <td>3.9</td>\n",
              "      <td>23.9</td>\n",
              "      <td>63218</td>\n",
              "      <td>Egypt</td>\n",
              "    </tr>\n",
              "    <tr>\n",
              "      <th>21</th>\n",
              "      <td>7.1</td>\n",
              "      <td>30.0</td>\n",
              "      <td>98273</td>\n",
              "      <td>KSA</td>\n",
              "    </tr>\n",
              "    <tr>\n",
              "      <th>14</th>\n",
              "      <td>4.5</td>\n",
              "      <td>25.0</td>\n",
              "      <td>61111</td>\n",
              "      <td>Egypt</td>\n",
              "    </tr>\n",
              "  </tbody>\n",
              "</table>\n",
              "</div>"
            ],
            "text/plain": [
              "    YearsExperience   Age  Salary Country\n",
              "0               1.1  21.0   39343   Egypt\n",
              "4               2.2  22.2   39891     UAE\n",
              "10              3.9  23.9   63218   Egypt\n",
              "21              7.1  30.0   98273     KSA\n",
              "14              4.5  25.0   61111   Egypt"
            ]
          },
          "execution_count": 16,
          "metadata": {},
          "output_type": "execute_result"
        }
      ],
      "source": [
        "df.sample(5)"
      ]
    },
    {
      "cell_type": "code",
      "execution_count": null,
      "metadata": {
        "colab": {
          "base_uri": "https://localhost:8080/"
        },
        "id": "yI8JwVa5_nDq",
        "outputId": "45e80849-9aa7-42b9-c4bc-6e85c1ebe9de"
      },
      "outputs": [
        {
          "data": {
            "text/plain": [
              "(30, 4)"
            ]
          },
          "execution_count": 17,
          "metadata": {},
          "output_type": "execute_result"
        }
      ],
      "source": [
        "df.shape"
      ]
    },
    {
      "cell_type": "code",
      "execution_count": null,
      "metadata": {
        "colab": {
          "base_uri": "https://localhost:8080/"
        },
        "id": "Ob3432ORBCkr",
        "outputId": "fb0a5986-5a09-44e9-9113-48baa3eee32b"
      },
      "outputs": [
        {
          "name": "stdout",
          "output_type": "stream",
          "text": [
            "<class 'pandas.core.frame.DataFrame'>\n",
            "RangeIndex: 30 entries, 0 to 29\n",
            "Data columns (total 4 columns):\n",
            " #   Column           Non-Null Count  Dtype  \n",
            "---  ------           --------------  -----  \n",
            " 0   YearsExperience  30 non-null     float64\n",
            " 1   Age              30 non-null     float64\n",
            " 2   Salary           30 non-null     int64  \n",
            " 3   Country          29 non-null     object \n",
            "dtypes: float64(2), int64(1), object(1)\n",
            "memory usage: 1.1+ KB\n"
          ]
        }
      ],
      "source": [
        "df.info()"
      ]
    },
    {
      "cell_type": "code",
      "execution_count": null,
      "metadata": {
        "colab": {
          "base_uri": "https://localhost:8080/"
        },
        "id": "F78Kdo-GRibI",
        "outputId": "8dcd6569-2a06-4876-a0d9-5da1ad61c10d"
      },
      "outputs": [
        {
          "data": {
            "text/plain": [
              "Index(['YearsExperience', 'Age', 'Salary', 'Country'], dtype='object')"
            ]
          },
          "execution_count": 19,
          "metadata": {},
          "output_type": "execute_result"
        }
      ],
      "source": [
        "df.columns"
      ]
    },
    {
      "cell_type": "code",
      "execution_count": null,
      "metadata": {
        "id": "TJSqmFjJnLNR"
      },
      "outputs": [],
      "source": [
        "#  df.columns = df.columns.str.lower().str.replace(' ','')\n",
        "#  df.rename({'YearsExperience' : 'exp'})"
      ]
    },
    {
      "cell_type": "code",
      "execution_count": null,
      "metadata": {
        "colab": {
          "base_uri": "https://localhost:8080/"
        },
        "id": "TFFDTZ4BRkyL",
        "outputId": "c6c4c197-34d3-48c2-c087-a99b3b005d08"
      },
      "outputs": [
        {
          "data": {
            "text/plain": [
              "YearsExperience    float64\n",
              "Age                float64\n",
              "Salary               int64\n",
              "Country             object\n",
              "dtype: object"
            ]
          },
          "execution_count": 21,
          "metadata": {},
          "output_type": "execute_result"
        }
      ],
      "source": [
        "df.dtypes"
      ]
    },
    {
      "cell_type": "code",
      "execution_count": null,
      "metadata": {
        "id": "rAxL4z8BnLNR",
        "outputId": "59898d13-8926-4295-d164-9e25122d739d"
      },
      "outputs": [
        {
          "data": {
            "text/plain": [
              "dtype('float64')"
            ]
          },
          "execution_count": 22,
          "metadata": {},
          "output_type": "execute_result"
        }
      ],
      "source": [
        "df['Age'].dtypes"
      ]
    },
    {
      "cell_type": "code",
      "execution_count": null,
      "metadata": {
        "colab": {
          "base_uri": "https://localhost:8080/",
          "height": 300
        },
        "id": "MC9ESXT9BEQb",
        "outputId": "0c474857-c38c-4593-b8b6-42c3151a3559"
      },
      "outputs": [
        {
          "data": {
            "text/html": [
              "<div>\n",
              "<style scoped>\n",
              "    .dataframe tbody tr th:only-of-type {\n",
              "        vertical-align: middle;\n",
              "    }\n",
              "\n",
              "    .dataframe tbody tr th {\n",
              "        vertical-align: top;\n",
              "    }\n",
              "\n",
              "    .dataframe thead th {\n",
              "        text-align: right;\n",
              "    }\n",
              "</style>\n",
              "<table border=\"1\" class=\"dataframe\">\n",
              "  <thead>\n",
              "    <tr style=\"text-align: right;\">\n",
              "      <th></th>\n",
              "      <th>YearsExperience</th>\n",
              "      <th>Age</th>\n",
              "      <th>Salary</th>\n",
              "    </tr>\n",
              "  </thead>\n",
              "  <tbody>\n",
              "    <tr>\n",
              "      <th>count</th>\n",
              "      <td>30.000000</td>\n",
              "      <td>30.000000</td>\n",
              "      <td>30.000000</td>\n",
              "    </tr>\n",
              "    <tr>\n",
              "      <th>mean</th>\n",
              "      <td>5.313333</td>\n",
              "      <td>27.216667</td>\n",
              "      <td>76003.000000</td>\n",
              "    </tr>\n",
              "    <tr>\n",
              "      <th>std</th>\n",
              "      <td>2.837888</td>\n",
              "      <td>5.161267</td>\n",
              "      <td>27414.429785</td>\n",
              "    </tr>\n",
              "    <tr>\n",
              "      <th>min</th>\n",
              "      <td>1.100000</td>\n",
              "      <td>21.000000</td>\n",
              "      <td>37731.000000</td>\n",
              "    </tr>\n",
              "    <tr>\n",
              "      <th>25%</th>\n",
              "      <td>3.200000</td>\n",
              "      <td>23.300000</td>\n",
              "      <td>56720.750000</td>\n",
              "    </tr>\n",
              "    <tr>\n",
              "      <th>50%</th>\n",
              "      <td>4.700000</td>\n",
              "      <td>25.000000</td>\n",
              "      <td>65237.000000</td>\n",
              "    </tr>\n",
              "    <tr>\n",
              "      <th>75%</th>\n",
              "      <td>7.700000</td>\n",
              "      <td>30.750000</td>\n",
              "      <td>100544.750000</td>\n",
              "    </tr>\n",
              "    <tr>\n",
              "      <th>max</th>\n",
              "      <td>10.500000</td>\n",
              "      <td>38.000000</td>\n",
              "      <td>122391.000000</td>\n",
              "    </tr>\n",
              "  </tbody>\n",
              "</table>\n",
              "</div>"
            ],
            "text/plain": [
              "       YearsExperience        Age         Salary\n",
              "count        30.000000  30.000000      30.000000\n",
              "mean          5.313333  27.216667   76003.000000\n",
              "std           2.837888   5.161267   27414.429785\n",
              "min           1.100000  21.000000   37731.000000\n",
              "25%           3.200000  23.300000   56720.750000\n",
              "50%           4.700000  25.000000   65237.000000\n",
              "75%           7.700000  30.750000  100544.750000\n",
              "max          10.500000  38.000000  122391.000000"
            ]
          },
          "execution_count": 23,
          "metadata": {},
          "output_type": "execute_result"
        }
      ],
      "source": [
        "df.describe()   # Summary Statistics"
      ]
    },
    {
      "cell_type": "code",
      "execution_count": null,
      "metadata": {
        "id": "yeFyikqrnLNS"
      },
      "outputs": [],
      "source": [
        "# Change float format\n",
        "pd.set_option('display.float_format', '{:,.1f}'.format)"
      ]
    },
    {
      "cell_type": "code",
      "execution_count": null,
      "metadata": {
        "id": "KdW2NvynnLNS",
        "outputId": "6cc776b6-9159-41c6-c932-932facba5d44"
      },
      "outputs": [
        {
          "data": {
            "text/html": [
              "<style type=\"text/css\">\n",
              "</style>\n",
              "<table id=\"T_04439\">\n",
              "  <thead>\n",
              "    <tr>\n",
              "      <th class=\"blank level0\" >&nbsp;</th>\n",
              "      <th id=\"T_04439_level0_col0\" class=\"col_heading level0 col0\" >YearsExperience</th>\n",
              "      <th id=\"T_04439_level0_col1\" class=\"col_heading level0 col1\" >Age</th>\n",
              "      <th id=\"T_04439_level0_col2\" class=\"col_heading level0 col2\" >Salary</th>\n",
              "    </tr>\n",
              "  </thead>\n",
              "  <tbody>\n",
              "    <tr>\n",
              "      <th id=\"T_04439_level0_row0\" class=\"row_heading level0 row0\" >count</th>\n",
              "      <td id=\"T_04439_row0_col0\" class=\"data row0 col0\" >30.0000000000</td>\n",
              "      <td id=\"T_04439_row0_col1\" class=\"data row0 col1\" >30.0000000000</td>\n",
              "      <td id=\"T_04439_row0_col2\" class=\"data row0 col2\" >30.0000000000</td>\n",
              "    </tr>\n",
              "    <tr>\n",
              "      <th id=\"T_04439_level0_row1\" class=\"row_heading level0 row1\" >mean</th>\n",
              "      <td id=\"T_04439_row1_col0\" class=\"data row1 col0\" >5.3133333333</td>\n",
              "      <td id=\"T_04439_row1_col1\" class=\"data row1 col1\" >27.2166666667</td>\n",
              "      <td id=\"T_04439_row1_col2\" class=\"data row1 col2\" >76,003.0000000000</td>\n",
              "    </tr>\n",
              "    <tr>\n",
              "      <th id=\"T_04439_level0_row2\" class=\"row_heading level0 row2\" >std</th>\n",
              "      <td id=\"T_04439_row2_col0\" class=\"data row2 col0\" >2.8378881577</td>\n",
              "      <td id=\"T_04439_row2_col1\" class=\"data row2 col1\" >5.1612671081</td>\n",
              "      <td id=\"T_04439_row2_col2\" class=\"data row2 col2\" >27,414.4297845823</td>\n",
              "    </tr>\n",
              "    <tr>\n",
              "      <th id=\"T_04439_level0_row3\" class=\"row_heading level0 row3\" >min</th>\n",
              "      <td id=\"T_04439_row3_col0\" class=\"data row3 col0\" >1.1000000000</td>\n",
              "      <td id=\"T_04439_row3_col1\" class=\"data row3 col1\" >21.0000000000</td>\n",
              "      <td id=\"T_04439_row3_col2\" class=\"data row3 col2\" >37,731.0000000000</td>\n",
              "    </tr>\n",
              "    <tr>\n",
              "      <th id=\"T_04439_level0_row4\" class=\"row_heading level0 row4\" >25%</th>\n",
              "      <td id=\"T_04439_row4_col0\" class=\"data row4 col0\" >3.2000000000</td>\n",
              "      <td id=\"T_04439_row4_col1\" class=\"data row4 col1\" >23.3000000000</td>\n",
              "      <td id=\"T_04439_row4_col2\" class=\"data row4 col2\" >56,720.7500000000</td>\n",
              "    </tr>\n",
              "    <tr>\n",
              "      <th id=\"T_04439_level0_row5\" class=\"row_heading level0 row5\" >50%</th>\n",
              "      <td id=\"T_04439_row5_col0\" class=\"data row5 col0\" >4.7000000000</td>\n",
              "      <td id=\"T_04439_row5_col1\" class=\"data row5 col1\" >25.0000000000</td>\n",
              "      <td id=\"T_04439_row5_col2\" class=\"data row5 col2\" >65,237.0000000000</td>\n",
              "    </tr>\n",
              "    <tr>\n",
              "      <th id=\"T_04439_level0_row6\" class=\"row_heading level0 row6\" >75%</th>\n",
              "      <td id=\"T_04439_row6_col0\" class=\"data row6 col0\" >7.7000000000</td>\n",
              "      <td id=\"T_04439_row6_col1\" class=\"data row6 col1\" >30.7500000000</td>\n",
              "      <td id=\"T_04439_row6_col2\" class=\"data row6 col2\" >100,544.7500000000</td>\n",
              "    </tr>\n",
              "    <tr>\n",
              "      <th id=\"T_04439_level0_row7\" class=\"row_heading level0 row7\" >max</th>\n",
              "      <td id=\"T_04439_row7_col0\" class=\"data row7 col0\" >10.5000000000</td>\n",
              "      <td id=\"T_04439_row7_col1\" class=\"data row7 col1\" >38.0000000000</td>\n",
              "      <td id=\"T_04439_row7_col2\" class=\"data row7 col2\" >122,391.0000000000</td>\n",
              "    </tr>\n",
              "  </tbody>\n",
              "</table>\n"
            ],
            "text/plain": [
              "<pandas.io.formats.style.Styler at 0x211a5f7f350>"
            ]
          },
          "execution_count": 25,
          "metadata": {},
          "output_type": "execute_result"
        }
      ],
      "source": [
        "df.describe().style.format(\"{:,.10f}\")"
      ]
    },
    {
      "cell_type": "code",
      "execution_count": null,
      "metadata": {
        "id": "Z8mU7CYonLNS",
        "outputId": "299999b6-d65c-4fd4-ee15-ca9edaa58b6d"
      },
      "outputs": [
        {
          "data": {
            "text/html": [
              "<div>\n",
              "<style scoped>\n",
              "    .dataframe tbody tr th:only-of-type {\n",
              "        vertical-align: middle;\n",
              "    }\n",
              "\n",
              "    .dataframe tbody tr th {\n",
              "        vertical-align: top;\n",
              "    }\n",
              "\n",
              "    .dataframe thead th {\n",
              "        text-align: right;\n",
              "    }\n",
              "</style>\n",
              "<table border=\"1\" class=\"dataframe\">\n",
              "  <thead>\n",
              "    <tr style=\"text-align: right;\">\n",
              "      <th></th>\n",
              "      <th>YearsExperience</th>\n",
              "      <th>Age</th>\n",
              "      <th>Salary</th>\n",
              "    </tr>\n",
              "  </thead>\n",
              "  <tbody>\n",
              "    <tr>\n",
              "      <th>count</th>\n",
              "      <td>30.0</td>\n",
              "      <td>30.0</td>\n",
              "      <td>30.0</td>\n",
              "    </tr>\n",
              "    <tr>\n",
              "      <th>mean</th>\n",
              "      <td>5.3</td>\n",
              "      <td>27.2</td>\n",
              "      <td>76,003.0</td>\n",
              "    </tr>\n",
              "    <tr>\n",
              "      <th>std</th>\n",
              "      <td>2.8</td>\n",
              "      <td>5.2</td>\n",
              "      <td>27,414.4</td>\n",
              "    </tr>\n",
              "    <tr>\n",
              "      <th>min</th>\n",
              "      <td>1.1</td>\n",
              "      <td>21.0</td>\n",
              "      <td>37,731.0</td>\n",
              "    </tr>\n",
              "    <tr>\n",
              "      <th>25%</th>\n",
              "      <td>3.2</td>\n",
              "      <td>23.3</td>\n",
              "      <td>56,720.8</td>\n",
              "    </tr>\n",
              "    <tr>\n",
              "      <th>50%</th>\n",
              "      <td>4.7</td>\n",
              "      <td>25.0</td>\n",
              "      <td>65,237.0</td>\n",
              "    </tr>\n",
              "    <tr>\n",
              "      <th>75%</th>\n",
              "      <td>7.7</td>\n",
              "      <td>30.8</td>\n",
              "      <td>100,544.8</td>\n",
              "    </tr>\n",
              "    <tr>\n",
              "      <th>max</th>\n",
              "      <td>10.5</td>\n",
              "      <td>38.0</td>\n",
              "      <td>122,391.0</td>\n",
              "    </tr>\n",
              "  </tbody>\n",
              "</table>\n",
              "</div>"
            ],
            "text/plain": [
              "       YearsExperience  Age    Salary\n",
              "count             30.0 30.0      30.0\n",
              "mean               5.3 27.2  76,003.0\n",
              "std                2.8  5.2  27,414.4\n",
              "min                1.1 21.0  37,731.0\n",
              "25%                3.2 23.3  56,720.8\n",
              "50%                4.7 25.0  65,237.0\n",
              "75%                7.7 30.8 100,544.8\n",
              "max               10.5 38.0 122,391.0"
            ]
          },
          "execution_count": 26,
          "metadata": {},
          "output_type": "execute_result"
        }
      ],
      "source": [
        "df.describe(include='number')"
      ]
    },
    {
      "cell_type": "code",
      "execution_count": null,
      "metadata": {
        "id": "ApipGVdknLNS",
        "outputId": "f6310f6b-786f-41c3-a856-7701e3add84b"
      },
      "outputs": [
        {
          "data": {
            "text/html": [
              "<div>\n",
              "<style scoped>\n",
              "    .dataframe tbody tr th:only-of-type {\n",
              "        vertical-align: middle;\n",
              "    }\n",
              "\n",
              "    .dataframe tbody tr th {\n",
              "        vertical-align: top;\n",
              "    }\n",
              "\n",
              "    .dataframe thead th {\n",
              "        text-align: right;\n",
              "    }\n",
              "</style>\n",
              "<table border=\"1\" class=\"dataframe\">\n",
              "  <thead>\n",
              "    <tr style=\"text-align: right;\">\n",
              "      <th></th>\n",
              "      <th>Country</th>\n",
              "    </tr>\n",
              "  </thead>\n",
              "  <tbody>\n",
              "    <tr>\n",
              "      <th>count</th>\n",
              "      <td>29</td>\n",
              "    </tr>\n",
              "    <tr>\n",
              "      <th>unique</th>\n",
              "      <td>4</td>\n",
              "    </tr>\n",
              "    <tr>\n",
              "      <th>top</th>\n",
              "      <td>UAE</td>\n",
              "    </tr>\n",
              "    <tr>\n",
              "      <th>freq</th>\n",
              "      <td>9</td>\n",
              "    </tr>\n",
              "  </tbody>\n",
              "</table>\n",
              "</div>"
            ],
            "text/plain": [
              "       Country\n",
              "count       29\n",
              "unique       4\n",
              "top        UAE\n",
              "freq         9"
            ]
          },
          "execution_count": 27,
          "metadata": {},
          "output_type": "execute_result"
        }
      ],
      "source": [
        "df.describe(exclude='number')"
      ]
    },
    {
      "cell_type": "code",
      "execution_count": null,
      "metadata": {
        "id": "0X5IW6P9nLNS",
        "outputId": "05bca36a-dceb-4ce8-e015-69eafea4b4b4"
      },
      "outputs": [
        {
          "data": {
            "text/html": [
              "<div>\n",
              "<style scoped>\n",
              "    .dataframe tbody tr th:only-of-type {\n",
              "        vertical-align: middle;\n",
              "    }\n",
              "\n",
              "    .dataframe tbody tr th {\n",
              "        vertical-align: top;\n",
              "    }\n",
              "\n",
              "    .dataframe thead th {\n",
              "        text-align: right;\n",
              "    }\n",
              "</style>\n",
              "<table border=\"1\" class=\"dataframe\">\n",
              "  <thead>\n",
              "    <tr style=\"text-align: right;\">\n",
              "      <th></th>\n",
              "      <th>Country</th>\n",
              "    </tr>\n",
              "  </thead>\n",
              "  <tbody>\n",
              "    <tr>\n",
              "      <th>count</th>\n",
              "      <td>29</td>\n",
              "    </tr>\n",
              "    <tr>\n",
              "      <th>unique</th>\n",
              "      <td>4</td>\n",
              "    </tr>\n",
              "    <tr>\n",
              "      <th>top</th>\n",
              "      <td>UAE</td>\n",
              "    </tr>\n",
              "    <tr>\n",
              "      <th>freq</th>\n",
              "      <td>9</td>\n",
              "    </tr>\n",
              "  </tbody>\n",
              "</table>\n",
              "</div>"
            ],
            "text/plain": [
              "       Country\n",
              "count       29\n",
              "unique       4\n",
              "top        UAE\n",
              "freq         9"
            ]
          },
          "execution_count": 28,
          "metadata": {},
          "output_type": "execute_result"
        }
      ],
      "source": [
        "df.describe(include='object')"
      ]
    },
    {
      "cell_type": "code",
      "execution_count": null,
      "metadata": {
        "colab": {
          "base_uri": "https://localhost:8080/",
          "height": 175
        },
        "id": "CQ45asLR0LJS",
        "outputId": "2ef1998f-213b-4526-a802-330dc74f10c0"
      },
      "outputs": [
        {
          "data": {
            "text/html": [
              "<div>\n",
              "<style scoped>\n",
              "    .dataframe tbody tr th:only-of-type {\n",
              "        vertical-align: middle;\n",
              "    }\n",
              "\n",
              "    .dataframe tbody tr th {\n",
              "        vertical-align: top;\n",
              "    }\n",
              "\n",
              "    .dataframe thead th {\n",
              "        text-align: right;\n",
              "    }\n",
              "</style>\n",
              "<table border=\"1\" class=\"dataframe\">\n",
              "  <thead>\n",
              "    <tr style=\"text-align: right;\">\n",
              "      <th></th>\n",
              "      <th>Country</th>\n",
              "    </tr>\n",
              "  </thead>\n",
              "  <tbody>\n",
              "    <tr>\n",
              "      <th>count</th>\n",
              "      <td>29</td>\n",
              "    </tr>\n",
              "    <tr>\n",
              "      <th>unique</th>\n",
              "      <td>4</td>\n",
              "    </tr>\n",
              "    <tr>\n",
              "      <th>top</th>\n",
              "      <td>UAE</td>\n",
              "    </tr>\n",
              "    <tr>\n",
              "      <th>freq</th>\n",
              "      <td>9</td>\n",
              "    </tr>\n",
              "  </tbody>\n",
              "</table>\n",
              "</div>"
            ],
            "text/plain": [
              "       Country\n",
              "count       29\n",
              "unique       4\n",
              "top        UAE\n",
              "freq         9"
            ]
          },
          "execution_count": 29,
          "metadata": {},
          "output_type": "execute_result"
        }
      ],
      "source": [
        "df.describe(include='O')"
      ]
    },
    {
      "cell_type": "code",
      "execution_count": null,
      "metadata": {
        "id": "hDXxx4s9nLNT",
        "outputId": "28e6606e-78a0-4614-9cbb-1bc2dd7cb243"
      },
      "outputs": [
        {
          "data": {
            "text/html": [
              "<div>\n",
              "<style scoped>\n",
              "    .dataframe tbody tr th:only-of-type {\n",
              "        vertical-align: middle;\n",
              "    }\n",
              "\n",
              "    .dataframe tbody tr th {\n",
              "        vertical-align: top;\n",
              "    }\n",
              "\n",
              "    .dataframe thead th {\n",
              "        text-align: right;\n",
              "    }\n",
              "</style>\n",
              "<table border=\"1\" class=\"dataframe\">\n",
              "  <thead>\n",
              "    <tr style=\"text-align: right;\">\n",
              "      <th></th>\n",
              "      <th>YearsExperience</th>\n",
              "      <th>Age</th>\n",
              "      <th>Salary</th>\n",
              "      <th>Country</th>\n",
              "    </tr>\n",
              "  </thead>\n",
              "  <tbody>\n",
              "    <tr>\n",
              "      <th>count</th>\n",
              "      <td>30.0</td>\n",
              "      <td>30.0</td>\n",
              "      <td>30.0</td>\n",
              "      <td>29</td>\n",
              "    </tr>\n",
              "    <tr>\n",
              "      <th>unique</th>\n",
              "      <td>NaN</td>\n",
              "      <td>NaN</td>\n",
              "      <td>NaN</td>\n",
              "      <td>4</td>\n",
              "    </tr>\n",
              "    <tr>\n",
              "      <th>top</th>\n",
              "      <td>NaN</td>\n",
              "      <td>NaN</td>\n",
              "      <td>NaN</td>\n",
              "      <td>UAE</td>\n",
              "    </tr>\n",
              "    <tr>\n",
              "      <th>freq</th>\n",
              "      <td>NaN</td>\n",
              "      <td>NaN</td>\n",
              "      <td>NaN</td>\n",
              "      <td>9</td>\n",
              "    </tr>\n",
              "    <tr>\n",
              "      <th>mean</th>\n",
              "      <td>5.3</td>\n",
              "      <td>27.2</td>\n",
              "      <td>76,003.0</td>\n",
              "      <td>NaN</td>\n",
              "    </tr>\n",
              "    <tr>\n",
              "      <th>std</th>\n",
              "      <td>2.8</td>\n",
              "      <td>5.2</td>\n",
              "      <td>27,414.4</td>\n",
              "      <td>NaN</td>\n",
              "    </tr>\n",
              "    <tr>\n",
              "      <th>min</th>\n",
              "      <td>1.1</td>\n",
              "      <td>21.0</td>\n",
              "      <td>37,731.0</td>\n",
              "      <td>NaN</td>\n",
              "    </tr>\n",
              "    <tr>\n",
              "      <th>25%</th>\n",
              "      <td>3.2</td>\n",
              "      <td>23.3</td>\n",
              "      <td>56,720.8</td>\n",
              "      <td>NaN</td>\n",
              "    </tr>\n",
              "    <tr>\n",
              "      <th>50%</th>\n",
              "      <td>4.7</td>\n",
              "      <td>25.0</td>\n",
              "      <td>65,237.0</td>\n",
              "      <td>NaN</td>\n",
              "    </tr>\n",
              "    <tr>\n",
              "      <th>75%</th>\n",
              "      <td>7.7</td>\n",
              "      <td>30.8</td>\n",
              "      <td>100,544.8</td>\n",
              "      <td>NaN</td>\n",
              "    </tr>\n",
              "    <tr>\n",
              "      <th>max</th>\n",
              "      <td>10.5</td>\n",
              "      <td>38.0</td>\n",
              "      <td>122,391.0</td>\n",
              "      <td>NaN</td>\n",
              "    </tr>\n",
              "  </tbody>\n",
              "</table>\n",
              "</div>"
            ],
            "text/plain": [
              "        YearsExperience  Age    Salary Country\n",
              "count              30.0 30.0      30.0      29\n",
              "unique              NaN  NaN       NaN       4\n",
              "top                 NaN  NaN       NaN     UAE\n",
              "freq                NaN  NaN       NaN       9\n",
              "mean                5.3 27.2  76,003.0     NaN\n",
              "std                 2.8  5.2  27,414.4     NaN\n",
              "min                 1.1 21.0  37,731.0     NaN\n",
              "25%                 3.2 23.3  56,720.8     NaN\n",
              "50%                 4.7 25.0  65,237.0     NaN\n",
              "75%                 7.7 30.8 100,544.8     NaN\n",
              "max                10.5 38.0 122,391.0     NaN"
            ]
          },
          "execution_count": 30,
          "metadata": {},
          "output_type": "execute_result"
        }
      ],
      "source": [
        "df.describe(include = 'all')"
      ]
    },
    {
      "cell_type": "code",
      "execution_count": null,
      "metadata": {
        "colab": {
          "base_uri": "https://localhost:8080/"
        },
        "id": "BfZ9V-xa3T_n",
        "outputId": "521b1a0d-d60e-4d82-f865-efd4618aad5c"
      },
      "outputs": [
        {
          "data": {
            "text/plain": [
              "0     False\n",
              "1     False\n",
              "2     False\n",
              "3     False\n",
              "4     False\n",
              "5     False\n",
              "6     False\n",
              "7     False\n",
              "8     False\n",
              "9     False\n",
              "10    False\n",
              "11    False\n",
              "12    False\n",
              "13    False\n",
              "14    False\n",
              "15    False\n",
              "16    False\n",
              "17    False\n",
              "18    False\n",
              "19    False\n",
              "20    False\n",
              "21    False\n",
              "22    False\n",
              "23    False\n",
              "24    False\n",
              "25    False\n",
              "26    False\n",
              "27    False\n",
              "28    False\n",
              "29    False\n",
              "dtype: bool"
            ]
          },
          "execution_count": 31,
          "metadata": {},
          "output_type": "execute_result"
        }
      ],
      "source": [
        "df.duplicated()"
      ]
    },
    {
      "cell_type": "code",
      "execution_count": null,
      "metadata": {
        "colab": {
          "base_uri": "https://localhost:8080/"
        },
        "id": "1MXwTRwN3Y-p",
        "outputId": "dbc8a4fb-4312-4e83-c14d-8e4376ad1af1"
      },
      "outputs": [
        {
          "data": {
            "text/plain": [
              "0"
            ]
          },
          "execution_count": 32,
          "metadata": {},
          "output_type": "execute_result"
        }
      ],
      "source": [
        "df.duplicated().sum()"
      ]
    },
    {
      "cell_type": "code",
      "execution_count": null,
      "metadata": {
        "id": "rZ1seuhMnLNT"
      },
      "outputs": [],
      "source": [
        "# if there was duplicated\n",
        "# df.drop_duplicates(inplace = True)"
      ]
    },
    {
      "cell_type": "code",
      "execution_count": null,
      "metadata": {
        "colab": {
          "base_uri": "https://localhost:8080/",
          "height": 990
        },
        "id": "z8AtRbe83cRX",
        "outputId": "0bb83bc5-88c5-4922-c3f4-791cac387ebe"
      },
      "outputs": [
        {
          "data": {
            "text/html": [
              "<div>\n",
              "<style scoped>\n",
              "    .dataframe tbody tr th:only-of-type {\n",
              "        vertical-align: middle;\n",
              "    }\n",
              "\n",
              "    .dataframe tbody tr th {\n",
              "        vertical-align: top;\n",
              "    }\n",
              "\n",
              "    .dataframe thead th {\n",
              "        text-align: right;\n",
              "    }\n",
              "</style>\n",
              "<table border=\"1\" class=\"dataframe\">\n",
              "  <thead>\n",
              "    <tr style=\"text-align: right;\">\n",
              "      <th></th>\n",
              "      <th>YearsExperience</th>\n",
              "      <th>Age</th>\n",
              "      <th>Salary</th>\n",
              "      <th>Country</th>\n",
              "    </tr>\n",
              "  </thead>\n",
              "  <tbody>\n",
              "    <tr>\n",
              "      <th>0</th>\n",
              "      <td>False</td>\n",
              "      <td>False</td>\n",
              "      <td>False</td>\n",
              "      <td>False</td>\n",
              "    </tr>\n",
              "    <tr>\n",
              "      <th>1</th>\n",
              "      <td>False</td>\n",
              "      <td>False</td>\n",
              "      <td>False</td>\n",
              "      <td>False</td>\n",
              "    </tr>\n",
              "    <tr>\n",
              "      <th>2</th>\n",
              "      <td>False</td>\n",
              "      <td>False</td>\n",
              "      <td>False</td>\n",
              "      <td>False</td>\n",
              "    </tr>\n",
              "    <tr>\n",
              "      <th>3</th>\n",
              "      <td>False</td>\n",
              "      <td>False</td>\n",
              "      <td>False</td>\n",
              "      <td>False</td>\n",
              "    </tr>\n",
              "    <tr>\n",
              "      <th>4</th>\n",
              "      <td>False</td>\n",
              "      <td>False</td>\n",
              "      <td>False</td>\n",
              "      <td>False</td>\n",
              "    </tr>\n",
              "    <tr>\n",
              "      <th>5</th>\n",
              "      <td>False</td>\n",
              "      <td>False</td>\n",
              "      <td>False</td>\n",
              "      <td>False</td>\n",
              "    </tr>\n",
              "    <tr>\n",
              "      <th>6</th>\n",
              "      <td>False</td>\n",
              "      <td>False</td>\n",
              "      <td>False</td>\n",
              "      <td>False</td>\n",
              "    </tr>\n",
              "    <tr>\n",
              "      <th>7</th>\n",
              "      <td>False</td>\n",
              "      <td>False</td>\n",
              "      <td>False</td>\n",
              "      <td>True</td>\n",
              "    </tr>\n",
              "    <tr>\n",
              "      <th>8</th>\n",
              "      <td>False</td>\n",
              "      <td>False</td>\n",
              "      <td>False</td>\n",
              "      <td>False</td>\n",
              "    </tr>\n",
              "    <tr>\n",
              "      <th>9</th>\n",
              "      <td>False</td>\n",
              "      <td>False</td>\n",
              "      <td>False</td>\n",
              "      <td>False</td>\n",
              "    </tr>\n",
              "    <tr>\n",
              "      <th>10</th>\n",
              "      <td>False</td>\n",
              "      <td>False</td>\n",
              "      <td>False</td>\n",
              "      <td>False</td>\n",
              "    </tr>\n",
              "    <tr>\n",
              "      <th>11</th>\n",
              "      <td>False</td>\n",
              "      <td>False</td>\n",
              "      <td>False</td>\n",
              "      <td>False</td>\n",
              "    </tr>\n",
              "    <tr>\n",
              "      <th>12</th>\n",
              "      <td>False</td>\n",
              "      <td>False</td>\n",
              "      <td>False</td>\n",
              "      <td>False</td>\n",
              "    </tr>\n",
              "    <tr>\n",
              "      <th>13</th>\n",
              "      <td>False</td>\n",
              "      <td>False</td>\n",
              "      <td>False</td>\n",
              "      <td>False</td>\n",
              "    </tr>\n",
              "    <tr>\n",
              "      <th>14</th>\n",
              "      <td>False</td>\n",
              "      <td>False</td>\n",
              "      <td>False</td>\n",
              "      <td>False</td>\n",
              "    </tr>\n",
              "    <tr>\n",
              "      <th>15</th>\n",
              "      <td>False</td>\n",
              "      <td>False</td>\n",
              "      <td>False</td>\n",
              "      <td>False</td>\n",
              "    </tr>\n",
              "    <tr>\n",
              "      <th>16</th>\n",
              "      <td>False</td>\n",
              "      <td>False</td>\n",
              "      <td>False</td>\n",
              "      <td>False</td>\n",
              "    </tr>\n",
              "    <tr>\n",
              "      <th>17</th>\n",
              "      <td>False</td>\n",
              "      <td>False</td>\n",
              "      <td>False</td>\n",
              "      <td>False</td>\n",
              "    </tr>\n",
              "    <tr>\n",
              "      <th>18</th>\n",
              "      <td>False</td>\n",
              "      <td>False</td>\n",
              "      <td>False</td>\n",
              "      <td>False</td>\n",
              "    </tr>\n",
              "    <tr>\n",
              "      <th>19</th>\n",
              "      <td>False</td>\n",
              "      <td>False</td>\n",
              "      <td>False</td>\n",
              "      <td>False</td>\n",
              "    </tr>\n",
              "    <tr>\n",
              "      <th>20</th>\n",
              "      <td>False</td>\n",
              "      <td>False</td>\n",
              "      <td>False</td>\n",
              "      <td>False</td>\n",
              "    </tr>\n",
              "    <tr>\n",
              "      <th>21</th>\n",
              "      <td>False</td>\n",
              "      <td>False</td>\n",
              "      <td>False</td>\n",
              "      <td>False</td>\n",
              "    </tr>\n",
              "    <tr>\n",
              "      <th>22</th>\n",
              "      <td>False</td>\n",
              "      <td>False</td>\n",
              "      <td>False</td>\n",
              "      <td>False</td>\n",
              "    </tr>\n",
              "    <tr>\n",
              "      <th>23</th>\n",
              "      <td>False</td>\n",
              "      <td>False</td>\n",
              "      <td>False</td>\n",
              "      <td>False</td>\n",
              "    </tr>\n",
              "    <tr>\n",
              "      <th>24</th>\n",
              "      <td>False</td>\n",
              "      <td>False</td>\n",
              "      <td>False</td>\n",
              "      <td>False</td>\n",
              "    </tr>\n",
              "    <tr>\n",
              "      <th>25</th>\n",
              "      <td>False</td>\n",
              "      <td>False</td>\n",
              "      <td>False</td>\n",
              "      <td>False</td>\n",
              "    </tr>\n",
              "    <tr>\n",
              "      <th>26</th>\n",
              "      <td>False</td>\n",
              "      <td>False</td>\n",
              "      <td>False</td>\n",
              "      <td>False</td>\n",
              "    </tr>\n",
              "    <tr>\n",
              "      <th>27</th>\n",
              "      <td>False</td>\n",
              "      <td>False</td>\n",
              "      <td>False</td>\n",
              "      <td>False</td>\n",
              "    </tr>\n",
              "    <tr>\n",
              "      <th>28</th>\n",
              "      <td>False</td>\n",
              "      <td>False</td>\n",
              "      <td>False</td>\n",
              "      <td>False</td>\n",
              "    </tr>\n",
              "    <tr>\n",
              "      <th>29</th>\n",
              "      <td>False</td>\n",
              "      <td>False</td>\n",
              "      <td>False</td>\n",
              "      <td>False</td>\n",
              "    </tr>\n",
              "  </tbody>\n",
              "</table>\n",
              "</div>"
            ],
            "text/plain": [
              "    YearsExperience    Age  Salary  Country\n",
              "0             False  False   False    False\n",
              "1             False  False   False    False\n",
              "2             False  False   False    False\n",
              "3             False  False   False    False\n",
              "4             False  False   False    False\n",
              "5             False  False   False    False\n",
              "6             False  False   False    False\n",
              "7             False  False   False     True\n",
              "8             False  False   False    False\n",
              "9             False  False   False    False\n",
              "10            False  False   False    False\n",
              "11            False  False   False    False\n",
              "12            False  False   False    False\n",
              "13            False  False   False    False\n",
              "14            False  False   False    False\n",
              "15            False  False   False    False\n",
              "16            False  False   False    False\n",
              "17            False  False   False    False\n",
              "18            False  False   False    False\n",
              "19            False  False   False    False\n",
              "20            False  False   False    False\n",
              "21            False  False   False    False\n",
              "22            False  False   False    False\n",
              "23            False  False   False    False\n",
              "24            False  False   False    False\n",
              "25            False  False   False    False\n",
              "26            False  False   False    False\n",
              "27            False  False   False    False\n",
              "28            False  False   False    False\n",
              "29            False  False   False    False"
            ]
          },
          "execution_count": 34,
          "metadata": {},
          "output_type": "execute_result"
        }
      ],
      "source": [
        "df.isnull()"
      ]
    },
    {
      "cell_type": "code",
      "execution_count": null,
      "metadata": {
        "colab": {
          "base_uri": "https://localhost:8080/"
        },
        "id": "fchvGWTI3fjZ",
        "outputId": "a286c52e-b38c-46f5-92f7-b377139b40e2"
      },
      "outputs": [
        {
          "data": {
            "text/plain": [
              "YearsExperience    0\n",
              "Age                0\n",
              "Salary             0\n",
              "Country            1\n",
              "dtype: int64"
            ]
          },
          "execution_count": 35,
          "metadata": {},
          "output_type": "execute_result"
        }
      ],
      "source": [
        "df.isnull().sum()"
      ]
    },
    {
      "cell_type": "code",
      "execution_count": null,
      "metadata": {
        "id": "7gTP_YBMnLNU",
        "outputId": "2df47818-062c-4685-c005-fd36a2aaf0a7"
      },
      "outputs": [
        {
          "data": {
            "text/plain": [
              "1"
            ]
          },
          "execution_count": 36,
          "metadata": {},
          "output_type": "execute_result"
        }
      ],
      "source": [
        "df.isnull().sum().sum()"
      ]
    },
    {
      "cell_type": "code",
      "execution_count": null,
      "metadata": {
        "id": "Sf_wOXRc4uwj"
      },
      "outputs": [],
      "source": [
        "df.columns = ['exp', 'age', 'salary', 'country']      # Rename columns\n",
        "#df.columns = df.columns.str.lower()                           # Make it lower case"
      ]
    },
    {
      "cell_type": "code",
      "execution_count": null,
      "metadata": {
        "colab": {
          "base_uri": "https://localhost:8080/",
          "height": 206
        },
        "id": "5PxxXauC44a1",
        "outputId": "469bb691-4de8-499e-fccc-d7d56a96b9e9"
      },
      "outputs": [
        {
          "data": {
            "text/html": [
              "<div>\n",
              "<style scoped>\n",
              "    .dataframe tbody tr th:only-of-type {\n",
              "        vertical-align: middle;\n",
              "    }\n",
              "\n",
              "    .dataframe tbody tr th {\n",
              "        vertical-align: top;\n",
              "    }\n",
              "\n",
              "    .dataframe thead th {\n",
              "        text-align: right;\n",
              "    }\n",
              "</style>\n",
              "<table border=\"1\" class=\"dataframe\">\n",
              "  <thead>\n",
              "    <tr style=\"text-align: right;\">\n",
              "      <th></th>\n",
              "      <th>exp</th>\n",
              "      <th>age</th>\n",
              "      <th>salary</th>\n",
              "      <th>country</th>\n",
              "    </tr>\n",
              "  </thead>\n",
              "  <tbody>\n",
              "    <tr>\n",
              "      <th>0</th>\n",
              "      <td>1.1</td>\n",
              "      <td>21.0</td>\n",
              "      <td>39343</td>\n",
              "      <td>Egypt</td>\n",
              "    </tr>\n",
              "    <tr>\n",
              "      <th>1</th>\n",
              "      <td>1.3</td>\n",
              "      <td>21.5</td>\n",
              "      <td>46205</td>\n",
              "      <td>Libya</td>\n",
              "    </tr>\n",
              "    <tr>\n",
              "      <th>2</th>\n",
              "      <td>1.5</td>\n",
              "      <td>21.7</td>\n",
              "      <td>37731</td>\n",
              "      <td>UAE</td>\n",
              "    </tr>\n",
              "    <tr>\n",
              "      <th>3</th>\n",
              "      <td>2.0</td>\n",
              "      <td>22.0</td>\n",
              "      <td>43525</td>\n",
              "      <td>Egypt</td>\n",
              "    </tr>\n",
              "    <tr>\n",
              "      <th>4</th>\n",
              "      <td>2.2</td>\n",
              "      <td>22.2</td>\n",
              "      <td>39891</td>\n",
              "      <td>UAE</td>\n",
              "    </tr>\n",
              "  </tbody>\n",
              "</table>\n",
              "</div>"
            ],
            "text/plain": [
              "   exp  age  salary country\n",
              "0  1.1 21.0   39343   Egypt\n",
              "1  1.3 21.5   46205   Libya\n",
              "2  1.5 21.7   37731     UAE\n",
              "3  2.0 22.0   43525   Egypt\n",
              "4  2.2 22.2   39891     UAE"
            ]
          },
          "execution_count": 38,
          "metadata": {},
          "output_type": "execute_result"
        }
      ],
      "source": [
        "df.head()"
      ]
    },
    {
      "cell_type": "code",
      "execution_count": null,
      "metadata": {
        "colab": {
          "base_uri": "https://localhost:8080/"
        },
        "id": "XGz8olbyqYrP",
        "outputId": "786fa0af-a67d-41f2-ede8-cea97be35e7a"
      },
      "outputs": [
        {
          "data": {
            "text/plain": [
              "array([[1.1, 21.0, 39343, 'Egypt'],\n",
              "       [1.3, 21.5, 46205, 'Libya'],\n",
              "       [1.5, 21.7, 37731, 'UAE'],\n",
              "       [2.0, 22.0, 43525, 'Egypt'],\n",
              "       [2.2, 22.2, 39891, 'UAE'],\n",
              "       [2.9, 23.0, 56642, 'UAE'],\n",
              "       [3.0, 23.0, 60150, 'Egypt'],\n",
              "       [3.2, 23.3, 54445, nan],\n",
              "       [3.2, 23.3, 64445, 'Libya'],\n",
              "       [3.7, 23.6, 57189, 'UAE'],\n",
              "       [3.9, 23.9, 63218, 'Egypt'],\n",
              "       [4.0, 24.0, 55794, 'KSA'],\n",
              "       [4.0, 24.0, 56957, 'KSA'],\n",
              "       [4.1, 24.0, 57081, 'UAE'],\n",
              "       [4.5, 25.0, 61111, 'Egypt'],\n",
              "       [4.9, 25.0, 67938, 'KSA'],\n",
              "       [5.1, 26.0, 66029, 'UAE'],\n",
              "       [5.3, 27.0, 83088, 'KSA'],\n",
              "       [5.9, 28.0, 81363, 'Egypt'],\n",
              "       [6.0, 29.0, 93940, 'KSA'],\n",
              "       [6.8, 30.0, 91738, 'UAE'],\n",
              "       [7.1, 30.0, 98273, 'KSA'],\n",
              "       [7.9, 31.0, 101302, 'Egypt'],\n",
              "       [8.2, 32.0, 113812, 'UAE'],\n",
              "       [8.7, 33.0, 109431, 'KSA'],\n",
              "       [9.0, 34.0, 105582, 'Libya'],\n",
              "       [9.5, 35.0, 116969, 'UAE'],\n",
              "       [9.6, 36.0, 112635, 'Egypt'],\n",
              "       [10.3, 37.0, 122391, 'KSA'],\n",
              "       [10.5, 38.0, 121872, 'KSA']], dtype=object)"
            ]
          },
          "execution_count": 39,
          "metadata": {},
          "output_type": "execute_result"
        }
      ],
      "source": [
        "df.values"
      ]
    },
    {
      "cell_type": "code",
      "execution_count": null,
      "metadata": {
        "colab": {
          "base_uri": "https://localhost:8080/"
        },
        "id": "Qcw42Ab5-VVN",
        "outputId": "0748446a-50dd-4254-bf57-886585dc4df5"
      },
      "outputs": [
        {
          "data": {
            "text/plain": [
              "array([[1.1, 21.0, 39343, 'Egypt'],\n",
              "       [1.3, 21.5, 46205, 'Libya'],\n",
              "       [1.5, 21.7, 37731, 'UAE'],\n",
              "       [2.0, 22.0, 43525, 'Egypt'],\n",
              "       [2.2, 22.2, 39891, 'UAE'],\n",
              "       [2.9, 23.0, 56642, 'UAE'],\n",
              "       [3.0, 23.0, 60150, 'Egypt'],\n",
              "       [3.2, 23.3, 54445, nan],\n",
              "       [3.2, 23.3, 64445, 'Libya'],\n",
              "       [3.7, 23.6, 57189, 'UAE'],\n",
              "       [3.9, 23.9, 63218, 'Egypt'],\n",
              "       [4.0, 24.0, 55794, 'KSA'],\n",
              "       [4.0, 24.0, 56957, 'KSA'],\n",
              "       [4.1, 24.0, 57081, 'UAE'],\n",
              "       [4.5, 25.0, 61111, 'Egypt'],\n",
              "       [4.9, 25.0, 67938, 'KSA'],\n",
              "       [5.1, 26.0, 66029, 'UAE'],\n",
              "       [5.3, 27.0, 83088, 'KSA'],\n",
              "       [5.9, 28.0, 81363, 'Egypt'],\n",
              "       [6.0, 29.0, 93940, 'KSA'],\n",
              "       [6.8, 30.0, 91738, 'UAE'],\n",
              "       [7.1, 30.0, 98273, 'KSA'],\n",
              "       [7.9, 31.0, 101302, 'Egypt'],\n",
              "       [8.2, 32.0, 113812, 'UAE'],\n",
              "       [8.7, 33.0, 109431, 'KSA'],\n",
              "       [9.0, 34.0, 105582, 'Libya'],\n",
              "       [9.5, 35.0, 116969, 'UAE'],\n",
              "       [9.6, 36.0, 112635, 'Egypt'],\n",
              "       [10.3, 37.0, 122391, 'KSA'],\n",
              "       [10.5, 38.0, 121872, 'KSA']], dtype=object)"
            ]
          },
          "execution_count": 40,
          "metadata": {},
          "output_type": "execute_result"
        }
      ],
      "source": [
        "df.to_numpy()"
      ]
    },
    {
      "cell_type": "code",
      "execution_count": null,
      "metadata": {
        "id": "TSujcJy0nLNW"
      },
      "outputs": [],
      "source": [
        "df['bonus']= df['salary'] * 0.1"
      ]
    },
    {
      "cell_type": "code",
      "execution_count": null,
      "metadata": {
        "id": "8T9CTcrVnLNW",
        "outputId": "b7f27ba6-dacc-435e-88c3-820432d49519"
      },
      "outputs": [
        {
          "data": {
            "text/html": [
              "<div>\n",
              "<style scoped>\n",
              "    .dataframe tbody tr th:only-of-type {\n",
              "        vertical-align: middle;\n",
              "    }\n",
              "\n",
              "    .dataframe tbody tr th {\n",
              "        vertical-align: top;\n",
              "    }\n",
              "\n",
              "    .dataframe thead th {\n",
              "        text-align: right;\n",
              "    }\n",
              "</style>\n",
              "<table border=\"1\" class=\"dataframe\">\n",
              "  <thead>\n",
              "    <tr style=\"text-align: right;\">\n",
              "      <th></th>\n",
              "      <th>exp</th>\n",
              "      <th>age</th>\n",
              "      <th>salary</th>\n",
              "      <th>country</th>\n",
              "      <th>bonus</th>\n",
              "    </tr>\n",
              "  </thead>\n",
              "  <tbody>\n",
              "    <tr>\n",
              "      <th>0</th>\n",
              "      <td>1.1</td>\n",
              "      <td>21.0</td>\n",
              "      <td>39343</td>\n",
              "      <td>Egypt</td>\n",
              "      <td>3,934.3</td>\n",
              "    </tr>\n",
              "    <tr>\n",
              "      <th>1</th>\n",
              "      <td>1.3</td>\n",
              "      <td>21.5</td>\n",
              "      <td>46205</td>\n",
              "      <td>Libya</td>\n",
              "      <td>4,620.5</td>\n",
              "    </tr>\n",
              "    <tr>\n",
              "      <th>2</th>\n",
              "      <td>1.5</td>\n",
              "      <td>21.7</td>\n",
              "      <td>37731</td>\n",
              "      <td>UAE</td>\n",
              "      <td>3,773.1</td>\n",
              "    </tr>\n",
              "    <tr>\n",
              "      <th>3</th>\n",
              "      <td>2.0</td>\n",
              "      <td>22.0</td>\n",
              "      <td>43525</td>\n",
              "      <td>Egypt</td>\n",
              "      <td>4,352.5</td>\n",
              "    </tr>\n",
              "    <tr>\n",
              "      <th>4</th>\n",
              "      <td>2.2</td>\n",
              "      <td>22.2</td>\n",
              "      <td>39891</td>\n",
              "      <td>UAE</td>\n",
              "      <td>3,989.1</td>\n",
              "    </tr>\n",
              "  </tbody>\n",
              "</table>\n",
              "</div>"
            ],
            "text/plain": [
              "   exp  age  salary country   bonus\n",
              "0  1.1 21.0   39343   Egypt 3,934.3\n",
              "1  1.3 21.5   46205   Libya 4,620.5\n",
              "2  1.5 21.7   37731     UAE 3,773.1\n",
              "3  2.0 22.0   43525   Egypt 4,352.5\n",
              "4  2.2 22.2   39891     UAE 3,989.1"
            ]
          },
          "execution_count": 42,
          "metadata": {},
          "output_type": "execute_result"
        }
      ],
      "source": [
        "df.head()"
      ]
    },
    {
      "cell_type": "markdown",
      "metadata": {
        "id": "_U_8CM-MEqKh"
      },
      "source": [
        "## Saving (Writing)"
      ]
    },
    {
      "cell_type": "code",
      "execution_count": null,
      "metadata": {
        "id": "6hkv24kE-X88"
      },
      "outputs": [],
      "source": [
        "df.to_csv('salary_modified.csv')"
      ]
    },
    {
      "cell_type": "markdown",
      "metadata": {
        "id": "DJ6zbsh3Euir"
      },
      "source": [
        "* **There are different formats to save**"
      ]
    },
    {
      "cell_type": "markdown",
      "metadata": {
        "id": "_rKCn7bq2__l"
      },
      "source": [
        "# Univariate Analysis"
      ]
    },
    {
      "cell_type": "markdown",
      "metadata": {
        "id": "yzLNo4Lo3EuF"
      },
      "source": [
        "## Age"
      ]
    },
    {
      "cell_type": "code",
      "execution_count": null,
      "metadata": {
        "colab": {
          "base_uri": "https://localhost:8080/"
        },
        "id": "nNNbreFJ52hs",
        "outputId": "e0829188-87e5-46d4-dfa1-9b2e3f4e1d86"
      },
      "outputs": [
        {
          "data": {
            "text/plain": [
              "0   21.0\n",
              "1   21.5\n",
              "2   21.7\n",
              "3   22.0\n",
              "4   22.2\n",
              "Name: age, dtype: float64"
            ]
          },
          "execution_count": 44,
          "metadata": {},
          "output_type": "execute_result"
        }
      ],
      "source": [
        "df['age'].head()"
      ]
    },
    {
      "cell_type": "code",
      "execution_count": null,
      "metadata": {
        "colab": {
          "base_uri": "https://localhost:8080/"
        },
        "id": "VOu-u0-W54g2",
        "outputId": "e2f226f3-9c68-452e-fc8b-0007c544b7d6"
      },
      "outputs": [
        {
          "data": {
            "text/plain": [
              "0    21.0\n",
              "1    21.5\n",
              "2    21.7\n",
              "3    22.0\n",
              "4    22.2\n",
              "5    23.0\n",
              "6    23.0\n",
              "7    23.3\n",
              "8    23.3\n",
              "9    23.6\n",
              "10   23.9\n",
              "11   24.0\n",
              "12   24.0\n",
              "13   24.0\n",
              "14   25.0\n",
              "15   25.0\n",
              "16   26.0\n",
              "17   27.0\n",
              "18   28.0\n",
              "19   29.0\n",
              "20   30.0\n",
              "21   30.0\n",
              "22   31.0\n",
              "23   32.0\n",
              "24   33.0\n",
              "25   34.0\n",
              "26   35.0\n",
              "27   36.0\n",
              "28   37.0\n",
              "29   38.0\n",
              "Name: age, dtype: float64"
            ]
          },
          "execution_count": 45,
          "metadata": {},
          "output_type": "execute_result"
        }
      ],
      "source": [
        "df.age  # df['age_of_employee']"
      ]
    },
    {
      "cell_type": "code",
      "execution_count": null,
      "metadata": {
        "colab": {
          "base_uri": "https://localhost:8080/"
        },
        "id": "PHMQuHzO3Jne",
        "outputId": "14d6a099-65bd-4434-e170-2a96ddf9ed3d"
      },
      "outputs": [
        {
          "data": {
            "text/plain": [
              "count   30.0\n",
              "mean    27.2\n",
              "std      5.2\n",
              "min     21.0\n",
              "25%     23.3\n",
              "50%     25.0\n",
              "75%     30.8\n",
              "max     38.0\n",
              "Name: age, dtype: float64"
            ]
          },
          "execution_count": 46,
          "metadata": {},
          "output_type": "execute_result"
        }
      ],
      "source": [
        "df.age.describe()"
      ]
    },
    {
      "cell_type": "code",
      "execution_count": null,
      "metadata": {
        "colab": {
          "base_uri": "https://localhost:8080/"
        },
        "id": "rszWIVih4pwW",
        "outputId": "5b13988a-7a9e-4d3a-870a-4fd4436b1292"
      },
      "outputs": [
        {
          "data": {
            "text/plain": [
              "27.216666666666665"
            ]
          },
          "execution_count": 47,
          "metadata": {},
          "output_type": "execute_result"
        }
      ],
      "source": [
        "df.age.mean()"
      ]
    },
    {
      "cell_type": "code",
      "execution_count": null,
      "metadata": {
        "colab": {
          "base_uri": "https://localhost:8080/"
        },
        "id": "dx6XbfQt5uss",
        "outputId": "369e955e-a3c0-44be-b30d-c20c44ca8078"
      },
      "outputs": [
        {
          "name": "stdout",
          "output_type": "stream",
          "text": [
            "27.216666666666665\n"
          ]
        }
      ],
      "source": [
        "print(np.mean(df['age']))"
      ]
    },
    {
      "cell_type": "code",
      "execution_count": null,
      "metadata": {
        "colab": {
          "base_uri": "https://localhost:8080/"
        },
        "id": "3-eDEquR4-Fv",
        "outputId": "d3474ed1-5cc6-4196-cafb-5b01a3e11980"
      },
      "outputs": [
        {
          "data": {
            "text/plain": [
              "0   24.0\n",
              "Name: age, dtype: float64"
            ]
          },
          "execution_count": 49,
          "metadata": {},
          "output_type": "execute_result"
        }
      ],
      "source": [
        "df.age.mode()"
      ]
    },
    {
      "cell_type": "code",
      "execution_count": null,
      "metadata": {
        "id": "wr4rbN1RnLNZ",
        "outputId": "d3298b53-80b8-4e21-ca6f-1ae25584bb64"
      },
      "outputs": [
        {
          "data": {
            "text/plain": [
              "pandas.core.series.Series"
            ]
          },
          "execution_count": 50,
          "metadata": {},
          "output_type": "execute_result"
        }
      ],
      "source": [
        "type(df.age.mode())"
      ]
    },
    {
      "cell_type": "code",
      "execution_count": null,
      "metadata": {
        "id": "SMhpUAG3nLNZ",
        "outputId": "f43c4994-1a20-4273-a470-8c816e0fd690"
      },
      "outputs": [
        {
          "data": {
            "text/plain": [
              "24.0"
            ]
          },
          "execution_count": 51,
          "metadata": {},
          "output_type": "execute_result"
        }
      ],
      "source": [
        "df.age.mode()[0]"
      ]
    },
    {
      "cell_type": "code",
      "execution_count": null,
      "metadata": {
        "colab": {
          "base_uri": "https://localhost:8080/"
        },
        "id": "La47Eh3J5HQM",
        "outputId": "8a178d4b-16d0-4ddd-9bd7-68b0177f170a"
      },
      "outputs": [
        {
          "data": {
            "text/plain": [
              "25.0"
            ]
          },
          "execution_count": 52,
          "metadata": {},
          "output_type": "execute_result"
        }
      ],
      "source": [
        "df.age.median()"
      ]
    },
    {
      "cell_type": "code",
      "execution_count": null,
      "metadata": {
        "colab": {
          "base_uri": "https://localhost:8080/"
        },
        "id": "tKNmxREf5Kmw",
        "outputId": "72a58bb8-b800-40e8-edc0-40ee89770cd9"
      },
      "outputs": [
        {
          "data": {
            "text/plain": [
              "26.63867816091954"
            ]
          },
          "execution_count": 53,
          "metadata": {},
          "output_type": "execute_result"
        }
      ],
      "source": [
        "df.age.var()"
      ]
    },
    {
      "cell_type": "code",
      "execution_count": null,
      "metadata": {
        "colab": {
          "base_uri": "https://localhost:8080/"
        },
        "id": "sJC68I355MlV",
        "outputId": "0ad3ed76-cc63-4477-81eb-074db10142e2"
      },
      "outputs": [
        {
          "data": {
            "text/plain": [
              "5.161267108077196"
            ]
          },
          "execution_count": 54,
          "metadata": {},
          "output_type": "execute_result"
        }
      ],
      "source": [
        "df.age.std()"
      ]
    },
    {
      "cell_type": "code",
      "execution_count": null,
      "metadata": {
        "id": "JD0UqWwsnLNa",
        "outputId": "a0ae4de6-32eb-41ce-dc35-a36b9cf3cb45"
      },
      "outputs": [
        {
          "data": {
            "text/plain": [
              "23.3"
            ]
          },
          "execution_count": 55,
          "metadata": {},
          "output_type": "execute_result"
        }
      ],
      "source": [
        "df.age.quantile(0.25)"
      ]
    },
    {
      "cell_type": "code",
      "execution_count": null,
      "metadata": {
        "id": "4SH--x96nLNa",
        "outputId": "24694b35-f46d-41f1-ea3f-e206027e4ed1"
      },
      "outputs": [
        {
          "data": {
            "text/plain": [
              "0.2   23.3\n",
              "0.5   25.0\n",
              "0.8   30.8\n",
              "0.8   32.2\n",
              "0.9   35.1\n",
              "Name: age, dtype: float64"
            ]
          },
          "execution_count": 56,
          "metadata": {},
          "output_type": "execute_result"
        }
      ],
      "source": [
        "df.age.quantile([0.25, 0.5, 0.75, 0.8,0.9])"
      ]
    },
    {
      "cell_type": "code",
      "execution_count": null,
      "metadata": {
        "id": "hpIkUUu3nLNa",
        "outputId": "1e820ff0-da2b-4a2a-9eeb-7495f7972717"
      },
      "outputs": [
        {
          "data": {
            "text/plain": [
              "21.0"
            ]
          },
          "execution_count": 57,
          "metadata": {},
          "output_type": "execute_result"
        }
      ],
      "source": [
        "df.age.min()"
      ]
    },
    {
      "cell_type": "code",
      "execution_count": null,
      "metadata": {
        "id": "0ka7XSwSnLNa",
        "outputId": "f7b76325-675a-4607-ee35-f53d5e77f5b7"
      },
      "outputs": [
        {
          "data": {
            "text/plain": [
              "38.0"
            ]
          },
          "execution_count": 58,
          "metadata": {},
          "output_type": "execute_result"
        }
      ],
      "source": [
        "df.age.max()"
      ]
    },
    {
      "cell_type": "code",
      "execution_count": null,
      "metadata": {
        "id": "wCp-u4E6nLNb",
        "outputId": "160ba068-3f48-4352-9f76-c27354f47056"
      },
      "outputs": [
        {
          "data": {
            "text/plain": [
              "<Axes: >"
            ]
          },
          "execution_count": 59,
          "metadata": {},
          "output_type": "execute_result"
        },
        {
          "data": {
            "image/png": "[encoded data removed]",
            "text/plain": [
              "<Figure size 640x480 with 1 Axes>"
            ]
          },
          "metadata": {},
          "output_type": "display_data"
        }
      ],
      "source": [
        "df.age.hist()"
      ]
    },
    {
      "cell_type": "code",
      "execution_count": null,
      "metadata": {
        "id": "RYKlBOGEnLNb",
        "outputId": "6854bad1-2884-4b9b-a582-11f44488dc47"
      },
      "outputs": [
        {
          "data": {
            "image/png": "[encoded data removed]",
            "text/plain": [
              "<Figure size 640x480 with 1 Axes>"
            ]
          },
          "metadata": {},
          "output_type": "display_data"
        }
      ],
      "source": [
        "df.age.hist();"
      ]
    },
    {
      "cell_type": "code",
      "execution_count": null,
      "metadata": {
        "colab": {
          "base_uri": "https://localhost:8080/",
          "height": 268
        },
        "id": "v8xkOgj65WAz",
        "outputId": "6ec32fa0-969e-4b59-dd97-20f2b5150f03"
      },
      "outputs": [
        {
          "data": {
            "image/png": "[encoded data removed]",
            "text/plain": [
              "<Figure size 640x480 with 1 Axes>"
            ]
          },
          "metadata": {},
          "output_type": "display_data"
        }
      ],
      "source": [
        "_= df.age.hist()    # Using Pandas"
      ]
    },
    {
      "cell_type": "code",
      "execution_count": null,
      "metadata": {
        "id": "eW9AVuQsnLNb"
      },
      "outputs": [],
      "source": [
        "import matplotlib.pyplot as plt"
      ]
    },
    {
      "cell_type": "code",
      "execution_count": null,
      "metadata": {
        "colab": {
          "base_uri": "https://localhost:8080/",
          "height": 268
        },
        "id": "oM1zzIXX5aE7",
        "outputId": "1b1d10b0-5b8f-4abc-bdd2-9f297e0310cb"
      },
      "outputs": [
        {
          "data": {
            "image/png": "[encoded data removed]",
            "text/plain": [
              "<Figure size 640x480 with 1 Axes>"
            ]
          },
          "metadata": {},
          "output_type": "display_data"
        }
      ],
      "source": [
        "plt.hist(df.age);    # Using Matplotlib"
      ]
    },
    {
      "cell_type": "code",
      "execution_count": null,
      "metadata": {
        "id": "xQTy-NMinLNc"
      },
      "outputs": [],
      "source": [
        "import seaborn as sns"
      ]
    },
    {
      "cell_type": "code",
      "execution_count": null,
      "metadata": {
        "id": "A7bkUyLrnLNc",
        "outputId": "4a1cf813-bb17-419d-eec3-8204f2335464"
      },
      "outputs": [
        {
          "name": "stderr",
          "output_type": "stream",
          "text": [
            "c:\\Users\\ahmad\\anaconda3\\Lib\\site-packages\\seaborn\\_oldcore.py:1119: FutureWarning: use_inf_as_na option is deprecated and will be removed in a future version. Convert inf values to NaN before operating instead.\n",
            "  with pd.option_context('mode.use_inf_as_na', True):\n"
          ]
        },
        {
          "data": {
            "image/png": "[encoded data removed]",
            "text/plain": [
              "<Figure size 640x480 with 1 Axes>"
            ]
          },
          "metadata": {},
          "output_type": "display_data"
        }
      ],
      "source": [
        "_=sns.histplot(df.age)    # Using Seaborn"
      ]
    },
    {
      "cell_type": "code",
      "execution_count": null,
      "metadata": {
        "colab": {
          "base_uri": "https://localhost:8080/",
          "height": 303
        },
        "id": "MLIZlMzt5-Vk",
        "outputId": "6162ffcf-97cc-4e8c-ab41-941dfdc8b37c"
      },
      "outputs": [
        {
          "name": "stderr",
          "output_type": "stream",
          "text": [
            "c:\\Users\\ahmad\\anaconda3\\Lib\\site-packages\\seaborn\\_oldcore.py:1119: FutureWarning: use_inf_as_na option is deprecated and will be removed in a future version. Convert inf values to NaN before operating instead.\n",
            "  with pd.option_context('mode.use_inf_as_na', True):\n"
          ]
        },
        {
          "data": {
            "text/plain": [
              "<Axes: xlabel='age', ylabel='Count'>"
            ]
          },
          "execution_count": 66,
          "metadata": {},
          "output_type": "execute_result"
        },
        {
          "data": {
            "image/png": "[encoded data removed]",
            "text/plain": [
              "<Figure size 640x480 with 1 Axes>"
            ]
          },
          "metadata": {},
          "output_type": "display_data"
        }
      ],
      "source": [
        "sns.set_theme()  # check other themes\n",
        "sns.histplot(x='age', data=df)    # Using Seaborn"
      ]
    },
    {
      "cell_type": "code",
      "execution_count": null,
      "metadata": {
        "colab": {
          "base_uri": "https://localhost:8080/",
          "height": 303
        },
        "id": "JqIoykqM6Ibx",
        "outputId": "32504e2b-6cbc-4224-c928-d8be45aef9a4"
      },
      "outputs": [
        {
          "name": "stderr",
          "output_type": "stream",
          "text": [
            "c:\\Users\\ahmad\\anaconda3\\Lib\\site-packages\\seaborn\\_oldcore.py:1119: FutureWarning: use_inf_as_na option is deprecated and will be removed in a future version. Convert inf values to NaN before operating instead.\n",
            "  with pd.option_context('mode.use_inf_as_na', True):\n"
          ]
        },
        {
          "data": {
            "text/plain": [
              "<Axes: xlabel='age', ylabel='Count'>"
            ]
          },
          "execution_count": 67,
          "metadata": {},
          "output_type": "execute_result"
        },
        {
          "data": {
            "image/png": "[encoded data removed]",
            "text/plain": [
              "<Figure size 640x480 with 1 Axes>"
            ]
          },
          "metadata": {},
          "output_type": "display_data"
        }
      ],
      "source": [
        "sns.histplot(df.age)"
      ]
    },
    {
      "cell_type": "markdown",
      "metadata": {
        "id": "aGOkYwhi6uny"
      },
      "source": [
        "* **You can customize your histogram : No. of bins, bin width, Count or Percentage, color....etc**\n",
        "\n",
        "* Check this link for more options: [Histogram by Seaborn](https://python-charts.com/distribution/histogram-seaborn/)"
      ]
    },
    {
      "cell_type": "code",
      "execution_count": null,
      "metadata": {
        "id": "9SGKyKYP7i22"
      },
      "outputs": [],
      "source": [
        "# sns.distplot(df.age, kde = True)"
      ]
    },
    {
      "cell_type": "code",
      "execution_count": null,
      "metadata": {
        "colab": {
          "base_uri": "https://localhost:8080/",
          "height": 383
        },
        "id": "ysMEcDNH79u6",
        "outputId": "885f2869-c7e3-40d8-8b02-93daf54c9ae4"
      },
      "outputs": [
        {
          "name": "stderr",
          "output_type": "stream",
          "text": [
            "c:\\Users\\ahmad\\anaconda3\\Lib\\site-packages\\seaborn\\_oldcore.py:1119: FutureWarning: use_inf_as_na option is deprecated and will be removed in a future version. Convert inf values to NaN before operating instead.\n",
            "  with pd.option_context('mode.use_inf_as_na', True):\n"
          ]
        },
        {
          "data": {
            "text/plain": [
              "<seaborn.axisgrid.FacetGrid at 0x211abcbdb10>"
            ]
          },
          "execution_count": 70,
          "metadata": {},
          "output_type": "execute_result"
        },
        {
          "data": {
            "image/png": "[encoded data removed]",
            "text/plain": [
              "<Figure size 500x500 with 1 Axes>"
            ]
          },
          "metadata": {},
          "output_type": "display_data"
        }
      ],
      "source": [
        "sns.displot(x= 'age', kde = True, data=df)"
      ]
    },
    {
      "cell_type": "code",
      "execution_count": null,
      "metadata": {
        "colab": {
          "base_uri": "https://localhost:8080/",
          "height": 303
        },
        "id": "YtRz1Bu_RcYk",
        "outputId": "a7605081-55d8-46ae-bd5a-ef587b72ba7a"
      },
      "outputs": [
        {
          "data": {
            "text/plain": [
              "<Axes: xlabel='age', ylabel='Density'>"
            ]
          },
          "execution_count": 124,
          "metadata": {},
          "output_type": "execute_result"
        },
        {
          "data": {
            "image/png": "[encoded data removed]",
            "text/plain": [
              "<Figure size 640x480 with 1 Axes>"
            ]
          },
          "metadata": {},
          "output_type": "display_data"
        }
      ],
      "source": [
        "sns.kdeplot(x= 'age', data=df)"
      ]
    },
    {
      "cell_type": "code",
      "execution_count": null,
      "metadata": {
        "colab": {
          "base_uri": "https://localhost:8080/",
          "height": 285
        },
        "id": "-4KDHUBu2GaQ",
        "outputId": "74842459-b8c4-419e-8912-600b6c09f7b6"
      },
      "outputs": [
        {
          "data": {
            "image/png": "[encoded data removed]",
            "text/plain": [
              "<Figure size 640x480 with 1 Axes>"
            ]
          },
          "metadata": {},
          "output_type": "display_data"
        }
      ],
      "source": [
        "sns.boxplot(x = \"age\", data = df);"
      ]
    },
    {
      "cell_type": "code",
      "execution_count": null,
      "metadata": {
        "colab": {
          "base_uri": "https://localhost:8080/",
          "height": 248
        },
        "id": "9mg4_Y3v2LFb",
        "outputId": "9aa1258e-e3d6-47c9-e0e8-175b2060fc89"
      },
      "outputs": [
        {
          "data": {
            "image/png": "[encoded data removed]",
            "text/plain": [
              "<Figure size 640x480 with 1 Axes>"
            ]
          },
          "metadata": {},
          "output_type": "display_data"
        }
      ],
      "source": [
        "sns.boxplot(y = \"age\", data = df,\n",
        "            color = \"orange\");"
      ]
    },
    {
      "cell_type": "markdown",
      "metadata": {
        "id": "UV4Oi6Ur2W0_"
      },
      "source": [
        "**Further customization for Boxplot:** [Boxplot_Seaborn](https://python-charts.com/distribution/box-plot-seaborn/)"
      ]
    },
    {
      "cell_type": "markdown",
      "metadata": {
        "id": "QUrvx3iK8Krd"
      },
      "source": [
        "## Country"
      ]
    },
    {
      "cell_type": "code",
      "execution_count": null,
      "metadata": {
        "colab": {
          "base_uri": "https://localhost:8080/"
        },
        "id": "kzhjHEFgQGgz",
        "outputId": "f706078b-4941-4ae5-b7a2-c2b639b7f352"
      },
      "outputs": [
        {
          "data": {
            "text/plain": [
              "count      29\n",
              "unique      4\n",
              "top       UAE\n",
              "freq        9\n",
              "Name: country, dtype: object"
            ]
          },
          "execution_count": 127,
          "metadata": {},
          "output_type": "execute_result"
        }
      ],
      "source": [
        "df['country'].describe()"
      ]
    },
    {
      "cell_type": "code",
      "execution_count": null,
      "metadata": {
        "colab": {
          "base_uri": "https://localhost:8080/"
        },
        "id": "Uto0SS3M0SI8",
        "outputId": "6fd5cca8-57b9-46cf-bc1c-485892a66de0"
      },
      "outputs": [
        {
          "data": {
            "text/plain": [
              "4"
            ]
          },
          "execution_count": 128,
          "metadata": {},
          "output_type": "execute_result"
        }
      ],
      "source": [
        "df.country.nunique()        # No. of Unique Values"
      ]
    },
    {
      "cell_type": "code",
      "execution_count": null,
      "metadata": {
        "colab": {
          "base_uri": "https://localhost:8080/"
        },
        "id": "lpUhQ0cK0a6_",
        "outputId": "6db27448-c640-46f0-f5a6-e484f751c163"
      },
      "outputs": [
        {
          "data": {
            "text/plain": [
              "array(['Egypt', 'Libya', 'UAE', nan, 'KSA'], dtype=object)"
            ]
          },
          "execution_count": 129,
          "metadata": {},
          "output_type": "execute_result"
        }
      ],
      "source": [
        "df.country.unique()        # Names of Unique Values"
      ]
    },
    {
      "cell_type": "code",
      "execution_count": null,
      "metadata": {
        "colab": {
          "base_uri": "https://localhost:8080/"
        },
        "id": "zsMJxJjd0fDD",
        "outputId": "dc7254e4-c954-4d70-b3be-f0f544de0fc1"
      },
      "outputs": [
        {
          "data": {
            "text/plain": [
              "UAE      9\n",
              "KSA      9\n",
              "Egypt    8\n",
              "Libya    3\n",
              "Name: country, dtype: int64"
            ]
          },
          "execution_count": 130,
          "metadata": {},
          "output_type": "execute_result"
        }
      ],
      "source": [
        "df.country.value_counts()        # Counts of Unique Values"
      ]
    },
    {
      "cell_type": "code",
      "execution_count": null,
      "metadata": {
        "id": "Tu9qMXZynLNf",
        "outputId": "af479b8d-52ce-4bc2-a563-6cf62fb8dfd6"
      },
      "outputs": [
        {
          "data": {
            "text/plain": [
              "country\n",
              "UAE     0.3\n",
              "KSA     0.3\n",
              "Egypt   0.3\n",
              "Libya   0.1\n",
              "Name: proportion, dtype: float64"
            ]
          },
          "execution_count": 75,
          "metadata": {},
          "output_type": "execute_result"
        }
      ],
      "source": [
        "df.country.value_counts(normalize= True).round(5)        # Precentage of Unique Values"
      ]
    },
    {
      "cell_type": "code",
      "execution_count": null,
      "metadata": {
        "colab": {
          "base_uri": "https://localhost:8080/"
        },
        "id": "-epnQ6otZeyQ",
        "outputId": "c42af0a0-300d-46b3-fa23-c418f961c0cd"
      },
      "outputs": [
        {
          "data": {
            "text/plain": [
              "pandas.core.series.Series"
            ]
          },
          "execution_count": 131,
          "metadata": {},
          "output_type": "execute_result"
        }
      ],
      "source": [
        "type(df.country.value_counts())"
      ]
    },
    {
      "cell_type": "code",
      "execution_count": null,
      "metadata": {
        "colab": {
          "base_uri": "https://localhost:8080/",
          "height": 308
        },
        "id": "ll6duNgZSJDv",
        "outputId": "fbe16b16-a65f-462a-e319-8c6c2434f85c"
      },
      "outputs": [
        {
          "data": {
            "text/plain": [
              "<Axes: >"
            ]
          },
          "execution_count": 132,
          "metadata": {},
          "output_type": "execute_result"
        },
        {
          "data": {
            "image/png": "[encoded data removed]",
            "text/plain": [
              "<Figure size 640x480 with 1 Axes>"
            ]
          },
          "metadata": {},
          "output_type": "display_data"
        }
      ],
      "source": [
        "df.country.value_counts().plot(kind='bar')"
      ]
    },
    {
      "cell_type": "code",
      "execution_count": null,
      "metadata": {
        "colab": {
          "base_uri": "https://localhost:8080/",
          "height": 175
        },
        "id": "-NjZukdPSpwr",
        "outputId": "487d21c6-4439-4566-d8d2-608c9b2a3c3b"
      },
      "outputs": [
        {
          "data": {
            "text/html": [
              "<div>\n",
              "<style scoped>\n",
              "    .dataframe tbody tr th:only-of-type {\n",
              "        vertical-align: middle;\n",
              "    }\n",
              "\n",
              "    .dataframe tbody tr th {\n",
              "        vertical-align: top;\n",
              "    }\n",
              "\n",
              "    .dataframe thead th {\n",
              "        text-align: right;\n",
              "    }\n",
              "</style>\n",
              "<table border=\"1\" class=\"dataframe\">\n",
              "  <thead>\n",
              "    <tr style=\"text-align: right;\">\n",
              "      <th></th>\n",
              "      <th>country</th>\n",
              "      <th>count</th>\n",
              "    </tr>\n",
              "  </thead>\n",
              "  <tbody>\n",
              "    <tr>\n",
              "      <th>0</th>\n",
              "      <td>UAE</td>\n",
              "      <td>9</td>\n",
              "    </tr>\n",
              "    <tr>\n",
              "      <th>1</th>\n",
              "      <td>KSA</td>\n",
              "      <td>9</td>\n",
              "    </tr>\n",
              "    <tr>\n",
              "      <th>2</th>\n",
              "      <td>Egypt</td>\n",
              "      <td>8</td>\n",
              "    </tr>\n",
              "    <tr>\n",
              "      <th>3</th>\n",
              "      <td>Libya</td>\n",
              "      <td>3</td>\n",
              "    </tr>\n",
              "  </tbody>\n",
              "</table>\n",
              "</div>"
            ],
            "text/plain": [
              "  country  count\n",
              "0     UAE      9\n",
              "1     KSA      9\n",
              "2   Egypt      8\n",
              "3   Libya      3"
            ]
          },
          "execution_count": 76,
          "metadata": {},
          "output_type": "execute_result"
        }
      ],
      "source": [
        "country_count = df.country.value_counts().reset_index()\n",
        "country_count"
      ]
    },
    {
      "cell_type": "code",
      "execution_count": null,
      "metadata": {
        "colab": {
          "base_uri": "https://localhost:8080/",
          "height": 303
        },
        "id": "sumq8kv1SRuU",
        "outputId": "eae6ee62-3bb0-4dfe-9564-86436c52d7ed"
      },
      "outputs": [
        {
          "data": {
            "text/plain": [
              "<Axes: xlabel='country', ylabel='count'>"
            ]
          },
          "execution_count": 78,
          "metadata": {},
          "output_type": "execute_result"
        },
        {
          "data": {
            "image/png": "[encoded data removed]",
            "text/plain": [
              "<Figure size 640x480 with 1 Axes>"
            ]
          },
          "metadata": {},
          "output_type": "display_data"
        }
      ],
      "source": [
        "palette_color = sns.color_palette('pastel6')\n",
        "\n",
        "sns.barplot(x='country', y='count', data= country_count, color='blue')"
      ]
    },
    {
      "cell_type": "code",
      "execution_count": null,
      "metadata": {
        "id": "MftNofJZnLNg",
        "outputId": "e86d5459-c122-4ec2-8cd0-c4e0670f85c5"
      },
      "outputs": [
        {
          "data": {
            "text/plain": [
              "country\n",
              "UAE      9\n",
              "KSA      9\n",
              "Egypt    8\n",
              "Libya    3\n",
              "Name: count, dtype: int64"
            ]
          },
          "execution_count": 88,
          "metadata": {},
          "output_type": "execute_result"
        }
      ],
      "source": [
        "df.country.value_counts()"
      ]
    },
    {
      "cell_type": "code",
      "execution_count": null,
      "metadata": {
        "id": "ygMbB4tdnLNg",
        "outputId": "41390d93-90fa-4314-a183-de1fd5bda990"
      },
      "outputs": [
        {
          "data": {
            "text/plain": [
              "country\n",
              "Libya    3\n",
              "Egypt    8\n",
              "UAE      9\n",
              "KSA      9\n",
              "Name: count, dtype: int64"
            ]
          },
          "execution_count": 90,
          "metadata": {},
          "output_type": "execute_result"
        }
      ],
      "source": [
        "df.country.value_counts().sort_values(ascending=True)"
      ]
    },
    {
      "cell_type": "code",
      "execution_count": null,
      "metadata": {
        "id": "LwrRH26TnLNg",
        "outputId": "692654b8-373b-4ab2-b059-e12509bf493e"
      },
      "outputs": [
        {
          "data": {
            "text/plain": [
              "<Axes: xlabel='count', ylabel='country'>"
            ]
          },
          "execution_count": 93,
          "metadata": {},
          "output_type": "execute_result"
        },
        {
          "data": {
            "image/png": "[encoded data removed]",
            "text/plain": [
              "<Figure size 640x480 with 1 Axes>"
            ]
          },
          "metadata": {},
          "output_type": "display_data"
        }
      ],
      "source": [
        "sns.countplot(y='country', data= df, color='blue', order= df.country.value_counts().index)"
      ]
    },
    {
      "cell_type": "code",
      "execution_count": null,
      "metadata": {
        "id": "loH8RQTBnLNg",
        "outputId": "20efcd83-4dad-44e8-c969-11cb7e3af49c"
      },
      "outputs": [
        {
          "data": {
            "text/plain": [
              "<Axes: xlabel='country', ylabel='count'>"
            ]
          },
          "execution_count": 92,
          "metadata": {},
          "output_type": "execute_result"
        },
        {
          "data": {
            "image/png": "[encoded data removed]",
            "text/plain": [
              "<Figure size 640x480 with 1 Axes>"
            ]
          },
          "metadata": {},
          "output_type": "display_data"
        }
      ],
      "source": [
        "sns.countplot(x='country', data= df, color='blue', order= df.country.value_counts().sort_values(ascending=True).index)"
      ]
    },
    {
      "cell_type": "code",
      "execution_count": null,
      "metadata": {
        "id": "BN-JOwTqnLNg",
        "outputId": "6e543990-77df-4e84-bf31-1b5727949646"
      },
      "outputs": [
        {
          "data": {
            "text/html": [
              "<div>\n",
              "<style scoped>\n",
              "    .dataframe tbody tr th:only-of-type {\n",
              "        vertical-align: middle;\n",
              "    }\n",
              "\n",
              "    .dataframe tbody tr th {\n",
              "        vertical-align: top;\n",
              "    }\n",
              "\n",
              "    .dataframe thead th {\n",
              "        text-align: right;\n",
              "    }\n",
              "</style>\n",
              "<table border=\"1\" class=\"dataframe\">\n",
              "  <thead>\n",
              "    <tr style=\"text-align: right;\">\n",
              "      <th></th>\n",
              "      <th>country</th>\n",
              "      <th>count</th>\n",
              "    </tr>\n",
              "  </thead>\n",
              "  <tbody>\n",
              "    <tr>\n",
              "      <th>0</th>\n",
              "      <td>UAE</td>\n",
              "      <td>9</td>\n",
              "    </tr>\n",
              "    <tr>\n",
              "      <th>1</th>\n",
              "      <td>KSA</td>\n",
              "      <td>9</td>\n",
              "    </tr>\n",
              "    <tr>\n",
              "      <th>2</th>\n",
              "      <td>Egypt</td>\n",
              "      <td>8</td>\n",
              "    </tr>\n",
              "    <tr>\n",
              "      <th>3</th>\n",
              "      <td>Libya</td>\n",
              "      <td>3</td>\n",
              "    </tr>\n",
              "  </tbody>\n",
              "</table>\n",
              "</div>"
            ],
            "text/plain": [
              "  country  count\n",
              "0     UAE      9\n",
              "1     KSA      9\n",
              "2   Egypt      8\n",
              "3   Libya      3"
            ]
          },
          "execution_count": 96,
          "metadata": {},
          "output_type": "execute_result"
        }
      ],
      "source": [
        "country_count"
      ]
    },
    {
      "cell_type": "code",
      "execution_count": null,
      "metadata": {
        "id": "wP6EbTBpnLNh",
        "outputId": "f69c9f80-a7dd-4727-e17a-0c466b940aad"
      },
      "outputs": [
        {
          "data": {
            "text/html": [
              "<div>\n",
              "<style scoped>\n",
              "    .dataframe tbody tr th:only-of-type {\n",
              "        vertical-align: middle;\n",
              "    }\n",
              "\n",
              "    .dataframe tbody tr th {\n",
              "        vertical-align: top;\n",
              "    }\n",
              "\n",
              "    .dataframe thead th {\n",
              "        text-align: right;\n",
              "    }\n",
              "</style>\n",
              "<table border=\"1\" class=\"dataframe\">\n",
              "  <thead>\n",
              "    <tr style=\"text-align: right;\">\n",
              "      <th></th>\n",
              "      <th>country</th>\n",
              "      <th>count</th>\n",
              "      <th>percentage</th>\n",
              "    </tr>\n",
              "  </thead>\n",
              "  <tbody>\n",
              "    <tr>\n",
              "      <th>0</th>\n",
              "      <td>UAE</td>\n",
              "      <td>9</td>\n",
              "      <td>0.3</td>\n",
              "    </tr>\n",
              "    <tr>\n",
              "      <th>1</th>\n",
              "      <td>KSA</td>\n",
              "      <td>9</td>\n",
              "      <td>0.3</td>\n",
              "    </tr>\n",
              "    <tr>\n",
              "      <th>2</th>\n",
              "      <td>Egypt</td>\n",
              "      <td>8</td>\n",
              "      <td>0.3</td>\n",
              "    </tr>\n",
              "    <tr>\n",
              "      <th>3</th>\n",
              "      <td>Libya</td>\n",
              "      <td>3</td>\n",
              "      <td>0.1</td>\n",
              "    </tr>\n",
              "  </tbody>\n",
              "</table>\n",
              "</div>"
            ],
            "text/plain": [
              "  country  count  percentage\n",
              "0     UAE      9         0.3\n",
              "1     KSA      9         0.3\n",
              "2   Egypt      8         0.3\n",
              "3   Libya      3         0.1"
            ]
          },
          "execution_count": 114,
          "metadata": {},
          "output_type": "execute_result"
        }
      ],
      "source": [
        "country_count['percentage'] = country_count['count']/country_count['count'].sum()\n",
        "country_count"
      ]
    },
    {
      "cell_type": "code",
      "execution_count": null,
      "metadata": {
        "colab": {
          "base_uri": "https://localhost:8080/",
          "height": 248
        },
        "id": "Yr6tlc-M2lsT",
        "outputId": "f45572d3-bd30-447f-e3d9-4271b3845394"
      },
      "outputs": [
        {
          "data": {
            "image/png": "[encoded data removed]",
            "text/plain": [
              "<Figure size 640x480 with 1 Axes>"
            ]
          },
          "metadata": {},
          "output_type": "display_data"
        }
      ],
      "source": [
        "_=plt.pie(x=country_count['count'], labels=country_count.country,  autopct='%.0f%%')"
      ]
    },
    {
      "cell_type": "code",
      "execution_count": null,
      "metadata": {
        "colab": {
          "base_uri": "https://localhost:8080/",
          "height": 248
        },
        "id": "kRBRMRB44CSK",
        "outputId": "f143cdfb-acaa-40e2-dc81-4765ed6bfda7"
      },
      "outputs": [
        {
          "data": {
            "image/png": "[encoded data removed]",
            "text/plain": [
              "<Figure size 640x480 with 1 Axes>"
            ]
          },
          "metadata": {},
          "output_type": "display_data"
        }
      ],
      "source": [
        "# define Seaborn color palette to use\n",
        "palette_color = sns.color_palette('pastel6')\n",
        "\n",
        "# plotting data on chart\n",
        "plt.pie(x=country_count['count'], labels=country_count.country,  autopct='%.0f%%', colors=palette_color)\n",
        "\n",
        "# displaying chart\n",
        "plt.show()"
      ]
    },
    {
      "cell_type": "markdown",
      "metadata": {
        "id": "bFyAIl6G5zFL"
      },
      "source": [
        "**Further customization for Colors:** [Color_Palette_Seaborn](https://seaborn.pydata.org/tutorial/color_palettes.html)"
      ]
    },
    {
      "cell_type": "markdown",
      "metadata": {
        "id": "uWnZtTES9yxp"
      },
      "source": [
        "# Bivariate Analysis"
      ]
    },
    {
      "cell_type": "markdown",
      "metadata": {
        "id": "lKEinwHgnLNi"
      },
      "source": [
        "## Categorical vs Numerical"
      ]
    },
    {
      "cell_type": "markdown",
      "metadata": {
        "id": "gs1744ManLNi"
      },
      "source": [
        "`df.groupby(cat_feature).num_feature.agg('mean')`\n",
        "* cat feature >> Grouping\n",
        "* num feature >> Aggregation (Min, Max, Mean, Sum, Count, etc)"
      ]
    },
    {
      "cell_type": "code",
      "execution_count": null,
      "metadata": {
        "id": "ey8kYx-LnLNi",
        "outputId": "221234c2-4afb-4505-8bbb-76a4968bc222"
      },
      "outputs": [
        {
          "data": {
            "text/html": [
              "<div>\n",
              "<style scoped>\n",
              "    .dataframe tbody tr th:only-of-type {\n",
              "        vertical-align: middle;\n",
              "    }\n",
              "\n",
              "    .dataframe tbody tr th {\n",
              "        vertical-align: top;\n",
              "    }\n",
              "\n",
              "    .dataframe thead th {\n",
              "        text-align: right;\n",
              "    }\n",
              "</style>\n",
              "<table border=\"1\" class=\"dataframe\">\n",
              "  <thead>\n",
              "    <tr style=\"text-align: right;\">\n",
              "      <th></th>\n",
              "      <th>exp</th>\n",
              "      <th>age</th>\n",
              "      <th>salary</th>\n",
              "      <th>bonus</th>\n",
              "    </tr>\n",
              "    <tr>\n",
              "      <th>country</th>\n",
              "      <th></th>\n",
              "      <th></th>\n",
              "      <th></th>\n",
              "      <th></th>\n",
              "    </tr>\n",
              "  </thead>\n",
              "  <tbody>\n",
              "    <tr>\n",
              "      <th>Egypt</th>\n",
              "      <td>4.7</td>\n",
              "      <td>26.2</td>\n",
              "      <td>70,330.9</td>\n",
              "      <td>7,033.1</td>\n",
              "    </tr>\n",
              "    <tr>\n",
              "      <th>KSA</th>\n",
              "      <td>6.8</td>\n",
              "      <td>29.7</td>\n",
              "      <td>89,964.9</td>\n",
              "      <td>8,996.5</td>\n",
              "    </tr>\n",
              "    <tr>\n",
              "      <th>Libya</th>\n",
              "      <td>4.5</td>\n",
              "      <td>26.3</td>\n",
              "      <td>72,077.3</td>\n",
              "      <td>7,207.7</td>\n",
              "    </tr>\n",
              "    <tr>\n",
              "      <th>UAE</th>\n",
              "      <td>4.9</td>\n",
              "      <td>26.4</td>\n",
              "      <td>70,786.9</td>\n",
              "      <td>7,078.7</td>\n",
              "    </tr>\n",
              "  </tbody>\n",
              "</table>\n",
              "</div>"
            ],
            "text/plain": [
              "         exp  age   salary   bonus\n",
              "country                           \n",
              "Egypt    4.7 26.2 70,330.9 7,033.1\n",
              "KSA      6.8 29.7 89,964.9 8,996.5\n",
              "Libya    4.5 26.3 72,077.3 7,207.7\n",
              "UAE      4.9 26.4 70,786.9 7,078.7"
            ]
          },
          "execution_count": 121,
          "metadata": {},
          "output_type": "execute_result"
        }
      ],
      "source": [
        "df.groupby('country').agg('mean')"
      ]
    },
    {
      "cell_type": "code",
      "execution_count": null,
      "metadata": {
        "id": "i4t0nFOUnLNi",
        "outputId": "f5149c84-ceb6-4f0c-c194-3fe619798ccc"
      },
      "outputs": [
        {
          "data": {
            "text/plain": [
              "country\n",
              "Egypt   70,330.9\n",
              "KSA     89,964.9\n",
              "Libya   72,077.3\n",
              "UAE     70,786.9\n",
              "Name: salary, dtype: float64"
            ]
          },
          "execution_count": 122,
          "metadata": {},
          "output_type": "execute_result"
        }
      ],
      "source": [
        "df.groupby('country').agg('mean')['salary']"
      ]
    },
    {
      "cell_type": "code",
      "execution_count": null,
      "metadata": {
        "id": "1d9Dxw5rnLNi",
        "outputId": "02763400-0671-4af5-9571-9ed1d2a4a7c0"
      },
      "outputs": [
        {
          "data": {
            "text/plain": [
              "country\n",
              "Egypt   70,330.9\n",
              "KSA     89,964.9\n",
              "Libya   72,077.3\n",
              "UAE     70,786.9\n",
              "Name: salary, dtype: float64"
            ]
          },
          "execution_count": 123,
          "metadata": {},
          "output_type": "execute_result"
        }
      ],
      "source": [
        "df.groupby('country').mean()['salary']"
      ]
    },
    {
      "cell_type": "code",
      "execution_count": null,
      "metadata": {
        "colab": {
          "base_uri": "https://localhost:8080/"
        },
        "id": "9AdP925C1WoA",
        "outputId": "ebad1968-34f8-4f91-b714-7fb695fbcdff"
      },
      "outputs": [
        {
          "data": {
            "text/plain": [
              "country\n",
              "Egypt   70,330.9\n",
              "KSA     89,964.9\n",
              "Libya   72,077.3\n",
              "UAE     70,786.9\n",
              "Name: salary, dtype: float64"
            ]
          },
          "execution_count": 142,
          "metadata": {},
          "output_type": "execute_result"
        }
      ],
      "source": [
        "df.groupby('country').salary.agg('mean')"
      ]
    },
    {
      "cell_type": "code",
      "execution_count": null,
      "metadata": {
        "id": "2duhxJWdnLNj",
        "outputId": "98ca11a5-e7a2-40a7-b925-1d3533f785a7"
      },
      "outputs": [
        {
          "data": {
            "text/plain": [
              "country\n",
              "Egypt   70,330.9\n",
              "KSA     89,964.9\n",
              "Libya   72,077.3\n",
              "UAE     70,786.9\n",
              "Name: salary, dtype: float64"
            ]
          },
          "execution_count": 124,
          "metadata": {},
          "output_type": "execute_result"
        }
      ],
      "source": [
        "df.groupby('country')['salary'].mean()"
      ]
    },
    {
      "cell_type": "code",
      "execution_count": null,
      "metadata": {
        "id": "O5JJ3dF_nLNj",
        "outputId": "b942549d-6eb9-48b2-ab2c-9a40dfebe827"
      },
      "outputs": [
        {
          "data": {
            "text/plain": [
              "country\n",
              "Egypt    562647\n",
              "KSA      809684\n",
              "Libya    216232\n",
              "UAE      637082\n",
              "Name: salary, dtype: int64"
            ]
          },
          "execution_count": 125,
          "metadata": {},
          "output_type": "execute_result"
        }
      ],
      "source": [
        "df.groupby('country').sum()['salary']"
      ]
    },
    {
      "cell_type": "code",
      "execution_count": null,
      "metadata": {
        "id": "mKh2ifVKnLNj",
        "outputId": "ebf898a2-2a76-4a15-eec8-3f99e974c7ac"
      },
      "outputs": [
        {
          "data": {
            "text/html": [
              "<div>\n",
              "<style scoped>\n",
              "    .dataframe tbody tr th:only-of-type {\n",
              "        vertical-align: middle;\n",
              "    }\n",
              "\n",
              "    .dataframe tbody tr th {\n",
              "        vertical-align: top;\n",
              "    }\n",
              "\n",
              "    .dataframe thead th {\n",
              "        text-align: right;\n",
              "    }\n",
              "</style>\n",
              "<table border=\"1\" class=\"dataframe\">\n",
              "  <thead>\n",
              "    <tr style=\"text-align: right;\">\n",
              "      <th></th>\n",
              "      <th>mean</th>\n",
              "      <th>std</th>\n",
              "      <th>min</th>\n",
              "      <th>max</th>\n",
              "      <th>sum</th>\n",
              "    </tr>\n",
              "    <tr>\n",
              "      <th>country</th>\n",
              "      <th></th>\n",
              "      <th></th>\n",
              "      <th></th>\n",
              "      <th></th>\n",
              "      <th></th>\n",
              "    </tr>\n",
              "  </thead>\n",
              "  <tbody>\n",
              "    <tr>\n",
              "      <th>Egypt</th>\n",
              "      <td>70,330.9</td>\n",
              "      <td>26,155.1</td>\n",
              "      <td>39343</td>\n",
              "      <td>112635</td>\n",
              "      <td>562647</td>\n",
              "    </tr>\n",
              "    <tr>\n",
              "      <th>KSA</th>\n",
              "      <td>89,964.9</td>\n",
              "      <td>25,794.7</td>\n",
              "      <td>55794</td>\n",
              "      <td>122391</td>\n",
              "      <td>809684</td>\n",
              "    </tr>\n",
              "    <tr>\n",
              "      <th>Libya</th>\n",
              "      <td>72,077.3</td>\n",
              "      <td>30,415.4</td>\n",
              "      <td>46205</td>\n",
              "      <td>105582</td>\n",
              "      <td>216232</td>\n",
              "    </tr>\n",
              "    <tr>\n",
              "      <th>UAE</th>\n",
              "      <td>70,786.9</td>\n",
              "      <td>29,718.7</td>\n",
              "      <td>37731</td>\n",
              "      <td>116969</td>\n",
              "      <td>637082</td>\n",
              "    </tr>\n",
              "  </tbody>\n",
              "</table>\n",
              "</div>"
            ],
            "text/plain": [
              "            mean      std    min     max     sum\n",
              "country                                         \n",
              "Egypt   70,330.9 26,155.1  39343  112635  562647\n",
              "KSA     89,964.9 25,794.7  55794  122391  809684\n",
              "Libya   72,077.3 30,415.4  46205  105582  216232\n",
              "UAE     70,786.9 29,718.7  37731  116969  637082"
            ]
          },
          "execution_count": 126,
          "metadata": {},
          "output_type": "execute_result"
        }
      ],
      "source": [
        "df.groupby('country')['salary'].agg(['mean','std', 'min', 'max', 'sum'])"
      ]
    },
    {
      "cell_type": "code",
      "execution_count": null,
      "metadata": {
        "id": "_N4GerAvnLNj",
        "outputId": "964be210-45b8-4534-d526-06157d79a0aa"
      },
      "outputs": [
        {
          "data": {
            "text/html": [
              "<style type=\"text/css\">\n",
              "#T_c65bb_row1_col0, #T_c65bb_row1_col2, #T_c65bb_row1_col3, #T_c65bb_row1_col4, #T_c65bb_row2_col1 {\n",
              "  background-color: green;\n",
              "}\n",
              "</style>\n",
              "<table id=\"T_c65bb\">\n",
              "  <thead>\n",
              "    <tr>\n",
              "      <th class=\"blank level0\" >&nbsp;</th>\n",
              "      <th id=\"T_c65bb_level0_col0\" class=\"col_heading level0 col0\" >mean</th>\n",
              "      <th id=\"T_c65bb_level0_col1\" class=\"col_heading level0 col1\" >std</th>\n",
              "      <th id=\"T_c65bb_level0_col2\" class=\"col_heading level0 col2\" >min</th>\n",
              "      <th id=\"T_c65bb_level0_col3\" class=\"col_heading level0 col3\" >max</th>\n",
              "      <th id=\"T_c65bb_level0_col4\" class=\"col_heading level0 col4\" >sum</th>\n",
              "    </tr>\n",
              "    <tr>\n",
              "      <th class=\"index_name level0\" >country</th>\n",
              "      <th class=\"blank col0\" >&nbsp;</th>\n",
              "      <th class=\"blank col1\" >&nbsp;</th>\n",
              "      <th class=\"blank col2\" >&nbsp;</th>\n",
              "      <th class=\"blank col3\" >&nbsp;</th>\n",
              "      <th class=\"blank col4\" >&nbsp;</th>\n",
              "    </tr>\n",
              "  </thead>\n",
              "  <tbody>\n",
              "    <tr>\n",
              "      <th id=\"T_c65bb_level0_row0\" class=\"row_heading level0 row0\" >Egypt</th>\n",
              "      <td id=\"T_c65bb_row0_col0\" class=\"data row0 col0\" >70330.875000</td>\n",
              "      <td id=\"T_c65bb_row0_col1\" class=\"data row0 col1\" >26155.059578</td>\n",
              "      <td id=\"T_c65bb_row0_col2\" class=\"data row0 col2\" >39343</td>\n",
              "      <td id=\"T_c65bb_row0_col3\" class=\"data row0 col3\" >112635</td>\n",
              "      <td id=\"T_c65bb_row0_col4\" class=\"data row0 col4\" >562647</td>\n",
              "    </tr>\n",
              "    <tr>\n",
              "      <th id=\"T_c65bb_level0_row1\" class=\"row_heading level0 row1\" >KSA</th>\n",
              "      <td id=\"T_c65bb_row1_col0\" class=\"data row1 col0\" >89964.888889</td>\n",
              "      <td id=\"T_c65bb_row1_col1\" class=\"data row1 col1\" >25794.664984</td>\n",
              "      <td id=\"T_c65bb_row1_col2\" class=\"data row1 col2\" >55794</td>\n",
              "      <td id=\"T_c65bb_row1_col3\" class=\"data row1 col3\" >122391</td>\n",
              "      <td id=\"T_c65bb_row1_col4\" class=\"data row1 col4\" >809684</td>\n",
              "    </tr>\n",
              "    <tr>\n",
              "      <th id=\"T_c65bb_level0_row2\" class=\"row_heading level0 row2\" >Libya</th>\n",
              "      <td id=\"T_c65bb_row2_col0\" class=\"data row2 col0\" >72077.333333</td>\n",
              "      <td id=\"T_c65bb_row2_col1\" class=\"data row2 col1\" >30415.397685</td>\n",
              "      <td id=\"T_c65bb_row2_col2\" class=\"data row2 col2\" >46205</td>\n",
              "      <td id=\"T_c65bb_row2_col3\" class=\"data row2 col3\" >105582</td>\n",
              "      <td id=\"T_c65bb_row2_col4\" class=\"data row2 col4\" >216232</td>\n",
              "    </tr>\n",
              "    <tr>\n",
              "      <th id=\"T_c65bb_level0_row3\" class=\"row_heading level0 row3\" >UAE</th>\n",
              "      <td id=\"T_c65bb_row3_col0\" class=\"data row3 col0\" >70786.888889</td>\n",
              "      <td id=\"T_c65bb_row3_col1\" class=\"data row3 col1\" >29718.709870</td>\n",
              "      <td id=\"T_c65bb_row3_col2\" class=\"data row3 col2\" >37731</td>\n",
              "      <td id=\"T_c65bb_row3_col3\" class=\"data row3 col3\" >116969</td>\n",
              "      <td id=\"T_c65bb_row3_col4\" class=\"data row3 col4\" >637082</td>\n",
              "    </tr>\n",
              "  </tbody>\n",
              "</table>\n"
            ],
            "text/plain": [
              "<pandas.io.formats.style.Styler at 0x211b5e8a590>"
            ]
          },
          "execution_count": 128,
          "metadata": {},
          "output_type": "execute_result"
        }
      ],
      "source": [
        "df.groupby('country')['salary'].agg(['mean','std', 'min', 'max', 'sum']).style.highlight_max(color='green', axis=0)"
      ]
    },
    {
      "cell_type": "code",
      "execution_count": null,
      "metadata": {
        "id": "0j5fu5EjnLNj",
        "outputId": "83920ad3-b132-4723-dd4c-90b9edc78caa"
      },
      "outputs": [
        {
          "data": {
            "text/html": [
              "<style type=\"text/css\">\n",
              "#T_c24da_row0_col0, #T_c24da_row1_col1, #T_c24da_row2_col3, #T_c24da_row2_col4, #T_c24da_row3_col2 {\n",
              "  background-color: green;\n",
              "}\n",
              "</style>\n",
              "<table id=\"T_c24da\">\n",
              "  <thead>\n",
              "    <tr>\n",
              "      <th class=\"blank level0\" >&nbsp;</th>\n",
              "      <th id=\"T_c24da_level0_col0\" class=\"col_heading level0 col0\" >mean</th>\n",
              "      <th id=\"T_c24da_level0_col1\" class=\"col_heading level0 col1\" >std</th>\n",
              "      <th id=\"T_c24da_level0_col2\" class=\"col_heading level0 col2\" >min</th>\n",
              "      <th id=\"T_c24da_level0_col3\" class=\"col_heading level0 col3\" >max</th>\n",
              "      <th id=\"T_c24da_level0_col4\" class=\"col_heading level0 col4\" >sum</th>\n",
              "    </tr>\n",
              "    <tr>\n",
              "      <th class=\"index_name level0\" >country</th>\n",
              "      <th class=\"blank col0\" >&nbsp;</th>\n",
              "      <th class=\"blank col1\" >&nbsp;</th>\n",
              "      <th class=\"blank col2\" >&nbsp;</th>\n",
              "      <th class=\"blank col3\" >&nbsp;</th>\n",
              "      <th class=\"blank col4\" >&nbsp;</th>\n",
              "    </tr>\n",
              "  </thead>\n",
              "  <tbody>\n",
              "    <tr>\n",
              "      <th id=\"T_c24da_level0_row0\" class=\"row_heading level0 row0\" >Egypt</th>\n",
              "      <td id=\"T_c24da_row0_col0\" class=\"data row0 col0\" >70330.875000</td>\n",
              "      <td id=\"T_c24da_row0_col1\" class=\"data row0 col1\" >26155.059578</td>\n",
              "      <td id=\"T_c24da_row0_col2\" class=\"data row0 col2\" >39343</td>\n",
              "      <td id=\"T_c24da_row0_col3\" class=\"data row0 col3\" >112635</td>\n",
              "      <td id=\"T_c24da_row0_col4\" class=\"data row0 col4\" >562647</td>\n",
              "    </tr>\n",
              "    <tr>\n",
              "      <th id=\"T_c24da_level0_row1\" class=\"row_heading level0 row1\" >KSA</th>\n",
              "      <td id=\"T_c24da_row1_col0\" class=\"data row1 col0\" >89964.888889</td>\n",
              "      <td id=\"T_c24da_row1_col1\" class=\"data row1 col1\" >25794.664984</td>\n",
              "      <td id=\"T_c24da_row1_col2\" class=\"data row1 col2\" >55794</td>\n",
              "      <td id=\"T_c24da_row1_col3\" class=\"data row1 col3\" >122391</td>\n",
              "      <td id=\"T_c24da_row1_col4\" class=\"data row1 col4\" >809684</td>\n",
              "    </tr>\n",
              "    <tr>\n",
              "      <th id=\"T_c24da_level0_row2\" class=\"row_heading level0 row2\" >Libya</th>\n",
              "      <td id=\"T_c24da_row2_col0\" class=\"data row2 col0\" >72077.333333</td>\n",
              "      <td id=\"T_c24da_row2_col1\" class=\"data row2 col1\" >30415.397685</td>\n",
              "      <td id=\"T_c24da_row2_col2\" class=\"data row2 col2\" >46205</td>\n",
              "      <td id=\"T_c24da_row2_col3\" class=\"data row2 col3\" >105582</td>\n",
              "      <td id=\"T_c24da_row2_col4\" class=\"data row2 col4\" >216232</td>\n",
              "    </tr>\n",
              "    <tr>\n",
              "      <th id=\"T_c24da_level0_row3\" class=\"row_heading level0 row3\" >UAE</th>\n",
              "      <td id=\"T_c24da_row3_col0\" class=\"data row3 col0\" >70786.888889</td>\n",
              "      <td id=\"T_c24da_row3_col1\" class=\"data row3 col1\" >29718.709870</td>\n",
              "      <td id=\"T_c24da_row3_col2\" class=\"data row3 col2\" >37731</td>\n",
              "      <td id=\"T_c24da_row3_col3\" class=\"data row3 col3\" >116969</td>\n",
              "      <td id=\"T_c24da_row3_col4\" class=\"data row3 col4\" >637082</td>\n",
              "    </tr>\n",
              "  </tbody>\n",
              "</table>\n"
            ],
            "text/plain": [
              "<pandas.io.formats.style.Styler at 0x211b74f7350>"
            ]
          },
          "execution_count": 129,
          "metadata": {},
          "output_type": "execute_result"
        }
      ],
      "source": [
        "df.groupby('country')['salary'].agg(['mean','std', 'min', 'max', 'sum']).style.highlight_min(color='green', axis=0)"
      ]
    },
    {
      "cell_type": "code",
      "execution_count": null,
      "metadata": {
        "id": "VDfMKd4dnLNk",
        "outputId": "15ee95b2-5143-4824-cb88-1dd0d92d2d2b"
      },
      "outputs": [
        {
          "data": {
            "text/html": [
              "<div>\n",
              "<style scoped>\n",
              "    .dataframe tbody tr th:only-of-type {\n",
              "        vertical-align: middle;\n",
              "    }\n",
              "\n",
              "    .dataframe tbody tr th {\n",
              "        vertical-align: top;\n",
              "    }\n",
              "\n",
              "    .dataframe thead th {\n",
              "        text-align: right;\n",
              "    }\n",
              "</style>\n",
              "<table border=\"1\" class=\"dataframe\">\n",
              "  <thead>\n",
              "    <tr style=\"text-align: right;\">\n",
              "      <th></th>\n",
              "      <th>country</th>\n",
              "      <th>mean</th>\n",
              "      <th>std</th>\n",
              "    </tr>\n",
              "  </thead>\n",
              "  <tbody>\n",
              "    <tr>\n",
              "      <th>0</th>\n",
              "      <td>Egypt</td>\n",
              "      <td>70,330.9</td>\n",
              "      <td>26,155.1</td>\n",
              "    </tr>\n",
              "    <tr>\n",
              "      <th>1</th>\n",
              "      <td>KSA</td>\n",
              "      <td>89,964.9</td>\n",
              "      <td>25,794.7</td>\n",
              "    </tr>\n",
              "    <tr>\n",
              "      <th>2</th>\n",
              "      <td>Libya</td>\n",
              "      <td>72,077.3</td>\n",
              "      <td>30,415.4</td>\n",
              "    </tr>\n",
              "    <tr>\n",
              "      <th>3</th>\n",
              "      <td>UAE</td>\n",
              "      <td>70,786.9</td>\n",
              "      <td>29,718.7</td>\n",
              "    </tr>\n",
              "  </tbody>\n",
              "</table>\n",
              "</div>"
            ],
            "text/plain": [
              "  country     mean      std\n",
              "0   Egypt 70,330.9 26,155.1\n",
              "1     KSA 89,964.9 25,794.7\n",
              "2   Libya 72,077.3 30,415.4\n",
              "3     UAE 70,786.9 29,718.7"
            ]
          },
          "execution_count": 131,
          "metadata": {},
          "output_type": "execute_result"
        }
      ],
      "source": [
        "df.groupby('country').salary.agg(['mean','std']).reset_index()"
      ]
    },
    {
      "cell_type": "code",
      "execution_count": null,
      "metadata": {
        "id": "uShRz33I1-Ev"
      },
      "outputs": [],
      "source": [
        "sal = df.groupby('country').salary.agg(['mean','std']).reset_index()\n",
        "sal.rename(columns={'mean':'Salary Mean', 'std':'Salary std'}, inplace=True)"
      ]
    },
    {
      "cell_type": "code",
      "execution_count": null,
      "metadata": {
        "id": "mCptpqvvnLNk",
        "outputId": "bc982a83-fe5c-47a5-e992-ad5813fba1ad"
      },
      "outputs": [
        {
          "data": {
            "text/html": [
              "<div>\n",
              "<style scoped>\n",
              "    .dataframe tbody tr th:only-of-type {\n",
              "        vertical-align: middle;\n",
              "    }\n",
              "\n",
              "    .dataframe tbody tr th {\n",
              "        vertical-align: top;\n",
              "    }\n",
              "\n",
              "    .dataframe thead th {\n",
              "        text-align: right;\n",
              "    }\n",
              "</style>\n",
              "<table border=\"1\" class=\"dataframe\">\n",
              "  <thead>\n",
              "    <tr style=\"text-align: right;\">\n",
              "      <th></th>\n",
              "      <th>country</th>\n",
              "      <th>Salary Mean</th>\n",
              "      <th>Salary std</th>\n",
              "    </tr>\n",
              "  </thead>\n",
              "  <tbody>\n",
              "    <tr>\n",
              "      <th>0</th>\n",
              "      <td>Egypt</td>\n",
              "      <td>70,330.9</td>\n",
              "      <td>26,155.1</td>\n",
              "    </tr>\n",
              "    <tr>\n",
              "      <th>1</th>\n",
              "      <td>KSA</td>\n",
              "      <td>89,964.9</td>\n",
              "      <td>25,794.7</td>\n",
              "    </tr>\n",
              "    <tr>\n",
              "      <th>2</th>\n",
              "      <td>Libya</td>\n",
              "      <td>72,077.3</td>\n",
              "      <td>30,415.4</td>\n",
              "    </tr>\n",
              "    <tr>\n",
              "      <th>3</th>\n",
              "      <td>UAE</td>\n",
              "      <td>70,786.9</td>\n",
              "      <td>29,718.7</td>\n",
              "    </tr>\n",
              "  </tbody>\n",
              "</table>\n",
              "</div>"
            ],
            "text/plain": [
              "  country  Salary Mean  Salary std\n",
              "0   Egypt     70,330.9    26,155.1\n",
              "1     KSA     89,964.9    25,794.7\n",
              "2   Libya     72,077.3    30,415.4\n",
              "3     UAE     70,786.9    29,718.7"
            ]
          },
          "execution_count": 133,
          "metadata": {},
          "output_type": "execute_result"
        }
      ],
      "source": [
        "sal"
      ]
    },
    {
      "cell_type": "code",
      "execution_count": null,
      "metadata": {
        "colab": {
          "base_uri": "https://localhost:8080/",
          "height": 303
        },
        "id": "hFNst0uQ1IqQ",
        "outputId": "ab29ebb5-2b37-43ad-f13d-e3aefaa0d769"
      },
      "outputs": [
        {
          "data": {
            "text/plain": [
              "<Axes: xlabel='country', ylabel='salary'>"
            ]
          },
          "execution_count": 138,
          "metadata": {},
          "output_type": "execute_result"
        },
        {
          "data": {
            "image/png": "[encoded data removed]",
            "text/plain": [
              "<Figure size 640x480 with 1 Axes>"
            ]
          },
          "metadata": {},
          "output_type": "display_data"
        }
      ],
      "source": [
        "sns.barplot(data=df, x='country', y='salary', errorbar='ci')"
      ]
    },
    {
      "cell_type": "code",
      "execution_count": null,
      "metadata": {
        "id": "KjJdVVvYnLNl",
        "outputId": "fb1dc3bb-bf43-42a3-a45f-85479a634bf7"
      },
      "outputs": [
        {
          "data": {
            "text/plain": [
              "<Axes: xlabel='country', ylabel='salary'>"
            ]
          },
          "execution_count": 139,
          "metadata": {},
          "output_type": "execute_result"
        },
        {
          "data": {
            "image/png": "[encoded data removed]",
            "text/plain": [
              "<Figure size 640x480 with 1 Axes>"
            ]
          },
          "metadata": {},
          "output_type": "display_data"
        }
      ],
      "source": [
        "sns.barplot(data=df, x='country', y='salary', errorbar=None)"
      ]
    },
    {
      "cell_type": "code",
      "execution_count": null,
      "metadata": {
        "id": "ewiXS65HnLNl",
        "outputId": "22fedcc2-2eb3-48c4-edba-e60571d3a48d"
      },
      "outputs": [
        {
          "data": {
            "text/plain": [
              "<Axes: xlabel='country', ylabel='salary'>"
            ]
          },
          "execution_count": 140,
          "metadata": {},
          "output_type": "execute_result"
        },
        {
          "data": {
            "image/png": "[encoded data removed]",
            "text/plain": [
              "<Figure size 640x480 with 1 Axes>"
            ]
          },
          "metadata": {},
          "output_type": "display_data"
        }
      ],
      "source": [
        "sns.barplot(data=df, x='country', y='salary', estimator=np.sum, errorbar=None)"
      ]
    },
    {
      "cell_type": "markdown",
      "metadata": {
        "id": "ptUIhHAxnLNl"
      },
      "source": [
        "## Numerical vs Numerical"
      ]
    },
    {
      "cell_type": "code",
      "execution_count": null,
      "metadata": {
        "colab": {
          "base_uri": "https://localhost:8080/",
          "height": 285
        },
        "id": "ojHIWNlfBdHa",
        "outputId": "f165eb4e-111a-4a16-fb94-953c8d047fb7"
      },
      "outputs": [
        {
          "data": {
            "image/png": "[encoded data removed]",
            "text/plain": [
              "<Figure size 640x480 with 1 Axes>"
            ]
          },
          "metadata": {},
          "output_type": "display_data"
        }
      ],
      "source": [
        "_ = sns.scatterplot(x= 'age', y='salary', data= df)"
      ]
    },
    {
      "cell_type": "code",
      "execution_count": null,
      "metadata": {
        "colab": {
          "base_uri": "https://localhost:8080/",
          "height": 285
        },
        "id": "9x-uJYJzBnb6",
        "outputId": "a7a3a5e5-f7f5-495b-a387-196d076a0654"
      },
      "outputs": [
        {
          "data": {
            "image/png": "[encoded data removed]",
            "text/plain": [
              "<Figure size 432x288 with 1 Axes>"
            ]
          },
          "metadata": {},
          "output_type": "display_data"
        }
      ],
      "source": [
        "_ = sns.regplot(x='experience', y='salary', data = df)"
      ]
    },
    {
      "cell_type": "code",
      "execution_count": null,
      "metadata": {
        "colab": {
          "base_uri": "https://localhost:8080/",
          "height": 285
        },
        "id": "HRMnXzI1CKYS",
        "outputId": "447afa64-74d3-4e22-a401-5b79a81bbfd0"
      },
      "outputs": [
        {
          "data": {
            "image/png": "[encoded data removed]",
            "text/plain": [
              "<Figure size 432x288 with 1 Axes>"
            ]
          },
          "metadata": {},
          "output_type": "display_data"
        }
      ],
      "source": [
        "_ = sns.regplot(x='age', y='salary', data = df)"
      ]
    },
    {
      "cell_type": "markdown",
      "metadata": {
        "id": "3mSRXcfw9kFF"
      },
      "source": [
        "# Multivariate Analysis"
      ]
    },
    {
      "cell_type": "code",
      "execution_count": null,
      "metadata": {
        "colab": {
          "base_uri": "https://localhost:8080/",
          "height": 548
        },
        "id": "oLT4bt2-BOby",
        "outputId": "e67f9635-c727-4bc3-8343-4e1b15d34d33"
      },
      "outputs": [
        {
          "name": "stderr",
          "output_type": "stream",
          "text": [
            "c:\\Users\\ahmad\\anaconda3\\Lib\\site-packages\\seaborn\\_oldcore.py:1119: FutureWarning: use_inf_as_na option is deprecated and will be removed in a future version. Convert inf values to NaN before operating instead.\n",
            "  with pd.option_context('mode.use_inf_as_na', True):\n",
            "c:\\Users\\ahmad\\anaconda3\\Lib\\site-packages\\seaborn\\_oldcore.py:1119: FutureWarning: use_inf_as_na option is deprecated and will be removed in a future version. Convert inf values to NaN before operating instead.\n",
            "  with pd.option_context('mode.use_inf_as_na', True):\n",
            "c:\\Users\\ahmad\\anaconda3\\Lib\\site-packages\\seaborn\\_oldcore.py:1119: FutureWarning: use_inf_as_na option is deprecated and will be removed in a future version. Convert inf values to NaN before operating instead.\n",
            "  with pd.option_context('mode.use_inf_as_na', True):\n",
            "c:\\Users\\ahmad\\anaconda3\\Lib\\site-packages\\seaborn\\_oldcore.py:1119: FutureWarning: use_inf_as_na option is deprecated and will be removed in a future version. Convert inf values to NaN before operating instead.\n",
            "  with pd.option_context('mode.use_inf_as_na', True):\n"
          ]
        },
        {
          "data": {
            "image/png": "[encoded data removed]",
            "text/plain": [
              "<Figure size 1000x1000 with 20 Axes>"
            ]
          },
          "metadata": {},
          "output_type": "display_data"
        }
      ],
      "source": [
        "_= sns.pairplot(df)"
      ]
    },
    {
      "cell_type": "code",
      "execution_count": null,
      "metadata": {
        "colab": {
          "base_uri": "https://localhost:8080/",
          "height": 285
        },
        "id": "-HyiaIxT6Gvh",
        "outputId": "63966201-6823-405f-feed-50e7db3f30e4"
      },
      "outputs": [
        {
          "data": {
            "image/png": "[encoded data removed]",
            "text/plain": [
              "<Figure size 432x288 with 1 Axes>"
            ]
          },
          "metadata": {},
          "output_type": "display_data"
        }
      ],
      "source": [
        "_ = sns.scatterplot(x= 'age', y='salary', hue='country', data= df)"
      ]
    },
    {
      "cell_type": "code",
      "execution_count": null,
      "metadata": {
        "id": "IpK0vxT8nLNn",
        "outputId": "df175a62-87ca-4b1c-e240-9192e2a161c3"
      },
      "outputs": [
        {
          "data": {
            "image/png": "[encoded data removed]",
            "text/plain": [
              "<Figure size 640x480 with 1 Axes>"
            ]
          },
          "metadata": {},
          "output_type": "display_data"
        }
      ],
      "source": [
        "_ = sns.scatterplot(x= 'age', y='salary', data= df, size='exp')"
      ]
    },
    {
      "cell_type": "code",
      "execution_count": null,
      "metadata": {
        "id": "Pd51AWZ2nLNn",
        "outputId": "18f6918a-df79-4d85-f943-50cf3102c779"
      },
      "outputs": [
        {
          "data": {
            "image/png": "[encoded data removed]",
            "text/plain": [
              "<Figure size 640x480 with 1 Axes>"
            ]
          },
          "metadata": {},
          "output_type": "display_data"
        }
      ],
      "source": [
        "_ = sns.scatterplot(x= 'age', y='salary', data= df, size='exp', hue='country')"
      ]
    },
    {
      "cell_type": "code",
      "execution_count": null,
      "metadata": {
        "id": "ICq6m_glnLNn",
        "outputId": "8e2e0dab-3549-4d7e-989d-47dcca415f2a"
      },
      "outputs": [
        {
          "data": {
            "text/plain": [
              "0.9745295055554654"
            ]
          },
          "execution_count": 156,
          "metadata": {},
          "output_type": "execute_result"
        }
      ],
      "source": [
        "df.corr(numeric_only=True)['salary']['age']"
      ]
    },
    {
      "cell_type": "code",
      "execution_count": null,
      "metadata": {
        "colab": {
          "base_uri": "https://localhost:8080/",
          "height": 143
        },
        "id": "F9-3csCo99hN",
        "outputId": "a852feaa-8868-4589-d38f-bcf9015b6b71"
      },
      "outputs": [
        {
          "data": {
            "text/html": [
              "<div>\n",
              "<style scoped>\n",
              "    .dataframe tbody tr th:only-of-type {\n",
              "        vertical-align: middle;\n",
              "    }\n",
              "\n",
              "    .dataframe tbody tr th {\n",
              "        vertical-align: top;\n",
              "    }\n",
              "\n",
              "    .dataframe thead th {\n",
              "        text-align: right;\n",
              "    }\n",
              "</style>\n",
              "<table border=\"1\" class=\"dataframe\">\n",
              "  <thead>\n",
              "    <tr style=\"text-align: right;\">\n",
              "      <th></th>\n",
              "      <th>exp</th>\n",
              "      <th>age</th>\n",
              "      <th>salary</th>\n",
              "      <th>bonus</th>\n",
              "    </tr>\n",
              "  </thead>\n",
              "  <tbody>\n",
              "    <tr>\n",
              "      <th>exp</th>\n",
              "      <td>1.0</td>\n",
              "      <td>1.0</td>\n",
              "      <td>1.0</td>\n",
              "      <td>1.0</td>\n",
              "    </tr>\n",
              "    <tr>\n",
              "      <th>age</th>\n",
              "      <td>1.0</td>\n",
              "      <td>1.0</td>\n",
              "      <td>1.0</td>\n",
              "      <td>1.0</td>\n",
              "    </tr>\n",
              "    <tr>\n",
              "      <th>salary</th>\n",
              "      <td>1.0</td>\n",
              "      <td>1.0</td>\n",
              "      <td>1.0</td>\n",
              "      <td>1.0</td>\n",
              "    </tr>\n",
              "    <tr>\n",
              "      <th>bonus</th>\n",
              "      <td>1.0</td>\n",
              "      <td>1.0</td>\n",
              "      <td>1.0</td>\n",
              "      <td>1.0</td>\n",
              "    </tr>\n",
              "  </tbody>\n",
              "</table>\n",
              "</div>"
            ],
            "text/plain": [
              "        exp  age  salary  bonus\n",
              "exp     1.0  1.0     1.0    1.0\n",
              "age     1.0  1.0     1.0    1.0\n",
              "salary  1.0  1.0     1.0    1.0\n",
              "bonus   1.0  1.0     1.0    1.0"
            ]
          },
          "execution_count": 146,
          "metadata": {},
          "output_type": "execute_result"
        }
      ],
      "source": [
        "df.corr(numeric_only=True)"
      ]
    },
    {
      "cell_type": "code",
      "execution_count": null,
      "metadata": {
        "id": "eIdT4ky2nLNo",
        "outputId": "e5cf90d1-dc2e-45b3-cd48-b2ec09e8d316"
      },
      "outputs": [
        {
          "data": {
            "text/html": [
              "<style type=\"text/css\">\n",
              "#T_320c2_row0_col0, #T_320c2_row1_col1, #T_320c2_row2_col2, #T_320c2_row2_col3, #T_320c2_row3_col2, #T_320c2_row3_col3 {\n",
              "  background-color: #f0f921;\n",
              "  color: #000000;\n",
              "}\n",
              "#T_320c2_row0_col1 {\n",
              "  background-color: #cb4679;\n",
              "  color: #f1f1f1;\n",
              "}\n",
              "#T_320c2_row0_col2, #T_320c2_row0_col3 {\n",
              "  background-color: #5502a4;\n",
              "  color: #f1f1f1;\n",
              "}\n",
              "#T_320c2_row1_col0 {\n",
              "  background-color: #b52f8c;\n",
              "  color: #f1f1f1;\n",
              "}\n",
              "#T_320c2_row1_col2, #T_320c2_row1_col3, #T_320c2_row2_col0, #T_320c2_row2_col1, #T_320c2_row3_col0, #T_320c2_row3_col1 {\n",
              "  background-color: #0d0887;\n",
              "  color: #f1f1f1;\n",
              "}\n",
              "</style>\n",
              "<table id=\"T_320c2\">\n",
              "  <thead>\n",
              "    <tr>\n",
              "      <th class=\"blank level0\" >&nbsp;</th>\n",
              "      <th id=\"T_320c2_level0_col0\" class=\"col_heading level0 col0\" >exp</th>\n",
              "      <th id=\"T_320c2_level0_col1\" class=\"col_heading level0 col1\" >age</th>\n",
              "      <th id=\"T_320c2_level0_col2\" class=\"col_heading level0 col2\" >salary</th>\n",
              "      <th id=\"T_320c2_level0_col3\" class=\"col_heading level0 col3\" >bonus</th>\n",
              "    </tr>\n",
              "  </thead>\n",
              "  <tbody>\n",
              "    <tr>\n",
              "      <th id=\"T_320c2_level0_row0\" class=\"row_heading level0 row0\" >exp</th>\n",
              "      <td id=\"T_320c2_row0_col0\" class=\"data row0 col0\" >1.000000</td>\n",
              "      <td id=\"T_320c2_row0_col1\" class=\"data row0 col1\" >0.987258</td>\n",
              "      <td id=\"T_320c2_row0_col2\" class=\"data row0 col2\" >0.978242</td>\n",
              "      <td id=\"T_320c2_row0_col3\" class=\"data row0 col3\" >0.978242</td>\n",
              "    </tr>\n",
              "    <tr>\n",
              "      <th id=\"T_320c2_level0_row1\" class=\"row_heading level0 row1\" >age</th>\n",
              "      <td id=\"T_320c2_row1_col0\" class=\"data row1 col0\" >0.987258</td>\n",
              "      <td id=\"T_320c2_row1_col1\" class=\"data row1 col1\" >1.000000</td>\n",
              "      <td id=\"T_320c2_row1_col2\" class=\"data row1 col2\" >0.974530</td>\n",
              "      <td id=\"T_320c2_row1_col3\" class=\"data row1 col3\" >0.974530</td>\n",
              "    </tr>\n",
              "    <tr>\n",
              "      <th id=\"T_320c2_level0_row2\" class=\"row_heading level0 row2\" >salary</th>\n",
              "      <td id=\"T_320c2_row2_col0\" class=\"data row2 col0\" >0.978242</td>\n",
              "      <td id=\"T_320c2_row2_col1\" class=\"data row2 col1\" >0.974530</td>\n",
              "      <td id=\"T_320c2_row2_col2\" class=\"data row2 col2\" >1.000000</td>\n",
              "      <td id=\"T_320c2_row2_col3\" class=\"data row2 col3\" >1.000000</td>\n",
              "    </tr>\n",
              "    <tr>\n",
              "      <th id=\"T_320c2_level0_row3\" class=\"row_heading level0 row3\" >bonus</th>\n",
              "      <td id=\"T_320c2_row3_col0\" class=\"data row3 col0\" >0.978242</td>\n",
              "      <td id=\"T_320c2_row3_col1\" class=\"data row3 col1\" >0.974530</td>\n",
              "      <td id=\"T_320c2_row3_col2\" class=\"data row3 col2\" >1.000000</td>\n",
              "      <td id=\"T_320c2_row3_col3\" class=\"data row3 col3\" >1.000000</td>\n",
              "    </tr>\n",
              "  </tbody>\n",
              "</table>\n"
            ],
            "text/plain": [
              "<pandas.io.formats.style.Styler at 0x211b8b57350>"
            ]
          },
          "execution_count": 147,
          "metadata": {},
          "output_type": "execute_result"
        }
      ],
      "source": [
        "df.corr(numeric_only=True).style.background_gradient(cmap='plasma')"
      ]
    },
    {
      "cell_type": "code",
      "execution_count": null,
      "metadata": {
        "colab": {
          "base_uri": "https://localhost:8080/",
          "height": 272
        },
        "id": "h072x247BZgz",
        "outputId": "0a39c24d-1563-4cd9-b54f-f2d95ed208d4"
      },
      "outputs": [
        {
          "data": {
            "image/png": "[encoded data removed]",
            "text/plain": [
              "<Figure size 640x480 with 2 Axes>"
            ]
          },
          "metadata": {},
          "output_type": "display_data"
        }
      ],
      "source": [
        "_= sns.heatmap(df.corr(numeric_only=True), annot = True)"
      ]
    },
    {
      "cell_type": "code",
      "execution_count": null,
      "metadata": {
        "id": "bisH6bMenLNo",
        "outputId": "cdeceb3d-fe3a-4967-a79c-72e97b4d17b7"
      },
      "outputs": [
        {
          "data": {
            "text/html": [
              "<style type=\"text/css\">\n",
              "#T_c16e4_row0_col1 {\n",
              "  background-color: #19068c;\n",
              "  color: #f1f1f1;\n",
              "}\n",
              "#T_c16e4_row0_col2, #T_c16e4_row2_col1 {\n",
              "  background-color: #0d0887;\n",
              "  color: #f1f1f1;\n",
              "}\n",
              "#T_c16e4_row1_col1 {\n",
              "  background-color: #41049d;\n",
              "  color: #f1f1f1;\n",
              "}\n",
              "#T_c16e4_row1_col2 {\n",
              "  background-color: #20068f;\n",
              "  color: #f1f1f1;\n",
              "}\n",
              "#T_c16e4_row2_col2 {\n",
              "  background-color: #260591;\n",
              "  color: #f1f1f1;\n",
              "}\n",
              "#T_c16e4_row3_col1 {\n",
              "  background-color: #330597;\n",
              "  color: #f1f1f1;\n",
              "}\n",
              "#T_c16e4_row3_col2 {\n",
              "  background-color: #2f0596;\n",
              "  color: #f1f1f1;\n",
              "}\n",
              "#T_c16e4_row4_col1 {\n",
              "  background-color: #1d068e;\n",
              "  color: #f1f1f1;\n",
              "}\n",
              "#T_c16e4_row4_col2 {\n",
              "  background-color: #350498;\n",
              "  color: #f1f1f1;\n",
              "}\n",
              "#T_c16e4_row5_col1 {\n",
              "  background-color: #7401a8;\n",
              "  color: #f1f1f1;\n",
              "}\n",
              "#T_c16e4_row5_col2, #T_c16e4_row6_col2 {\n",
              "  background-color: #4903a0;\n",
              "  color: #f1f1f1;\n",
              "}\n",
              "#T_c16e4_row6_col1 {\n",
              "  background-color: #8305a7;\n",
              "  color: #f1f1f1;\n",
              "}\n",
              "#T_c16e4_row7_col1 {\n",
              "  background-color: #6900a8;\n",
              "  color: #f1f1f1;\n",
              "}\n",
              "#T_c16e4_row7_col2, #T_c16e4_row8_col2 {\n",
              "  background-color: #5002a2;\n",
              "  color: #f1f1f1;\n",
              "}\n",
              "#T_c16e4_row8_col1 {\n",
              "  background-color: #9511a1;\n",
              "  color: #f1f1f1;\n",
              "}\n",
              "#T_c16e4_row9_col1, #T_c16e4_row12_col1, #T_c16e4_row13_col1 {\n",
              "  background-color: #7501a8;\n",
              "  color: #f1f1f1;\n",
              "}\n",
              "#T_c16e4_row9_col2 {\n",
              "  background-color: #5801a4;\n",
              "  color: #f1f1f1;\n",
              "}\n",
              "#T_c16e4_row10_col1 {\n",
              "  background-color: #910ea3;\n",
              "  color: #f1f1f1;\n",
              "}\n",
              "#T_c16e4_row10_col2 {\n",
              "  background-color: #5e01a6;\n",
              "  color: #f1f1f1;\n",
              "}\n",
              "#T_c16e4_row11_col1 {\n",
              "  background-color: #6f00a8;\n",
              "  color: #f1f1f1;\n",
              "}\n",
              "#T_c16e4_row11_col2, #T_c16e4_row12_col2, #T_c16e4_row13_col2 {\n",
              "  background-color: #6100a7;\n",
              "  color: #f1f1f1;\n",
              "}\n",
              "#T_c16e4_row14_col1 {\n",
              "  background-color: #8707a6;\n",
              "  color: #f1f1f1;\n",
              "}\n",
              "#T_c16e4_row14_col2, #T_c16e4_row15_col2 {\n",
              "  background-color: #7801a8;\n",
              "  color: #f1f1f1;\n",
              "}\n",
              "#T_c16e4_row15_col1 {\n",
              "  background-color: #a31e9a;\n",
              "  color: #f1f1f1;\n",
              "}\n",
              "#T_c16e4_row16_col1 {\n",
              "  background-color: #9c179e;\n",
              "  color: #f1f1f1;\n",
              "}\n",
              "#T_c16e4_row16_col2 {\n",
              "  background-color: #8e0ca4;\n",
              "  color: #f1f1f1;\n",
              "}\n",
              "#T_c16e4_row17_col1 {\n",
              "  background-color: #d45270;\n",
              "  color: #f1f1f1;\n",
              "}\n",
              "#T_c16e4_row17_col2 {\n",
              "  background-color: #a21d9a;\n",
              "  color: #f1f1f1;\n",
              "}\n",
              "#T_c16e4_row18_col1 {\n",
              "  background-color: #ce4b75;\n",
              "  color: #f1f1f1;\n",
              "}\n",
              "#T_c16e4_row18_col2 {\n",
              "  background-color: #b42e8d;\n",
              "  color: #f1f1f1;\n",
              "}\n",
              "#T_c16e4_row19_col1 {\n",
              "  background-color: #ec7754;\n",
              "  color: #f1f1f1;\n",
              "}\n",
              "#T_c16e4_row19_col2 {\n",
              "  background-color: #c43e7f;\n",
              "  color: #f1f1f1;\n",
              "}\n",
              "#T_c16e4_row20_col1 {\n",
              "  background-color: #e87059;\n",
              "  color: #f1f1f1;\n",
              "}\n",
              "#T_c16e4_row20_col2, #T_c16e4_row21_col2 {\n",
              "  background-color: #d24f71;\n",
              "  color: #f1f1f1;\n",
              "}\n",
              "#T_c16e4_row21_col1 {\n",
              "  background-color: #f48948;\n",
              "  color: #f1f1f1;\n",
              "}\n",
              "#T_c16e4_row22_col1 {\n",
              "  background-color: #f89540;\n",
              "  color: #000000;\n",
              "}\n",
              "#T_c16e4_row22_col2 {\n",
              "  background-color: #de6164;\n",
              "  color: #f1f1f1;\n",
              "}\n",
              "#T_c16e4_row23_col1 {\n",
              "  background-color: #fcce25;\n",
              "  color: #000000;\n",
              "}\n",
              "#T_c16e4_row23_col2 {\n",
              "  background-color: #e97257;\n",
              "  color: #f1f1f1;\n",
              "}\n",
              "#T_c16e4_row24_col1 {\n",
              "  background-color: #feb82c;\n",
              "  color: #000000;\n",
              "}\n",
              "#T_c16e4_row24_col2 {\n",
              "  background-color: #f3854b;\n",
              "  color: #f1f1f1;\n",
              "}\n",
              "#T_c16e4_row25_col1 {\n",
              "  background-color: #fca835;\n",
              "  color: #000000;\n",
              "}\n",
              "#T_c16e4_row25_col2 {\n",
              "  background-color: #f99a3e;\n",
              "  color: #000000;\n",
              "}\n",
              "#T_c16e4_row26_col1 {\n",
              "  background-color: #f9dd25;\n",
              "  color: #000000;\n",
              "}\n",
              "#T_c16e4_row26_col2 {\n",
              "  background-color: #fdaf31;\n",
              "  color: #000000;\n",
              "}\n",
              "#T_c16e4_row27_col1 {\n",
              "  background-color: #fdc827;\n",
              "  color: #000000;\n",
              "}\n",
              "#T_c16e4_row27_col2 {\n",
              "  background-color: #fdc627;\n",
              "  color: #000000;\n",
              "}\n",
              "#T_c16e4_row28_col1, #T_c16e4_row29_col2 {\n",
              "  background-color: #f0f921;\n",
              "  color: #000000;\n",
              "}\n",
              "#T_c16e4_row28_col2 {\n",
              "  background-color: #f8df25;\n",
              "  color: #000000;\n",
              "}\n",
              "#T_c16e4_row29_col1 {\n",
              "  background-color: #f0f724;\n",
              "  color: #000000;\n",
              "}\n",
              "</style>\n",
              "<table id=\"T_c16e4\">\n",
              "  <thead>\n",
              "    <tr>\n",
              "      <th class=\"blank level0\" >&nbsp;</th>\n",
              "      <th id=\"T_c16e4_level0_col0\" class=\"col_heading level0 col0\" >country</th>\n",
              "      <th id=\"T_c16e4_level0_col1\" class=\"col_heading level0 col1\" >salary</th>\n",
              "      <th id=\"T_c16e4_level0_col2\" class=\"col_heading level0 col2\" >age</th>\n",
              "    </tr>\n",
              "  </thead>\n",
              "  <tbody>\n",
              "    <tr>\n",
              "      <th id=\"T_c16e4_level0_row0\" class=\"row_heading level0 row0\" >0</th>\n",
              "      <td id=\"T_c16e4_row0_col0\" class=\"data row0 col0\" >Egypt</td>\n",
              "      <td id=\"T_c16e4_row0_col1\" class=\"data row0 col1\" >39343</td>\n",
              "      <td id=\"T_c16e4_row0_col2\" class=\"data row0 col2\" >21.000000</td>\n",
              "    </tr>\n",
              "    <tr>\n",
              "      <th id=\"T_c16e4_level0_row1\" class=\"row_heading level0 row1\" >1</th>\n",
              "      <td id=\"T_c16e4_row1_col0\" class=\"data row1 col0\" >Libya</td>\n",
              "      <td id=\"T_c16e4_row1_col1\" class=\"data row1 col1\" >46205</td>\n",
              "      <td id=\"T_c16e4_row1_col2\" class=\"data row1 col2\" >21.500000</td>\n",
              "    </tr>\n",
              "    <tr>\n",
              "      <th id=\"T_c16e4_level0_row2\" class=\"row_heading level0 row2\" >2</th>\n",
              "      <td id=\"T_c16e4_row2_col0\" class=\"data row2 col0\" >UAE</td>\n",
              "      <td id=\"T_c16e4_row2_col1\" class=\"data row2 col1\" >37731</td>\n",
              "      <td id=\"T_c16e4_row2_col2\" class=\"data row2 col2\" >21.700000</td>\n",
              "    </tr>\n",
              "    <tr>\n",
              "      <th id=\"T_c16e4_level0_row3\" class=\"row_heading level0 row3\" >3</th>\n",
              "      <td id=\"T_c16e4_row3_col0\" class=\"data row3 col0\" >Egypt</td>\n",
              "      <td id=\"T_c16e4_row3_col1\" class=\"data row3 col1\" >43525</td>\n",
              "      <td id=\"T_c16e4_row3_col2\" class=\"data row3 col2\" >22.000000</td>\n",
              "    </tr>\n",
              "    <tr>\n",
              "      <th id=\"T_c16e4_level0_row4\" class=\"row_heading level0 row4\" >4</th>\n",
              "      <td id=\"T_c16e4_row4_col0\" class=\"data row4 col0\" >UAE</td>\n",
              "      <td id=\"T_c16e4_row4_col1\" class=\"data row4 col1\" >39891</td>\n",
              "      <td id=\"T_c16e4_row4_col2\" class=\"data row4 col2\" >22.200000</td>\n",
              "    </tr>\n",
              "    <tr>\n",
              "      <th id=\"T_c16e4_level0_row5\" class=\"row_heading level0 row5\" >5</th>\n",
              "      <td id=\"T_c16e4_row5_col0\" class=\"data row5 col0\" >UAE</td>\n",
              "      <td id=\"T_c16e4_row5_col1\" class=\"data row5 col1\" >56642</td>\n",
              "      <td id=\"T_c16e4_row5_col2\" class=\"data row5 col2\" >23.000000</td>\n",
              "    </tr>\n",
              "    <tr>\n",
              "      <th id=\"T_c16e4_level0_row6\" class=\"row_heading level0 row6\" >6</th>\n",
              "      <td id=\"T_c16e4_row6_col0\" class=\"data row6 col0\" >Egypt</td>\n",
              "      <td id=\"T_c16e4_row6_col1\" class=\"data row6 col1\" >60150</td>\n",
              "      <td id=\"T_c16e4_row6_col2\" class=\"data row6 col2\" >23.000000</td>\n",
              "    </tr>\n",
              "    <tr>\n",
              "      <th id=\"T_c16e4_level0_row7\" class=\"row_heading level0 row7\" >7</th>\n",
              "      <td id=\"T_c16e4_row7_col0\" class=\"data row7 col0\" >nan</td>\n",
              "      <td id=\"T_c16e4_row7_col1\" class=\"data row7 col1\" >54445</td>\n",
              "      <td id=\"T_c16e4_row7_col2\" class=\"data row7 col2\" >23.300000</td>\n",
              "    </tr>\n",
              "    <tr>\n",
              "      <th id=\"T_c16e4_level0_row8\" class=\"row_heading level0 row8\" >8</th>\n",
              "      <td id=\"T_c16e4_row8_col0\" class=\"data row8 col0\" >Libya</td>\n",
              "      <td id=\"T_c16e4_row8_col1\" class=\"data row8 col1\" >64445</td>\n",
              "      <td id=\"T_c16e4_row8_col2\" class=\"data row8 col2\" >23.300000</td>\n",
              "    </tr>\n",
              "    <tr>\n",
              "      <th id=\"T_c16e4_level0_row9\" class=\"row_heading level0 row9\" >9</th>\n",
              "      <td id=\"T_c16e4_row9_col0\" class=\"data row9 col0\" >UAE</td>\n",
              "      <td id=\"T_c16e4_row9_col1\" class=\"data row9 col1\" >57189</td>\n",
              "      <td id=\"T_c16e4_row9_col2\" class=\"data row9 col2\" >23.600000</td>\n",
              "    </tr>\n",
              "    <tr>\n",
              "      <th id=\"T_c16e4_level0_row10\" class=\"row_heading level0 row10\" >10</th>\n",
              "      <td id=\"T_c16e4_row10_col0\" class=\"data row10 col0\" >Egypt</td>\n",
              "      <td id=\"T_c16e4_row10_col1\" class=\"data row10 col1\" >63218</td>\n",
              "      <td id=\"T_c16e4_row10_col2\" class=\"data row10 col2\" >23.900000</td>\n",
              "    </tr>\n",
              "    <tr>\n",
              "      <th id=\"T_c16e4_level0_row11\" class=\"row_heading level0 row11\" >11</th>\n",
              "      <td id=\"T_c16e4_row11_col0\" class=\"data row11 col0\" >KSA</td>\n",
              "      <td id=\"T_c16e4_row11_col1\" class=\"data row11 col1\" >55794</td>\n",
              "      <td id=\"T_c16e4_row11_col2\" class=\"data row11 col2\" >24.000000</td>\n",
              "    </tr>\n",
              "    <tr>\n",
              "      <th id=\"T_c16e4_level0_row12\" class=\"row_heading level0 row12\" >12</th>\n",
              "      <td id=\"T_c16e4_row12_col0\" class=\"data row12 col0\" >KSA</td>\n",
              "      <td id=\"T_c16e4_row12_col1\" class=\"data row12 col1\" >56957</td>\n",
              "      <td id=\"T_c16e4_row12_col2\" class=\"data row12 col2\" >24.000000</td>\n",
              "    </tr>\n",
              "    <tr>\n",
              "      <th id=\"T_c16e4_level0_row13\" class=\"row_heading level0 row13\" >13</th>\n",
              "      <td id=\"T_c16e4_row13_col0\" class=\"data row13 col0\" >UAE</td>\n",
              "      <td id=\"T_c16e4_row13_col1\" class=\"data row13 col1\" >57081</td>\n",
              "      <td id=\"T_c16e4_row13_col2\" class=\"data row13 col2\" >24.000000</td>\n",
              "    </tr>\n",
              "    <tr>\n",
              "      <th id=\"T_c16e4_level0_row14\" class=\"row_heading level0 row14\" >14</th>\n",
              "      <td id=\"T_c16e4_row14_col0\" class=\"data row14 col0\" >Egypt</td>\n",
              "      <td id=\"T_c16e4_row14_col1\" class=\"data row14 col1\" >61111</td>\n",
              "      <td id=\"T_c16e4_row14_col2\" class=\"data row14 col2\" >25.000000</td>\n",
              "    </tr>\n",
              "    <tr>\n",
              "      <th id=\"T_c16e4_level0_row15\" class=\"row_heading level0 row15\" >15</th>\n",
              "      <td id=\"T_c16e4_row15_col0\" class=\"data row15 col0\" >KSA</td>\n",
              "      <td id=\"T_c16e4_row15_col1\" class=\"data row15 col1\" >67938</td>\n",
              "      <td id=\"T_c16e4_row15_col2\" class=\"data row15 col2\" >25.000000</td>\n",
              "    </tr>\n",
              "    <tr>\n",
              "      <th id=\"T_c16e4_level0_row16\" class=\"row_heading level0 row16\" >16</th>\n",
              "      <td id=\"T_c16e4_row16_col0\" class=\"data row16 col0\" >UAE</td>\n",
              "      <td id=\"T_c16e4_row16_col1\" class=\"data row16 col1\" >66029</td>\n",
              "      <td id=\"T_c16e4_row16_col2\" class=\"data row16 col2\" >26.000000</td>\n",
              "    </tr>\n",
              "    <tr>\n",
              "      <th id=\"T_c16e4_level0_row17\" class=\"row_heading level0 row17\" >17</th>\n",
              "      <td id=\"T_c16e4_row17_col0\" class=\"data row17 col0\" >KSA</td>\n",
              "      <td id=\"T_c16e4_row17_col1\" class=\"data row17 col1\" >83088</td>\n",
              "      <td id=\"T_c16e4_row17_col2\" class=\"data row17 col2\" >27.000000</td>\n",
              "    </tr>\n",
              "    <tr>\n",
              "      <th id=\"T_c16e4_level0_row18\" class=\"row_heading level0 row18\" >18</th>\n",
              "      <td id=\"T_c16e4_row18_col0\" class=\"data row18 col0\" >Egypt</td>\n",
              "      <td id=\"T_c16e4_row18_col1\" class=\"data row18 col1\" >81363</td>\n",
              "      <td id=\"T_c16e4_row18_col2\" class=\"data row18 col2\" >28.000000</td>\n",
              "    </tr>\n",
              "    <tr>\n",
              "      <th id=\"T_c16e4_level0_row19\" class=\"row_heading level0 row19\" >19</th>\n",
              "      <td id=\"T_c16e4_row19_col0\" class=\"data row19 col0\" >KSA</td>\n",
              "      <td id=\"T_c16e4_row19_col1\" class=\"data row19 col1\" >93940</td>\n",
              "      <td id=\"T_c16e4_row19_col2\" class=\"data row19 col2\" >29.000000</td>\n",
              "    </tr>\n",
              "    <tr>\n",
              "      <th id=\"T_c16e4_level0_row20\" class=\"row_heading level0 row20\" >20</th>\n",
              "      <td id=\"T_c16e4_row20_col0\" class=\"data row20 col0\" >UAE</td>\n",
              "      <td id=\"T_c16e4_row20_col1\" class=\"data row20 col1\" >91738</td>\n",
              "      <td id=\"T_c16e4_row20_col2\" class=\"data row20 col2\" >30.000000</td>\n",
              "    </tr>\n",
              "    <tr>\n",
              "      <th id=\"T_c16e4_level0_row21\" class=\"row_heading level0 row21\" >21</th>\n",
              "      <td id=\"T_c16e4_row21_col0\" class=\"data row21 col0\" >KSA</td>\n",
              "      <td id=\"T_c16e4_row21_col1\" class=\"data row21 col1\" >98273</td>\n",
              "      <td id=\"T_c16e4_row21_col2\" class=\"data row21 col2\" >30.000000</td>\n",
              "    </tr>\n",
              "    <tr>\n",
              "      <th id=\"T_c16e4_level0_row22\" class=\"row_heading level0 row22\" >22</th>\n",
              "      <td id=\"T_c16e4_row22_col0\" class=\"data row22 col0\" >Egypt</td>\n",
              "      <td id=\"T_c16e4_row22_col1\" class=\"data row22 col1\" >101302</td>\n",
              "      <td id=\"T_c16e4_row22_col2\" class=\"data row22 col2\" >31.000000</td>\n",
              "    </tr>\n",
              "    <tr>\n",
              "      <th id=\"T_c16e4_level0_row23\" class=\"row_heading level0 row23\" >23</th>\n",
              "      <td id=\"T_c16e4_row23_col0\" class=\"data row23 col0\" >UAE</td>\n",
              "      <td id=\"T_c16e4_row23_col1\" class=\"data row23 col1\" >113812</td>\n",
              "      <td id=\"T_c16e4_row23_col2\" class=\"data row23 col2\" >32.000000</td>\n",
              "    </tr>\n",
              "    <tr>\n",
              "      <th id=\"T_c16e4_level0_row24\" class=\"row_heading level0 row24\" >24</th>\n",
              "      <td id=\"T_c16e4_row24_col0\" class=\"data row24 col0\" >KSA</td>\n",
              "      <td id=\"T_c16e4_row24_col1\" class=\"data row24 col1\" >109431</td>\n",
              "      <td id=\"T_c16e4_row24_col2\" class=\"data row24 col2\" >33.000000</td>\n",
              "    </tr>\n",
              "    <tr>\n",
              "      <th id=\"T_c16e4_level0_row25\" class=\"row_heading level0 row25\" >25</th>\n",
              "      <td id=\"T_c16e4_row25_col0\" class=\"data row25 col0\" >Libya</td>\n",
              "      <td id=\"T_c16e4_row25_col1\" class=\"data row25 col1\" >105582</td>\n",
              "      <td id=\"T_c16e4_row25_col2\" class=\"data row25 col2\" >34.000000</td>\n",
              "    </tr>\n",
              "    <tr>\n",
              "      <th id=\"T_c16e4_level0_row26\" class=\"row_heading level0 row26\" >26</th>\n",
              "      <td id=\"T_c16e4_row26_col0\" class=\"data row26 col0\" >UAE</td>\n",
              "      <td id=\"T_c16e4_row26_col1\" class=\"data row26 col1\" >116969</td>\n",
              "      <td id=\"T_c16e4_row26_col2\" class=\"data row26 col2\" >35.000000</td>\n",
              "    </tr>\n",
              "    <tr>\n",
              "      <th id=\"T_c16e4_level0_row27\" class=\"row_heading level0 row27\" >27</th>\n",
              "      <td id=\"T_c16e4_row27_col0\" class=\"data row27 col0\" >Egypt</td>\n",
              "      <td id=\"T_c16e4_row27_col1\" class=\"data row27 col1\" >112635</td>\n",
              "      <td id=\"T_c16e4_row27_col2\" class=\"data row27 col2\" >36.000000</td>\n",
              "    </tr>\n",
              "    <tr>\n",
              "      <th id=\"T_c16e4_level0_row28\" class=\"row_heading level0 row28\" >28</th>\n",
              "      <td id=\"T_c16e4_row28_col0\" class=\"data row28 col0\" >KSA</td>\n",
              "      <td id=\"T_c16e4_row28_col1\" class=\"data row28 col1\" >122391</td>\n",
              "      <td id=\"T_c16e4_row28_col2\" class=\"data row28 col2\" >37.000000</td>\n",
              "    </tr>\n",
              "    <tr>\n",
              "      <th id=\"T_c16e4_level0_row29\" class=\"row_heading level0 row29\" >29</th>\n",
              "      <td id=\"T_c16e4_row29_col0\" class=\"data row29 col0\" >KSA</td>\n",
              "      <td id=\"T_c16e4_row29_col1\" class=\"data row29 col1\" >121872</td>\n",
              "      <td id=\"T_c16e4_row29_col2\" class=\"data row29 col2\" >38.000000</td>\n",
              "    </tr>\n",
              "  </tbody>\n",
              "</table>\n"
            ],
            "text/plain": [
              "<pandas.io.formats.style.Styler at 0x2038f03be20>"
            ]
          },
          "execution_count": 165,
          "metadata": {},
          "output_type": "execute_result"
        }
      ],
      "source": [
        "df[['country', 'salary', 'age']].style.background_gradient(cmap='plasma')"
      ]
    },
    {
      "cell_type": "code",
      "execution_count": null,
      "metadata": {
        "id": "QoBtuEh_nLNo",
        "outputId": "ddd4a3d7-ea66-40b2-c285-9b5bda1e586d"
      },
      "outputs": [
        {
          "data": {
            "text/html": [
              "<div>\n",
              "<style scoped>\n",
              "    .dataframe tbody tr th:only-of-type {\n",
              "        vertical-align: middle;\n",
              "    }\n",
              "\n",
              "    .dataframe tbody tr th {\n",
              "        vertical-align: top;\n",
              "    }\n",
              "\n",
              "    .dataframe thead th {\n",
              "        text-align: right;\n",
              "    }\n",
              "</style>\n",
              "<table border=\"1\" class=\"dataframe\">\n",
              "  <thead>\n",
              "    <tr style=\"text-align: right;\">\n",
              "      <th></th>\n",
              "      <th>exp</th>\n",
              "      <th>age</th>\n",
              "      <th>salary</th>\n",
              "      <th>country</th>\n",
              "      <th>bonus</th>\n",
              "    </tr>\n",
              "  </thead>\n",
              "  <tbody>\n",
              "    <tr>\n",
              "      <th>0</th>\n",
              "      <td>1.1</td>\n",
              "      <td>21.0</td>\n",
              "      <td>39343</td>\n",
              "      <td>Egypt</td>\n",
              "      <td>3,934.3</td>\n",
              "    </tr>\n",
              "    <tr>\n",
              "      <th>3</th>\n",
              "      <td>2.0</td>\n",
              "      <td>22.0</td>\n",
              "      <td>43525</td>\n",
              "      <td>Egypt</td>\n",
              "      <td>4,352.5</td>\n",
              "    </tr>\n",
              "    <tr>\n",
              "      <th>6</th>\n",
              "      <td>3.0</td>\n",
              "      <td>23.0</td>\n",
              "      <td>60150</td>\n",
              "      <td>Egypt</td>\n",
              "      <td>6,015.0</td>\n",
              "    </tr>\n",
              "    <tr>\n",
              "      <th>14</th>\n",
              "      <td>4.5</td>\n",
              "      <td>25.0</td>\n",
              "      <td>61111</td>\n",
              "      <td>Egypt</td>\n",
              "      <td>6,111.1</td>\n",
              "    </tr>\n",
              "    <tr>\n",
              "      <th>10</th>\n",
              "      <td>3.9</td>\n",
              "      <td>23.9</td>\n",
              "      <td>63218</td>\n",
              "      <td>Egypt</td>\n",
              "      <td>6,321.8</td>\n",
              "    </tr>\n",
              "    <tr>\n",
              "      <th>18</th>\n",
              "      <td>5.9</td>\n",
              "      <td>28.0</td>\n",
              "      <td>81363</td>\n",
              "      <td>Egypt</td>\n",
              "      <td>8,136.3</td>\n",
              "    </tr>\n",
              "    <tr>\n",
              "      <th>22</th>\n",
              "      <td>7.9</td>\n",
              "      <td>31.0</td>\n",
              "      <td>101302</td>\n",
              "      <td>Egypt</td>\n",
              "      <td>10,130.2</td>\n",
              "    </tr>\n",
              "    <tr>\n",
              "      <th>27</th>\n",
              "      <td>9.6</td>\n",
              "      <td>36.0</td>\n",
              "      <td>112635</td>\n",
              "      <td>Egypt</td>\n",
              "      <td>11,263.5</td>\n",
              "    </tr>\n",
              "    <tr>\n",
              "      <th>11</th>\n",
              "      <td>4.0</td>\n",
              "      <td>24.0</td>\n",
              "      <td>55794</td>\n",
              "      <td>KSA</td>\n",
              "      <td>5,579.4</td>\n",
              "    </tr>\n",
              "    <tr>\n",
              "      <th>12</th>\n",
              "      <td>4.0</td>\n",
              "      <td>24.0</td>\n",
              "      <td>56957</td>\n",
              "      <td>KSA</td>\n",
              "      <td>5,695.7</td>\n",
              "    </tr>\n",
              "    <tr>\n",
              "      <th>15</th>\n",
              "      <td>4.9</td>\n",
              "      <td>25.0</td>\n",
              "      <td>67938</td>\n",
              "      <td>KSA</td>\n",
              "      <td>6,793.8</td>\n",
              "    </tr>\n",
              "    <tr>\n",
              "      <th>17</th>\n",
              "      <td>5.3</td>\n",
              "      <td>27.0</td>\n",
              "      <td>83088</td>\n",
              "      <td>KSA</td>\n",
              "      <td>8,308.8</td>\n",
              "    </tr>\n",
              "    <tr>\n",
              "      <th>19</th>\n",
              "      <td>6.0</td>\n",
              "      <td>29.0</td>\n",
              "      <td>93940</td>\n",
              "      <td>KSA</td>\n",
              "      <td>9,394.0</td>\n",
              "    </tr>\n",
              "    <tr>\n",
              "      <th>21</th>\n",
              "      <td>7.1</td>\n",
              "      <td>30.0</td>\n",
              "      <td>98273</td>\n",
              "      <td>KSA</td>\n",
              "      <td>9,827.3</td>\n",
              "    </tr>\n",
              "    <tr>\n",
              "      <th>24</th>\n",
              "      <td>8.7</td>\n",
              "      <td>33.0</td>\n",
              "      <td>109431</td>\n",
              "      <td>KSA</td>\n",
              "      <td>10,943.1</td>\n",
              "    </tr>\n",
              "    <tr>\n",
              "      <th>29</th>\n",
              "      <td>10.5</td>\n",
              "      <td>38.0</td>\n",
              "      <td>121872</td>\n",
              "      <td>KSA</td>\n",
              "      <td>12,187.2</td>\n",
              "    </tr>\n",
              "    <tr>\n",
              "      <th>28</th>\n",
              "      <td>10.3</td>\n",
              "      <td>37.0</td>\n",
              "      <td>122391</td>\n",
              "      <td>KSA</td>\n",
              "      <td>12,239.1</td>\n",
              "    </tr>\n",
              "    <tr>\n",
              "      <th>1</th>\n",
              "      <td>1.3</td>\n",
              "      <td>21.5</td>\n",
              "      <td>46205</td>\n",
              "      <td>Libya</td>\n",
              "      <td>4,620.5</td>\n",
              "    </tr>\n",
              "    <tr>\n",
              "      <th>8</th>\n",
              "      <td>3.2</td>\n",
              "      <td>23.3</td>\n",
              "      <td>64445</td>\n",
              "      <td>Libya</td>\n",
              "      <td>6,444.5</td>\n",
              "    </tr>\n",
              "    <tr>\n",
              "      <th>25</th>\n",
              "      <td>9.0</td>\n",
              "      <td>34.0</td>\n",
              "      <td>105582</td>\n",
              "      <td>Libya</td>\n",
              "      <td>10,558.2</td>\n",
              "    </tr>\n",
              "    <tr>\n",
              "      <th>2</th>\n",
              "      <td>1.5</td>\n",
              "      <td>21.7</td>\n",
              "      <td>37731</td>\n",
              "      <td>UAE</td>\n",
              "      <td>3,773.1</td>\n",
              "    </tr>\n",
              "    <tr>\n",
              "      <th>4</th>\n",
              "      <td>2.2</td>\n",
              "      <td>22.2</td>\n",
              "      <td>39891</td>\n",
              "      <td>UAE</td>\n",
              "      <td>3,989.1</td>\n",
              "    </tr>\n",
              "    <tr>\n",
              "      <th>5</th>\n",
              "      <td>2.9</td>\n",
              "      <td>23.0</td>\n",
              "      <td>56642</td>\n",
              "      <td>UAE</td>\n",
              "      <td>5,664.2</td>\n",
              "    </tr>\n",
              "    <tr>\n",
              "      <th>13</th>\n",
              "      <td>4.1</td>\n",
              "      <td>24.0</td>\n",
              "      <td>57081</td>\n",
              "      <td>UAE</td>\n",
              "      <td>5,708.1</td>\n",
              "    </tr>\n",
              "    <tr>\n",
              "      <th>9</th>\n",
              "      <td>3.7</td>\n",
              "      <td>23.6</td>\n",
              "      <td>57189</td>\n",
              "      <td>UAE</td>\n",
              "      <td>5,718.9</td>\n",
              "    </tr>\n",
              "    <tr>\n",
              "      <th>16</th>\n",
              "      <td>5.1</td>\n",
              "      <td>26.0</td>\n",
              "      <td>66029</td>\n",
              "      <td>UAE</td>\n",
              "      <td>6,602.9</td>\n",
              "    </tr>\n",
              "    <tr>\n",
              "      <th>20</th>\n",
              "      <td>6.8</td>\n",
              "      <td>30.0</td>\n",
              "      <td>91738</td>\n",
              "      <td>UAE</td>\n",
              "      <td>9,173.8</td>\n",
              "    </tr>\n",
              "    <tr>\n",
              "      <th>23</th>\n",
              "      <td>8.2</td>\n",
              "      <td>32.0</td>\n",
              "      <td>113812</td>\n",
              "      <td>UAE</td>\n",
              "      <td>11,381.2</td>\n",
              "    </tr>\n",
              "    <tr>\n",
              "      <th>26</th>\n",
              "      <td>9.5</td>\n",
              "      <td>35.0</td>\n",
              "      <td>116969</td>\n",
              "      <td>UAE</td>\n",
              "      <td>11,696.9</td>\n",
              "    </tr>\n",
              "    <tr>\n",
              "      <th>7</th>\n",
              "      <td>3.2</td>\n",
              "      <td>23.3</td>\n",
              "      <td>54445</td>\n",
              "      <td>NaN</td>\n",
              "      <td>5,444.5</td>\n",
              "    </tr>\n",
              "  </tbody>\n",
              "</table>\n",
              "</div>"
            ],
            "text/plain": [
              "    exp  age  salary country    bonus\n",
              "0   1.1 21.0   39343   Egypt  3,934.3\n",
              "3   2.0 22.0   43525   Egypt  4,352.5\n",
              "6   3.0 23.0   60150   Egypt  6,015.0\n",
              "14  4.5 25.0   61111   Egypt  6,111.1\n",
              "10  3.9 23.9   63218   Egypt  6,321.8\n",
              "18  5.9 28.0   81363   Egypt  8,136.3\n",
              "22  7.9 31.0  101302   Egypt 10,130.2\n",
              "27  9.6 36.0  112635   Egypt 11,263.5\n",
              "11  4.0 24.0   55794     KSA  5,579.4\n",
              "12  4.0 24.0   56957     KSA  5,695.7\n",
              "15  4.9 25.0   67938     KSA  6,793.8\n",
              "17  5.3 27.0   83088     KSA  8,308.8\n",
              "19  6.0 29.0   93940     KSA  9,394.0\n",
              "21  7.1 30.0   98273     KSA  9,827.3\n",
              "24  8.7 33.0  109431     KSA 10,943.1\n",
              "29 10.5 38.0  121872     KSA 12,187.2\n",
              "28 10.3 37.0  122391     KSA 12,239.1\n",
              "1   1.3 21.5   46205   Libya  4,620.5\n",
              "8   3.2 23.3   64445   Libya  6,444.5\n",
              "25  9.0 34.0  105582   Libya 10,558.2\n",
              "2   1.5 21.7   37731     UAE  3,773.1\n",
              "4   2.2 22.2   39891     UAE  3,989.1\n",
              "5   2.9 23.0   56642     UAE  5,664.2\n",
              "13  4.1 24.0   57081     UAE  5,708.1\n",
              "9   3.7 23.6   57189     UAE  5,718.9\n",
              "16  5.1 26.0   66029     UAE  6,602.9\n",
              "20  6.8 30.0   91738     UAE  9,173.8\n",
              "23  8.2 32.0  113812     UAE 11,381.2\n",
              "26  9.5 35.0  116969     UAE 11,696.9\n",
              "7   3.2 23.3   54445     NaN  5,444.5"
            ]
          },
          "execution_count": 168,
          "metadata": {},
          "output_type": "execute_result"
        }
      ],
      "source": [
        "df.sort_values(by =['country', 'salary'])"
      ]
    },
    {
      "cell_type": "code",
      "execution_count": null,
      "metadata": {
        "id": "QfWJtwtEnLNp"
      },
      "outputs": [],
      "source": []
    }
  ],
  "metadata": {
    "colab": {
      "collapsed_sections": [
        "w3jc9s9U9F__"
      ],
      "provenance": [],
      "include_colab_link": true
    },
    "kernelspec": {
      "display_name": "Python 3",
      "name": "python3"
    },
    "language_info": {
      "codemirror_mode": {
        "name": "ipython",
        "version": 3
      },
      "file_extension": ".py",
      "mimetype": "text/x-python",
      "name": "python",
      "nbconvert_exporter": "python",
      "pygments_lexer": "ipython3",
      "version": "3.11.7"
    }
  },
  "nbformat": 4,
  "nbformat_minor": 0
}