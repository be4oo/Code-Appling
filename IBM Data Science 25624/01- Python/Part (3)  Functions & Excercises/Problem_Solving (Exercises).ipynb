{
 "cells": [
  {
   "cell_type": "markdown",
   "metadata": {},
   "source": [
    "# Q1\n",
    "        "
   ]
  },
  {
   "cell_type": "markdown",
   "metadata": {},
   "source": [
    "    Write a Python function to test a number is even or not"
   ]
  },
  {
   "cell_type": "markdown",
   "metadata": {},
   "source": [
    "# A1"
   ]
  },
  {
   "cell_type": "code",
   "execution_count": 1,
   "metadata": {},
   "outputs": [
    {
     "data": {
      "text/plain": [
       "True"
      ]
     },
     "execution_count": 1,
     "metadata": {},
     "output_type": "execute_result"
    }
   ],
   "source": [
    "def is_even(num):\n",
    "    pass\n",
    "is_even(6)"
   ]
  },
  {
   "cell_type": "code",
   "execution_count": 2,
   "metadata": {},
   "outputs": [
    {
     "data": {
      "text/plain": [
       "False"
      ]
     },
     "execution_count": 2,
     "metadata": {},
     "output_type": "execute_result"
    }
   ],
   "source": [
    "def is_even(num):\n",
    "    pass\n",
    "\n",
    "is_even(5)"
   ]
  },
  {
   "cell_type": "markdown",
   "metadata": {},
   "source": [
    "# Q2\n",
    "   "
   ]
  },
  {
   "cell_type": "markdown",
   "metadata": {},
   "source": [
    "\n",
    "        Ali bought some fruits and candies (Weights in grams)\n",
    "\n",
    "        * fruits = {'Banana': 1500, 'Orange': 1000, 'Apple': 1500}\n",
    "        * candies = {'Caramels': 400, 'Chocolate': 500, 'Lollipops':750}\n",
    "\n",
    "        1. Display fruits weight, candies weight and total weight in Kg\n",
    "        2. print \"Good Boy\" if fruits weight > candies weight\n",
    "        3. print \"Sugar Boy\" if fruits weight <= candies weight\n",
    "        4. print \"Call a car\" if total weight > 4 Kg\n",
    "        5. print \"Walk!\" if total weight <= 4 Kg\n"
   ]
  },
  {
   "cell_type": "markdown",
   "metadata": {},
   "source": [
    "# A2"
   ]
  },
  {
   "cell_type": "code",
   "execution_count": 3,
   "metadata": {},
   "outputs": [
    {
     "name": "stdout",
     "output_type": "stream",
     "text": [
      "Fruits Weight : 2.08\n",
      "Candies Weight : 11.97\n",
      "Total Weight : 14.05\n",
      "Sugar Boy\n",
      "Call a car\n"
     ]
    }
   ],
   "source": [
    "fruits = {'Banana': 1500, 'Orange': 80, 'Apple': 500}\n",
    "candies = {'Caramels': 11400, 'Chocolate': 500, 'Lollipops':70}\n",
    "\n",
    "   "
   ]
  },
  {
   "cell_type": "markdown",
   "metadata": {},
   "source": [
    "# Q3"
   ]
  },
  {
   "cell_type": "markdown",
   "metadata": {},
   "source": [
    "        Write a Python function to take a string and swap cases. \n",
    "\n",
    "Sample Input >>> `Zero-Grad.com presents \"Pythonist\".`\n",
    "\n",
    "Sample Output >>> `zERO-gRAD.COM PRESENTS \"pYTHONIST\".`"
   ]
  },
  {
   "cell_type": "markdown",
   "metadata": {},
   "source": [
    "# A3"
   ]
  },
  {
   "cell_type": "code",
   "execution_count": 4,
   "metadata": {},
   "outputs": [
    {
     "data": {
      "text/plain": [
       "'zERO-gRAD.COM PRESENTS \"pYTHONIST\"'"
      ]
     },
     "execution_count": 4,
     "metadata": {},
     "output_type": "execute_result"
    }
   ],
   "source": [
    "def swap_case(s):\n",
    "    pass\n",
    "\n",
    "swap_case('Zero-Grad.com presents \"Pythonist\"')\n",
    "    "
   ]
  },
  {
   "cell_type": "code",
   "execution_count": 5,
   "metadata": {},
   "outputs": [
    {
     "data": {
      "text/plain": [
       "'zERO-gRAD.COM PRESENTS \"pYTHONIST\"'"
      ]
     },
     "execution_count": 5,
     "metadata": {},
     "output_type": "execute_result"
    }
   ],
   "source": [
    "s = 'Zero-Grad.com presents \"Pythonist\"'\n",
    "s.swapcase()"
   ]
  },
  {
   "cell_type": "markdown",
   "metadata": {},
   "source": [
    "# Q4\n",
    "       "
   ]
  },
  {
   "cell_type": "markdown",
   "metadata": {},
   "source": [
    "        Write a function to check prime number"
   ]
  },
  {
   "cell_type": "markdown",
   "metadata": {},
   "source": [
    "# A4"
   ]
  },
  {
   "cell_type": "code",
   "execution_count": 6,
   "metadata": {},
   "outputs": [
    {
     "data": {
      "text/plain": [
       "True"
      ]
     },
     "execution_count": 6,
     "metadata": {},
     "output_type": "execute_result"
    }
   ],
   "source": [
    "def is_prime(num):\n",
    "    pass\n",
    "\n",
    "is_prime(13)            "
   ]
  },
  {
   "cell_type": "code",
   "execution_count": 7,
   "metadata": {},
   "outputs": [
    {
     "data": {
      "text/plain": [
       "True"
      ]
     },
     "execution_count": 7,
     "metadata": {},
     "output_type": "execute_result"
    }
   ],
   "source": [
    "def is_prime(num):\n",
    "    pass\n",
    "\n",
    "is_prime(13) "
   ]
  },
  {
   "cell_type": "markdown",
   "metadata": {},
   "source": [
    "# Q5"
   ]
  },
  {
   "cell_type": "markdown",
   "metadata": {},
   "source": [
    "        \n",
    "        Create a function to validate Passowrd\n",
    "        1. Must be at least 6 characters and max. 12 letters\n",
    "        2. Must include small letters\n",
    "        3. Must include capital letters\n",
    "        4. Must include numbers\n",
    "        5. Must include symbols from(@,#,$)"
   ]
  },
  {
   "cell_type": "markdown",
   "metadata": {},
   "source": [
    "# A5"
   ]
  },
  {
   "cell_type": "code",
   "execution_count": 8,
   "metadata": {},
   "outputs": [
    {
     "name": "stdout",
     "output_type": "stream",
     "text": [
      "Acceptable Password\n"
     ]
    }
   ],
   "source": [
    "def is_valid(password):\n",
    "    pass    \n",
    "\n",
    "is_valid('0As0$00')"
   ]
  },
  {
   "cell_type": "markdown",
   "metadata": {},
   "source": [
    "# Q6\n",
    "        "
   ]
  },
  {
   "cell_type": "markdown",
   "metadata": {},
   "source": [
    "        Write a function to check review is positive, negative or neutral by counting number of positive words and negative words\n",
    "\n",
    "* positive_lst = ['great', 'wonderful', 'happy', 'amazing', 'attractive', 'fantastic', 'fun']\n",
    "* negative_lst = ['bad', 'terrible', 'horrible', 'silly']"
   ]
  },
  {
   "cell_type": "markdown",
   "metadata": {},
   "source": [
    "# A6"
   ]
  },
  {
   "cell_type": "code",
   "execution_count": 9,
   "metadata": {},
   "outputs": [],
   "source": [
    "def check_review(review):\n",
    "    pass        \n"
   ]
  },
  {
   "cell_type": "code",
   "execution_count": 10,
   "metadata": {},
   "outputs": [
    {
     "name": "stdout",
     "output_type": "stream",
     "text": [
      "Positive Review\n"
     ]
    }
   ],
   "source": [
    "review1 = '''Professional programmers aren't going to learn anything new from this book, but it was a fun read regardless.\n",
    "            What struck me as great about this book, is it reads like an ELI5 about algorithms and data structures.\n",
    "            If nothing else, it's a great way for one to learn how to teach algorithms to others who aren't in the industry. \n",
    "            This is a must read for anyone that's learning to code.'''\n",
    "\n",
    "check_review(review1)            "
   ]
  },
  {
   "cell_type": "code",
   "execution_count": 11,
   "metadata": {},
   "outputs": [
    {
     "name": "stdout",
     "output_type": "stream",
     "text": [
      "Negative Review\n"
     ]
    }
   ],
   "source": [
    "review2 = '''Professional programmers aren't going to learn anything new from this book, but it was a terrible read regardless.\n",
    "            What struck me as silly about this book, is it reads like an ELI5 about algorithms and data structures.\n",
    "            If nothing else, it's a slow way for one to learn how to teach algorithms to others who aren't in the industry. \n",
    "            This is a must read for anyone that's learning to code.'''\n",
    "\n",
    "check_review(review2) "
   ]
  }
 ],
 "metadata": {
  "kernelspec": {
   "display_name": "Python 3.9.12 ('base')",
   "language": "python",
   "name": "python3"
  },
  "language_info": {
   "codemirror_mode": {
    "name": "ipython",
    "version": 3
   },
   "file_extension": ".py",
   "mimetype": "text/x-python",
   "name": "python",
   "nbconvert_exporter": "python",
   "pygments_lexer": "ipython3",
   "version": "3.9.12"
  },
  "orig_nbformat": 4,
  "vscode": {
   "interpreter": {
    "hash": "cf09db7c5a43ebc020488360be383d2a4c3a085f9fc26d5b11b1a561cf0ad7de"
   }
  }
 },
 "nbformat": 4,
 "nbformat_minor": 2
}
