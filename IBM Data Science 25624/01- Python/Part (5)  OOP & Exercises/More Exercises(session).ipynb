{
 "cells": [
  {
   "cell_type": "markdown",
   "metadata": {},
   "source": [
    "# (1)\n",
    "Write a function to count the frequency of each character in a string and return a dictionary ordered in descending order by frequency.\n",
    "\n",
    "> `hint`: search for `how to sort a dictionary by value in python`"
   ]
  },
  {
   "cell_type": "code",
   "execution_count": 11,
   "metadata": {},
   "outputs": [
    {
     "data": {
      "text/plain": [
       "{'H': 2,\n",
       " 'i': 1,\n",
       " '.': 2,\n",
       " ' ': 6,\n",
       " 'I': 2,\n",
       " 'l': 1,\n",
       " 'e': 1,\n",
       " 'a': 3,\n",
       " 'r': 1,\n",
       " 'n': 2,\n",
       " 'P': 1,\n",
       " 'y': 2,\n",
       " 't': 1,\n",
       " 'h': 1,\n",
       " 'o': 1,\n",
       " 'm': 1,\n",
       " 'p': 2}"
      ]
     },
     "execution_count": 11,
     "metadata": {},
     "output_type": "execute_result"
    }
   ],
   "source": [
    "s = 'Hi. I learn Python. I am Happy'\n",
    "d = dict()\n",
    "for char in s:\n",
    "    if char in d:\n",
    "        d[char] +=1\n",
    "    else:\n",
    "        d[char] = 1\n",
    "\n",
    "d   \n"
   ]
  },
  {
   "cell_type": "code",
   "execution_count": 13,
   "metadata": {},
   "outputs": [
    {
     "data": {
      "text/plain": [
       "{'H': 2,\n",
       " 'i': 1,\n",
       " '.': 2,\n",
       " ' ': 6,\n",
       " 'I': 2,\n",
       " 'l': 1,\n",
       " 'e': 1,\n",
       " 'a': 3,\n",
       " 'r': 1,\n",
       " 'n': 2,\n",
       " 'P': 1,\n",
       " 'y': 2,\n",
       " 't': 1,\n",
       " 'h': 1,\n",
       " 'o': 1,\n",
       " 'm': 1,\n",
       " 'p': 2}"
      ]
     },
     "execution_count": 13,
     "metadata": {},
     "output_type": "execute_result"
    }
   ],
   "source": [
    "d = dict()\n",
    "for char in s:\n",
    "    d[char] = s.count(char)\n",
    "d    "
   ]
  },
  {
   "cell_type": "code",
   "execution_count": 14,
   "metadata": {},
   "outputs": [
    {
     "data": {
      "text/plain": [
       "Counter({' ': 6,\n",
       "         'a': 3,\n",
       "         'H': 2,\n",
       "         '.': 2,\n",
       "         'I': 2,\n",
       "         'n': 2,\n",
       "         'y': 2,\n",
       "         'p': 2,\n",
       "         'i': 1,\n",
       "         'l': 1,\n",
       "         'e': 1,\n",
       "         'r': 1,\n",
       "         'P': 1,\n",
       "         't': 1,\n",
       "         'h': 1,\n",
       "         'o': 1,\n",
       "         'm': 1})"
      ]
     },
     "execution_count": 14,
     "metadata": {},
     "output_type": "execute_result"
    }
   ],
   "source": [
    "from collections import Counter\n",
    "Counter(s)"
   ]
  },
  {
   "cell_type": "code",
   "execution_count": 25,
   "metadata": {},
   "outputs": [
    {
     "data": {
      "text/plain": [
       "[(' ', 6),\n",
       " ('a', 3),\n",
       " ('H', 2),\n",
       " ('.', 2),\n",
       " ('I', 2),\n",
       " ('n', 2),\n",
       " ('y', 2),\n",
       " ('p', 2),\n",
       " ('i', 1),\n",
       " ('l', 1),\n",
       " ('e', 1),\n",
       " ('r', 1),\n",
       " ('P', 1),\n",
       " ('t', 1),\n",
       " ('h', 1),\n",
       " ('o', 1),\n",
       " ('m', 1)]"
      ]
     },
     "execution_count": 25,
     "metadata": {},
     "output_type": "execute_result"
    }
   ],
   "source": [
    "sorted(d.items(), key=lambda item: item[1], reverse= True)"
   ]
  },
  {
   "cell_type": "code",
   "execution_count": 26,
   "metadata": {},
   "outputs": [
    {
     "data": {
      "text/plain": [
       "{' ': 6,\n",
       " 'a': 3,\n",
       " 'H': 2,\n",
       " '.': 2,\n",
       " 'I': 2,\n",
       " 'n': 2,\n",
       " 'y': 2,\n",
       " 'p': 2,\n",
       " 'i': 1,\n",
       " 'l': 1,\n",
       " 'e': 1,\n",
       " 'r': 1,\n",
       " 'P': 1,\n",
       " 't': 1,\n",
       " 'h': 1,\n",
       " 'o': 1,\n",
       " 'm': 1}"
      ]
     },
     "execution_count": 26,
     "metadata": {},
     "output_type": "execute_result"
    }
   ],
   "source": [
    "freq = dict()\n",
    "for k, v in sorted(d.items(), key=lambda item: item[1], reverse= True):\n",
    "    freq[k]= v\n",
    "freq    \n"
   ]
  },
  {
   "cell_type": "code",
   "execution_count": 28,
   "metadata": {},
   "outputs": [
    {
     "data": {
      "text/plain": [
       "{' ': 6,\n",
       " 'a': 3,\n",
       " 'H': 2,\n",
       " '.': 2,\n",
       " 'I': 2,\n",
       " 'n': 2,\n",
       " 'y': 2,\n",
       " 'p': 2,\n",
       " 'i': 1,\n",
       " 'l': 1,\n",
       " 'e': 1,\n",
       " 'r': 1,\n",
       " 'P': 1,\n",
       " 't': 1,\n",
       " 'h': 1,\n",
       " 'o': 1,\n",
       " 'm': 1}"
      ]
     },
     "execution_count": 28,
     "metadata": {},
     "output_type": "execute_result"
    }
   ],
   "source": [
    "dict(sorted(d.items(), key=lambda item: item[1], reverse= True))"
   ]
  },
  {
   "cell_type": "code",
   "execution_count": 22,
   "metadata": {},
   "outputs": [
    {
     "data": {
      "text/plain": [
       "{' ': 6,\n",
       " 'a': 3,\n",
       " 'H': 2,\n",
       " '.': 2,\n",
       " 'I': 2,\n",
       " 'n': 2,\n",
       " 'y': 2,\n",
       " 'p': 2,\n",
       " 'i': 1,\n",
       " 'l': 1,\n",
       " 'e': 1,\n",
       " 'r': 1,\n",
       " 'P': 1,\n",
       " 't': 1,\n",
       " 'h': 1,\n",
       " 'o': 1,\n",
       " 'm': 1}"
      ]
     },
     "execution_count": 22,
     "metadata": {},
     "output_type": "execute_result"
    }
   ],
   "source": [
    "{k: v for k, v in sorted(d.items(), key=lambda item: item[1], reverse= True)}"
   ]
  },
  {
   "cell_type": "code",
   "execution_count": 16,
   "metadata": {},
   "outputs": [
    {
     "name": "stdout",
     "output_type": "stream",
     "text": [
      "2\n",
      "1\n",
      "2\n",
      "6\n",
      "2\n",
      "1\n",
      "1\n",
      "3\n",
      "1\n",
      "2\n",
      "1\n",
      "2\n",
      "1\n",
      "1\n",
      "1\n",
      "1\n",
      "2\n"
     ]
    }
   ],
   "source": [
    "for item in d.items():\n",
    "    print(item[1])"
   ]
  },
  {
   "cell_type": "code",
   "execution_count": 34,
   "metadata": {},
   "outputs": [
    {
     "data": {
      "text/plain": [
       "'hi.ilearnpython.iamhappy'"
      ]
     },
     "execution_count": 34,
     "metadata": {},
     "output_type": "execute_result"
    }
   ],
   "source": [
    "s.lower().replace(' ', '')"
   ]
  },
  {
   "cell_type": "markdown",
   "metadata": {},
   "source": [
    "# (2)\n",
    "Write a function to return the prime numbers in a given range."
   ]
  },
  {
   "cell_type": "code",
   "execution_count": 3,
   "metadata": {},
   "outputs": [],
   "source": [
    "def is_prime(n):\n",
    "    if n < 2:\n",
    "        return False\n",
    "    for i in range(2, n):\n",
    "        if n%i == 0:\n",
    "            return False\n",
    "    return True\n",
    "\n",
    "# is_prime(15)    "
   ]
  },
  {
   "cell_type": "code",
   "execution_count": 5,
   "metadata": {},
   "outputs": [
    {
     "data": {
      "text/plain": [
       "[2, 3, 5, 7, 11, 13, 17, 19, 23, 29, 31, 37, 41, 43, 47]"
      ]
     },
     "execution_count": 5,
     "metadata": {},
     "output_type": "execute_result"
    }
   ],
   "source": [
    "primes = []\n",
    "for num in range(1,50):\n",
    "    if is_prime(num):\n",
    "        primes.append(num)    \n",
    "\n",
    "primes        "
   ]
  },
  {
   "cell_type": "code",
   "execution_count": 6,
   "metadata": {},
   "outputs": [
    {
     "data": {
      "text/plain": [
       "[2, 3, 5, 7, 11, 13, 17, 19, 23, 29, 31, 37, 41, 43, 47]"
      ]
     },
     "execution_count": 6,
     "metadata": {},
     "output_type": "execute_result"
    }
   ],
   "source": [
    "[num for num in range(1,50) if is_prime(num)]"
   ]
  },
  {
   "cell_type": "code",
   "execution_count": 9,
   "metadata": {},
   "outputs": [
    {
     "data": {
      "text/plain": [
       "[2, 3, 5, 7, 11, 13, 17, 19, 23, 29, 31, 37, 41, 43, 47]"
      ]
     },
     "execution_count": 9,
     "metadata": {},
     "output_type": "execute_result"
    }
   ],
   "source": [
    "list(filter(is_prime, range(1,50)))"
   ]
  },
  {
   "cell_type": "markdown",
   "metadata": {},
   "source": [
    "# (3) \n",
    "Write a function that reads a file, counts the number of lines, words, and characters in the file, and prints the result.\n"
   ]
  },
  {
   "cell_type": "code",
   "execution_count": null,
   "metadata": {},
   "outputs": [],
   "source": [
    "def txt_stats(file_path):\n",
    "    "
   ]
  },
  {
   "cell_type": "markdown",
   "metadata": {},
   "source": [
    "# (4) \n",
    "Create a class `BankAccount` with methods to `deposit`, `withdraw`, and `check the balance`. Ensure that the account does not go negative.\n",
    "\n"
   ]
  },
  {
   "cell_type": "code",
   "execution_count": null,
   "metadata": {},
   "outputs": [],
   "source": []
  }
 ],
 "metadata": {
  "kernelspec": {
   "display_name": "base",
   "language": "python",
   "name": "python3"
  },
  "language_info": {
   "codemirror_mode": {
    "name": "ipython",
    "version": 3
   },
   "file_extension": ".py",
   "mimetype": "text/x-python",
   "name": "python",
   "nbconvert_exporter": "python",
   "pygments_lexer": "ipython3",
   "version": "3.11.7"
  }
 },
 "nbformat": 4,
 "nbformat_minor": 2
}
