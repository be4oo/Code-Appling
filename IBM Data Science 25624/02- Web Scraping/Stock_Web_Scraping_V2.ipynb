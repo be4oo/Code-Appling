{
 "cells": [
  {
   "cell_type": "code",
   "execution_count": 1,
   "metadata": {},
   "outputs": [
    {
     "name": "stdout",
     "output_type": "stream",
     "text": [
      "<class 'pandas.core.frame.DataFrame'>\n"
     ]
    },
    {
     "name": "stderr",
     "output_type": "stream",
     "text": [
      "c:\\Users\\user\\anaconda3\\Lib\\site-packages\\_plotly_utils\\basevalidators.py:106: FutureWarning: The behavior of DatetimeProperties.to_pydatetime is deprecated, in a future version this will return a Series containing python datetime objects instead of an ndarray. To retain the old behavior, call `np.array` on the result\n",
      "  v = v.dt.to_pydatetime()\n"
     ]
    },
    {
     "name": "stdout",
     "output_type": "stream",
     "text": [
      "Status Code: 200\n",
      "[' Previous Close 193.12', 'Open 193.66', \"Bid 204.29 x 200  Ask 204.52 x 100  Day's Range 193.64 - 205.45\", '52 Week Range 164.08 - 205.45', 'Volume 94,727,276', 'Avg. Volume 60,814,360', 'Market Cap (intraday) 3.134T', 'Beta (5Y Monthly) 1.25  PE Ratio (TTM) 31.79', 'EPS (TTM) 6.43', 'Earnings Date Aug 1, 2024 - Aug 5, 2024  Forward Dividend & Yield 1.00 (0.52%)  Ex-Dividend Date May 10, 2024  1y Target Est 190.22  ']\n",
      "['Previous Close 193.12', 'Open 193.66', 'Bid 204.29 x 200', 'Ask 204.52 x 100', \"Day's Range 193.64 - 205.45\", '52 Week Range 164.08 - 205.45', 'Volume 94,727,276', 'Avg. Volume 60,814,360', 'Market Cap (intraday) 3.134T', 'Beta (5Y Monthly) 1.25', 'PE Ratio (TTM) 31.79', 'EPS (TTM) 6.43', 'Earnings Date Aug 1, 2024 - Aug 5, 2024', 'Forward Dividend & Yield 1.00 (0.52%)', 'Ex-Dividend Date May 10, 2024', '1y Target Est 190.22']\n",
      "{'Previous Close': '193.12', 'Open': '193.66', 'Bid': '204.29 x 200', 'Ask': '204.52 x 100', \"Day's Range\": '193.64 - 205.45', '52 Week Range': '164.08 - 205.45', 'Volume': '94,727,276', 'Avg. Volume': '60,814,360', 'Market Cap (intraday)': '3.134T', 'Beta (5Y Monthly)': '1.25', 'PE Ratio (TTM)': '31.79', 'EPS (TTM)': '6.43', 'Earnings Date': 'Aug 1, 2024 - Aug 5, 2024', 'Forward Dividend & Yield': '1.00 (0.52%)', 'Ex-Dividend Date': 'May 10, 2024', '1y Target Est': '190.22'}\n",
      "Status Code for Currencies Page: 404\n"
     ]
    }
   ],
   "source": [
    "# Cell 1: Introduction\n",
    "\"\"\"\n",
    "# Comprehensive Stock Analysis with yfinance\n",
    "\n",
    "This notebook provides a comprehensive analysis of stock data using different methods: \n",
    "- Fetching data using the yfinance API\n",
    "- Directly downloading stock data into a pandas DataFrame\n",
    "- Web scraping stock information using Beautiful Soup\n",
    "\"\"\"\n",
    "\n",
    "# Cell 2: Setup and Installation\n",
    "\"\"\"\n",
    "## Setup and Installation\n",
    "\n",
    "Before starting, ensure that the necessary packages are installed.\n",
    "\"\"\"\n",
    "\n",
    "# !pip install yfinance \n",
    "# !pip install plotly\n",
    "# !pip install pandas\n",
    "# !pip install bs4\n",
    "\n",
    "# Cell 3: Import Libraries\n",
    "\"\"\"\n",
    "## Import Libraries\n",
    "\n",
    "Import all the required Python libraries for this analysis.\n",
    "\"\"\"\n",
    "\n",
    "import yfinance as yf\n",
    "import plotly.express as px\n",
    "import pandas as pd\n",
    "import requests\n",
    "from bs4 import BeautifulSoup\n",
    "\n",
    "# Cell 4: Using yfinance API\n",
    "\"\"\"\n",
    "## Using yfinance API\n",
    "\n",
    "Fetch and visualize historical stock data for Apple Inc. using the yfinance API.\n",
    "\"\"\"\n",
    "\n",
    "apple = yf.Ticker(\"AAPL\")\n",
    "hist = apple.history(period=\"1y\")\n",
    "# Display the type of data structure returned by yfinance\n",
    "print(type(hist))\n",
    "# Preview the first few rows of the historical data\n",
    "hist.head()\n",
    "\n",
    "# Visualize Apple's closing stock price over the last year\n",
    "px.line(hist, x=hist.index, y=\"Close\", title=\"Apple Stock Closing Prices\")\n",
    "\n",
    "# Cell 5: Using pandas for Direct Download\n",
    "\"\"\"\n",
    "## Using pandas for Direct Download\n",
    "\n",
    "Directly download stock data into a pandas DataFrame using a URL.\n",
    "\"\"\"\n",
    "\n",
    "df = pd.read_csv(\"https://query1.finance.yahoo.com/v7/finance/download/AAPL?period1=1687363550&period2=1718985950&interval=1d&events=history&includeAdjustedClose=true\")\n",
    "# Display the downloaded DataFrame\n",
    "df\n",
    "\n",
    "# Cell 6: Using Web Scraping with Beautiful Soup\n",
    "\"\"\"\n",
    "## Using Web Scraping with Beautiful Soup\n",
    "\n",
    "Extract stock information from a webpage using web scraping techniques with Beautiful Soup.\n",
    "\"\"\"\n",
    "\n",
    "url = 'https://finance.yahoo.com/quote/AAPL/'\n",
    "response = requests.get(url)\n",
    "print(\"Status Code:\", response.status_code)\n",
    "soup = BeautifulSoup(response.text, 'html.parser')\n",
    "\n",
    "# Extract and display specific elements to understand the data structure\n",
    "print(soup.find('ul', {'class': 'svelte-tx3nkj'}).text.split('   '))\n",
    "\n",
    "# Extract summary information about the stock\n",
    "summary = soup.find_all('li', {'class': 'svelte-tx3nkj'})\n",
    "summary_ = [i.text.strip() for i in summary]\n",
    "print(summary_)\n",
    "\n",
    "# Extract labels and values and combine them into a dictionary\n",
    "labels = [i.find('span', {'class': 'label svelte-tx3nkj'}).text for i in summary]\n",
    "values = [i.find('span', {'class': 'value svelte-tx3nkj'}).text.strip() for i in summary]\n",
    "summary_dic = dict(zip(labels, values))\n",
    "print(summary_dic)\n",
    "\n",
    "# Cell 7: Additional Requests Example\n",
    "\"\"\"\n",
    "## Additional Requests Example\n",
    "\n",
    "Demonstrate how to make additional HTTP requests to fetch data from other pages.\n",
    "\"\"\"\n",
    "\n",
    "res = requests.get('https://finance.yahoo.com/markets/currencies/')\n",
    "print(\"Status Code for Currencies Page:\", res.status_code)"
   ]
  },
  {
   "cell_type": "code",
   "execution_count": null,
   "metadata": {},
   "outputs": [],
   "source": []
  }
 ],
 "metadata": {
  "kernelspec": {
   "display_name": "base",
   "language": "python",
   "name": "python3"
  },
  "language_info": {
   "codemirror_mode": {
    "name": "ipython",
    "version": 3
   },
   "file_extension": ".py",
   "mimetype": "text/x-python",
   "name": "python",
   "nbconvert_exporter": "python",
   "pygments_lexer": "ipython3",
   "version": "3.11.7"
  }
 },
 "nbformat": 4,
 "nbformat_minor": 2
}
